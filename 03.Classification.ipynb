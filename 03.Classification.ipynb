{
 "cells": [
  {
   "cell_type": "markdown",
   "metadata": {},
   "source": [
    "# Chapter 3. Classification"
   ]
  },
  {
   "cell_type": "markdown",
   "metadata": {},
   "source": [
    "1. Binary Classifiers\n",
    "\n",
    "    - Performance Measures\n",
    "\n",
    "    - Use Cross Validation (K-Folds)\n",
    "\n",
    "    - Confusion Matrix\n",
    "\n",
    "    - Metric Options\n",
    "        - Presicion\n",
    "        - Recall \n",
    "        - F1 score\n",
    "        - AUC ROC\n",
    "\n",
    "2. Multi-Class Classification\n",
    "\n",
    "3. Error Analysis\n",
    "\n",
    "4. Multilabel Classification\n",
    "\n",
    "5. Multioutput Classification (each label can be a multi class)"
   ]
  },
  {
   "cell_type": "markdown",
   "metadata": {},
   "source": [
    "## MNIST\n",
    "\n",
    "- In this chapter we will be using MNIST\n",
    "    - A dataset comprised of 70,000 small images\n",
    "    - Images represent handwritten digits by students & employees from the US census Bureau.\n",
    "- Each image is labeled with the digit it represents\n",
    "    - Ranging from 0 to 9\n",
    "        - 10 Digits\n",
    "- Scikit-learn provides many helper functions to download popular datasets:"
   ]
  },
  {
   "cell_type": "code",
   "execution_count": 2,
   "metadata": {},
   "outputs": [],
   "source": [
    "import numpy as np\n",
    "import pandas as pd\n",
    "import matplotlib.pyplot as plt\n",
    "import sklearn\n",
    "\n",
    "from sklearn.datasets import fetch_openml"
   ]
  },
  {
   "cell_type": "code",
   "execution_count": 3,
   "metadata": {
    "scrolled": true
   },
   "outputs": [
    {
     "data": {
      "text/plain": [
       "dict_keys(['data', 'target', 'feature_names', 'DESCR', 'details', 'categories', 'url'])"
      ]
     },
     "execution_count": 3,
     "metadata": {},
     "output_type": "execute_result"
    }
   ],
   "source": [
    "mnist = fetch_openml(name='mnist_784', version=1)\n",
    "mnist.keys()"
   ]
  },
  {
   "cell_type": "code",
   "execution_count": 5,
   "metadata": {},
   "outputs": [
    {
     "name": "stdout",
     "output_type": "stream",
     "text": [
      "5\n"
     ]
    },
    {
     "data": {
      "image/png": "[encoded data removed]",
      "text/plain": [
       "<Figure size 432x288 with 1 Axes>"
      ]
     },
     "metadata": {
      "needs_background": "light"
     },
     "output_type": "display_data"
    }
   ],
   "source": [
    "X, y = mnist['data'], mnist['target']\n",
    "X.shape, y.shape\n",
    "\n",
    "X, y = X[:35000], y[:35000]\n",
    "X.shape, y.shape\n",
    "\n",
    "# print one data point\n",
    "print(y[0])\n",
    "some_digit = X[0]\n",
    "some_digit_image = some_digit.reshape(28, 28)\n",
    "plt.imshow(some_digit_image, cmap='binary')\n",
    "plt.axis('off')\n",
    "plt.show()"
   ]
  },
  {
   "cell_type": "markdown",
   "metadata": {},
   "source": [
    "- Note that the label is a string, most algorithms expect numerical inputs so let's transform it:"
   ]
  },
  {
   "cell_type": "code",
   "execution_count": 6,
   "metadata": {},
   "outputs": [],
   "source": [
    "y = y.astype(np.int8)"
   ]
  },
  {
   "cell_type": "markdown",
   "metadata": {},
   "source": [
    "- But we should always start with splitting the data into train vs. test, right?"
   ]
  },
  {
   "cell_type": "code",
   "execution_count": 7,
   "metadata": {},
   "outputs": [
    {
     "data": {
      "text/plain": [
       "((30000, 784), (30000,), (5000, 784), (5000,))"
      ]
     },
     "execution_count": 7,
     "metadata": {},
     "output_type": "execute_result"
    }
   ],
   "source": [
    "X_train, y_train, X_test, y_test = X[:30000], y[:30000], X[30000:], y[30000:]\n",
    "X_train.shape, y_train.shape, X_test.shape, y_test.shape"
   ]
  },
  {
   "cell_type": "markdown",
   "metadata": {},
   "source": [
    "- Some ML algorithms are sensitive to ordered rows and can perform badly if instances from the same class are grouped together, the solution to this is to shuffle.\n",
    "    - MNIST's training data is already shuffled for us."
   ]
  },
  {
   "cell_type": "markdown",
   "metadata": {},
   "source": [
    "# Training a Binary Classifier\n",
    "- Let's simplify the problem for now and try to identify one digit (number **5**).\n",
    "- This \"5-detector\" is an example of a binary classifier, it will predict, for any row, 5 or not-5.\n",
    "- Let's create the target vector for the classification task:"
   ]
  },
  {
   "cell_type": "markdown",
   "metadata": {},
   "source": [
    "Let's take a fraction of the training data for the notebook to run fast locally:"
   ]
  },
  {
   "cell_type": "code",
   "execution_count": 20,
   "metadata": {},
   "outputs": [],
   "source": [
    "y_train_5 = (y_train == 5)\n",
    "y_test_5 = (y_test == 5)"
   ]
  },
  {
   "cell_type": "markdown",
   "metadata": {},
   "source": [
    "- A good place to start is with a [Stochastic Gradient Descent Classifier](https://towardsdatascience.com/how-to-make-sgd-classifier-perform-as-well-as-logistic-regression-using-parfit-cc10bca2d3c4):\n",
    "\n",
    "```\n",
    "Linear classifiers (SVM, logistic regression, a.o.) with SGD training.\n",
    "\n",
    "This estimator implements regularized linear models with stochastic gradient descent (SGD) learning: the gradient of the loss is estimated each sample at a time and the model is updated along the way with a decreasing strength schedule (aka learning rate). SGD allows minibatch (online/out-of-core) learning, see the partial_fit method. For best results using the default learning rate schedule, the data should have zero mean and unit variance.\n",
    "```"
   ]
  },
  {
   "cell_type": "code",
   "execution_count": 22,
   "metadata": {},
   "outputs": [
    {
     "data": {
      "text/plain": [
       "array([ True])"
      ]
     },
     "execution_count": 22,
     "metadata": {},
     "output_type": "execute_result"
    }
   ],
   "source": [
    "from sklearn.linear_model import SGDClassifier\n",
    "sgd_clf = SGDClassifier(n_jobs=-1, random_state=42)\n",
    "sgd_clf.fit(X=X_train, y=y_train_5)\n",
    "\n",
    "# Now we will use it to predict the digit of image at index 0:\n",
    "sgd_clf.predict(X=[some_digit])"
   ]
  },
  {
   "cell_type": "markdown",
   "metadata": {},
   "source": [
    "- .. and it's indeed a 5.\n",
    "- Now let's evaluate this model's performance:"
   ]
  },
  {
   "cell_type": "markdown",
   "metadata": {},
   "source": [
    "## Performance Measures\n",
    "\n",
    "- Evaluating a classifier is often significantly trickier than evaluating a regressor.\n",
    "- There are many performance measures available."
   ]
  },
  {
   "cell_type": "markdown",
   "metadata": {},
   "source": [
    "### Measuring Accuracy using Cross Validation"
   ]
  },
  {
   "cell_type": "code",
   "execution_count": 38,
   "metadata": {},
   "outputs": [
    {
     "name": "stdout",
     "output_type": "stream",
     "text": [
      "0.9458\n",
      "0.9634\n",
      "0.9603\n"
     ]
    }
   ],
   "source": [
    "from sklearn.model_selection import StratifiedKFold\n",
    "from sklearn.base import clone\n",
    "\n",
    "# 1. Using skfolds\n",
    "skfolds = StratifiedKFold(n_splits=3, random_state=42)\n",
    "\"\"\"\n",
    "Stratified K-Folds cross-validator\n",
    "\n",
    "Provides train/test indices to split data in train/test sets.\n",
    "\n",
    "This cross-validation object is a variation of KFold that returns stratified folds. \n",
    "The folds are made by preserving the percentage of samples for each class.\n",
    "\"\"\"\n",
    "\n",
    "for train_index, test_index in skfolds.split(X=X_train, y=y_train_5):\n",
    "    clone_clf = clone(sgd_clf)\n",
    "    X_train_folds = X_train[train_index]\n",
    "    y_train_folds = y_train_5[train_index]\n",
    "    X_test_folds = X_train[test_index]\n",
    "    y_test_folds = y_train_5[test_index]\n",
    "    clone_clf.fit(X_train_folds, y_train_folds)\n",
    "    y_pred = clone_clf.predict(X_test_folds)\n",
    "    num_correct = sum(y_pred == y_test_folds)\n",
    "    print(num_correct / len(y_pred))\n",
    "\n",
    "# 2. Train and test set split\n",
    "\n",
    "# from sklearn.model_selection import train_test_split\n",
    "\n",
    "# for i in range(3):\n",
    "#     clone_clf = clone(sgd_clf)\n",
    "#     X_train_folds, X_test_folds, y_train_folds, y_test_folds= train_test_split(X_train, \n",
    "#                                                                                y_train_5,\n",
    "#                                                                                test_size=0.3)\n",
    "#     clone_clf.fit(X_train_folds, y_train_folds)\n",
    "#     y_pred = clone_clf.predict(X_test_folds)\n",
    "#     num_correct = sum(y_pred == y_test_folds)\n",
    "#     print(num_correct / len(y_pred))"
   ]
  },
  {
   "cell_type": "markdown",
   "metadata": {},
   "source": [
    "- Alternatively, let's use `cross_val_score()` function to do Kfold cross validation where $K=3$:"
   ]
  },
  {
   "cell_type": "code",
   "execution_count": 42,
   "metadata": {},
   "outputs": [
    {
     "data": {
      "text/plain": [
       "array([0.95784036, 0.973     , 0.9585    , 0.97266667, 0.94649108])"
      ]
     },
     "execution_count": 42,
     "metadata": {},
     "output_type": "execute_result"
    }
   ],
   "source": [
    "from sklearn.model_selection import cross_val_score\n",
    "scores = cross_val_score(estimator=clone(sgd_clf), \n",
    "                         X=X_train, \n",
    "                         y=y_train_5, \n",
    "                         cv=5, \n",
    "                         scoring=\"accuracy\",\n",
    "                         n_jobs=-1)\n",
    "scores"
   ]
  },
  {
   "cell_type": "markdown",
   "metadata": {},
   "source": [
    "- Above $95\\%$ accuracy, isn't that great?\n",
    "- Let's look at the performance of a very dumb classifier that classifies all training rows as \"Not-5\":"
   ]
  },
  {
   "cell_type": "code",
   "execution_count": 43,
   "metadata": {},
   "outputs": [
    {
     "data": {
      "text/plain": [
       "array([0.91433333, 0.911     , 0.91016667, 0.90716667, 0.90583333])"
      ]
     },
     "execution_count": 43,
     "metadata": {},
     "output_type": "execute_result"
    }
   ],
   "source": [
    "from sklearn.base import BaseEstimator\n",
    "\n",
    "class Never5Classifier(BaseEstimator):\n",
    "    def fit(self, X, y=None):\n",
    "        pass\n",
    "    def predict(self, X):\n",
    "        return np.zeros(shape=(len(X),1), dtype=bool)\n",
    "\n",
    "never_5_classifier = Never5Classifier()\n",
    "\n",
    "scores = cross_val_score(estimator=never_5_classifier, \n",
    "                         X=X_train, \n",
    "                         y=y_train_5,\n",
    "                         cv=5, \n",
    "                         scoring=\"accuracy\", n_jobs=-1)\n",
    "scores"
   ]
  },
  {
   "cell_type": "markdown",
   "metadata": {},
   "source": [
    "- The dumb classifier has over 90% acccuracy for any validation.\n",
    "- This hapenned because of the class imabalance in the binary task we are aiming for:\n",
    "    - We originally had balanced counts for each digit.\n",
    "    - But when we turned the problem into 5 vs. non-5, we end up with the first class taking ~10% of the rows and non-5 taking >=90%.\n",
    "    - Hence, if you created a dumb model that just predicts \"non-5\" for any input, you'll get at least 90% accuracy.\n",
    "- This demonstrates why accuracy is generally not the preferred method to evaluate classifiers, especially if the data have imbalanced classes."
   ]
  },
  {
   "cell_type": "markdown",
   "metadata": {},
   "source": [
    "### Confusion Matrix\n",
    "\n",
    "- A much better way to evaluate the performance of a classifier is to look at its produced confusion matrix.\n",
    "- Let's use `cross_val_predict()` to get some predictions to finally visualize the confusion matrix:\n",
    "    - `corss_val_predict` returns the predictions made of the test fold.\n",
    "        - And because we are looping over the 3 folds, we endup with predictions for all data.\n",
    "- Let's take a look at the confusion matrix:"
   ]
  },
  {
   "cell_type": "code",
   "execution_count": 55,
   "metadata": {},
   "outputs": [
    {
     "name": "stdout",
     "output_type": "stream",
     "text": [
      "[[26515   776]\n",
      " [  529  2180]]\n",
      "0.7374830852503383\n",
      "0.8047249907715024\n",
      "0.7696381288614299\n"
     ]
    }
   ],
   "source": [
    "from sklearn.model_selection import cross_val_predict\n",
    "y_train_pred = cross_val_predict(estimator=sgd_clf, X=X_train, y=y_train_5, cv=3, n_jobs=-1)\n",
    "y_train_pred.shape\n",
    "\n",
    "from sklearn.metrics import confusion_matrix, precision_score, recall_score, f1_score\n",
    "print(confusion_matrix(y_true=y_train_5, y_pred=y_train_pred))\n",
    "print(precision_score(y_true=y_train_5, y_pred=y_train_pred))\n",
    "print(recall_score(y_true=y_train_5, y_pred=y_train_pred))\n",
    "print(f1_score(y_true=y_train_5, y_pred=y_train_pred))"
   ]
  },
  {
   "cell_type": "markdown",
   "metadata": {},
   "source": [
    "- Each row in the confusion matrix represents an actual class. While each column represents a predicted class.\n",
    "    - first row is \"not 5\"\n",
    "        - Model correctly predicted \"not 5\" for 54K \"not 5\"s\n",
    "            - True Negatives\n",
    "        - Model incorrectly predicted \"5\" for 687 \"not 5\"s\n",
    "            - False Positive\n",
    "    - second row is \"5\"\n",
    "        - Model incorrectly predicted \"not 5\" for 1891 \"5\"s\n",
    "            - False Negative\n",
    "        - Model correctly predicted \"5\" for 3530 \"5\"s\n",
    "            - True Positives\n",
    "- A perfect classifier would have only True Positives and True negatives, meaning the confusion matrix will have zeros on all elements except its diagonal.\n",
    "- Let's pretend we reached perfection:"
   ]
  },
  {
   "cell_type": "code",
   "execution_count": 53,
   "metadata": {
    "scrolled": true
   },
   "outputs": [
    {
     "data": {
      "text/plain": [
       "array([[27291,     0],\n",
       "       [    0,  2709]])"
      ]
     },
     "execution_count": 53,
     "metadata": {},
     "output_type": "execute_result"
    }
   ],
   "source": [
    "y_train_perfect_predictions = y_train_5.copy()\n",
    "confusion_matrix(y_true=y_train_5, y_pred=y_train_perfect_predictions)"
   ]
  },
  {
   "cell_type": "markdown",
   "metadata": {},
   "source": [
    "### Precision-Recall-F1\n",
    "- The confusion matrix gives you a lot of information, but sometimes you may prefer a single-number metric.\n",
    "- An interesting one to look at is the model's accuracy over its positive predictions, named *precision*:\n",
    "\n",
    "$$precision = \\frac{TP}{TP+FP}$$\n",
    "\n",
    "- A trivial way to have a perfect precision of $1$ is to make one prediction that you're sure it's correct, by consequence $FP=0$ and $precision=1$.\n",
    "    - This would not be useful since the evaluation is ignore all but the true positives.\n",
    "- Precision is typically used along with another metric named recall.\n",
    "- recall, also called sensitivity or the True Positive rate is as follows:\n",
    "\n",
    "$$recall = \\frac{TP}{TP+FN}$$\n",
    "\n",
    "- The recall score is not good at all.\n",
    "    - its dominator consists of TPs & **False Negatives**, we can conclude that our model is predicting a lot of digits as not \"5\" but they're \"5\"s.\n",
    "    - The model is not good at predicting False Negatives.\n",
    "- Now our model doesn't look as shiny as it was when we looked at its accuracy.\n",
    "- When it claims that a digit represents a \"5\" it's only correct for $83\\%$ of the times.\n",
    "- It's often convinient to combine the precision and accuracy scores into a single metric called the $F_{1}$ score.\n",
    "    - In particular, if you want to compare two classifiers.\n",
    "    - The $F_{1}$ score represents the harmonic mean of the precision & recall metrics.\n",
    "        - Harmonic because it gives more importance to low values in its formula.\n",
    "        - Meaning, the F1 score will only give you high scores if both precision and recall are high.\n",
    "\n",
    "$$F_{1}=\\frac{2}{\\frac{1}{precision}+\\frac{1}{recall}}=2 \\times \\frac{precision \\times recall}{precision + recall}$$\n",
    "\n",
    "\n",
    "### Precision-Recall Trade-off\n",
    "- To understand this trade-off, we need to know how the algorithm is making its decisions.\n",
    "- For each instance, the classifier outputs a score (we can call it a probability)\n",
    "- If the score is higher than a certain threshold, we label the instance as positive (a \"5\")\n",
    "- If the score is less than the threshold, we the instance as negative (a \"not 5\")\n",
    "\n",
    "<div style=\"text-align:center\"><img style=\"width: 50%\" src=\"static/imgs/precision-recall-trade.png\" /></div>\n",
    "\n",
    "- As you can notice, if we raise the threshold, precision converges to $100%$, but as a result, we lower the recall.\n",
    "    - Same happens to recall if we lower the threshold, we get a better recall (False Negatives are fewer) but we decrease precision. \n",
    "- Scikit-learn doesn't allow you to set the threshold directly, but it can give you the scores for each of its prediction.\n",
    "    - You can set the threshold you want after getting the scores:"
   ]
  },
  {
   "cell_type": "markdown",
   "metadata": {},
   "source": [
    "- How do you decide which threshold to use?"
   ]
  },
  {
   "cell_type": "code",
   "execution_count": 89,
   "metadata": {},
   "outputs": [
    {
     "data": {
      "image/png": "[encoded data removed]",
      "text/plain": [
       "<Figure size 432x288 with 1 Axes>"
      ]
     },
     "metadata": {
      "needs_background": "light"
     },
     "output_type": "display_data"
    }
   ],
   "source": [
    "\"\"\"\n",
    "\n",
    "How to get probabilities (percentages)?\n",
    "\n",
    "Use the predict_proba method.\n",
    "\n",
    "What is decision_function ?\n",
    "\n",
    "Since the SGDClassifier is a linear model, the decision_function outputs a signed distance to the separating hyperplane. \n",
    "\"\"\"\n",
    "y_scores = cross_val_predict(estimator=sgd_clf,\n",
    "                             X=X_train,\n",
    "                             y=y_train_5,\n",
    "                             cv=3,\n",
    "                             method='decision_function', \n",
    "                             n_jobs=-1)\n",
    "\n",
    "from sklearn.metrics import precision_recall_curve\n",
    "precision, recall, thresholds = precision_recall_curve(y_true=y_train_5,\n",
    "                                                       probas_pred=y_scores)\n",
    "\n",
    "def plot_precision_recall_vs_threshold(precisions, recalls, thresholds):\n",
    "    plt.plot(thresholds, precisions[:-1], \"b--\", label='Precision')\n",
    "    plt.plot(thresholds, recalls[:-1], \"g--\", label=\"Recall\")\n",
    "    plt.xlabel(\"Threshold\")\n",
    "    plt.grid()\n",
    "\n",
    "plot_precision_recall_vs_threshold(precision, recall, thresholds)\n",
    "plt.show()"
   ]
  },
  {
   "cell_type": "markdown",
   "metadata": {},
   "source": [
    "- You may wonder why the precision curve is bumpier than the recall curve.\n",
    "    - The reason is that the precision may sometimes go dows when you raise the threshold.\n",
    "    - You may lose precision by upping the threshold if you lose TPs while the FPs are still there\n",
    "    - But generally, precision should increase.\n",
    "- On the other hand recall is very smooth because..\n",
    "    - Because we we add another TN while moving the threshold, nothing changes in the score.\n",
    "- Another way to select a good precision and recall trade-off is to plot precision directly against recall:"
   ]
  },
  {
   "cell_type": "code",
   "execution_count": 61,
   "metadata": {},
   "outputs": [
    {
     "data": {
      "image/png": "[encoded data removed]",
      "text/plain": [
       "<Figure size 432x288 with 1 Axes>"
      ]
     },
     "metadata": {
      "needs_background": "light"
     },
     "output_type": "display_data"
    }
   ],
   "source": [
    "plt.plot(recall, precision)\n",
    "plt.xlabel('Recall')\n",
    "plt.ylabel('Precision')\n",
    "plt.grid()\n",
    "plt.show()"
   ]
  },
  {
   "cell_type": "markdown",
   "metadata": {},
   "source": [
    "- You can see the precision really starts to fall sharply around 80% recall.\n",
    "- You would probably want to select a precision/recall trade-off just before **that drop**.\n",
    "    - For example, at around $60\\%$ recall.\n",
    "        - But ofcoures, the choice depends on your project.\n",
    "- Suppose you want to aim for $90\\%$ precision, you would look up the first graph to get the threshold\n",
    "    - and lookup the second graph to find the best Recall you can get with a precision of $90\\%$.\n",
    "- Implementation: Search for the lowest threshold that give at least $90\\%$ precision score:"
   ]
  },
  {
   "cell_type": "code",
   "execution_count": 78,
   "metadata": {},
   "outputs": [
    {
     "name": "stdout",
     "output_type": "stream",
     "text": [
      "0.9003181336161188 0.6267995570321152\n"
     ]
    }
   ],
   "source": [
    "threshold_90_precision = thresholds[np.argmax(precision > .9)]\n",
    "y_train_pred_90 = (y_scores > threshold_90_precision)\n",
    "precision = precision_score(y_true=y_train_5, y_pred=y_train_pred_90)\n",
    "recall = recall_score(y_train_5, y_train_pred_90)\n",
    "print(precision, recall)"
   ]
  },
  {
   "cell_type": "markdown",
   "metadata": {},
   "source": [
    "- But remember that a high precision classifier is not good at all with a low recall.\n",
    "- If someone shouts: \"Let's reach a 99% precision score\", you should ask: \"But at what Recall?\""
   ]
  },
  {
   "cell_type": "markdown",
   "metadata": {},
   "source": [
    "### The ROC Curve\n",
    "\n",
    "- The receiver operating characteristic curve is another tool used with binary classifiers.\n",
    "- ROC plots TP rate versus FP rate\n",
    "    - ROC plots recall versus 1 - specificity\n",
    "\n",
    "- The Higher the recall, the more false positives the model produces.\n",
    "- The dotted line represent the ROC curve of a completely random classifier.\n",
    "- A good classifier stays as far a way as possible from the dotted line.\n",
    "- One way to compare classifiers is to measure the area under the curve (AUC).\n",
    "    - A perfect classifier will have an ROC AUC of 1.\n",
    "    - A purely random classifier will have an ROC AUC of 0.5.\n",
    "- Example:"
   ]
  },
  {
   "cell_type": "code",
   "execution_count": 81,
   "metadata": {},
   "outputs": [
    {
     "data": {
      "image/png": "[encoded data removed]",
      "text/plain": [
       "<Figure size 432x288 with 1 Axes>"
      ]
     },
     "metadata": {
      "needs_background": "light"
     },
     "output_type": "display_data"
    },
    {
     "name": "stdout",
     "output_type": "stream",
     "text": [
      "0.9509867800410808\n"
     ]
    }
   ],
   "source": [
    "from sklearn.metrics import roc_curve, roc_auc_score\n",
    "fpr, tpr, thresholds = roc_curve(y_true=y_train_5,\n",
    "                                 y_score=y_scores)\n",
    "\n",
    "def plot_roc_curve(fpr, tpr, label=None):\n",
    "    plt.plot(fpr, tpr, linewidth=2, label=label)\n",
    "    plt.plot([0,1], [0,1], 'k--', label='Random')\n",
    "    plt.grid()\n",
    "    plt.xlabel(\"False Positive Rate\")\n",
    "    plt.ylabel(\"True Positive Rate\")\n",
    "\n",
    "plot_roc_curve(fpr, tpr, label='SGD')\n",
    "plt.legend(loc='lower right')\n",
    "plt.show()\n",
    "\n",
    "print(roc_auc_score(y_train_5, y_scores))"
   ]
  },
  {
   "cell_type": "markdown",
   "metadata": {},
   "source": [
    "- Let's now train a `RandomForestClassifier` to compare its ROC Curve and ROC AUC score to the `SGDClassifier`'s:"
   ]
  },
  {
   "cell_type": "code",
   "execution_count": 88,
   "metadata": {},
   "outputs": [
    {
     "data": {
      "image/png": "[encoded data removed]",
      "text/plain": [
       "<Figure size 432x288 with 1 Axes>"
      ]
     },
     "metadata": {
      "needs_background": "light"
     },
     "output_type": "display_data"
    },
    {
     "data": {
      "text/plain": [
       "0.9921782134037131"
      ]
     },
     "execution_count": 88,
     "metadata": {},
     "output_type": "execute_result"
    }
   ],
   "source": [
    "from sklearn.ensemble import RandomForestClassifier\n",
    "\n",
    "forest_clf = RandomForestClassifier(random_state=42)\n",
    "y_probas_forest = cross_val_predict(estimator=forest_clf, \n",
    "                                    X=X_train, \n",
    "                                    y=y_train_5, \n",
    "                                    cv=5, \n",
    "                                    n_jobs=-1, \n",
    "                                    method='predict_proba')\n",
    "y_scores_forest = y_probas_forest[:, 1] # 2 columns, added up equal to 1\n",
    "fpr_forest, tps_forest, threshs_forest = roc_curve(y_true=y_train_5, \n",
    "                                                   y_score=y_scores_forest)\n",
    "\n",
    "plt.plot(fpr, tpr, 'b:', label='SGD')\n",
    "plot_roc_curve(fpr_forest, tps_forest, label=\"Random Forest\")\n",
    "plt.legend(loc=\"lower right\")\n",
    "plt.show()\n",
    "roc_auc_score(y_train_5, y_scores_forest)"
   ]
  },
  {
   "cell_type": "markdown",
   "metadata": {},
   "source": [
    "- You now know how to ...\n",
    "    - train classifiers\n",
    "    - choose the appropriate metric for your task\n",
    "    - evaluate your classifier using cross-validation\n",
    "    - select the precision-recall ratio that fits your needs\n",
    "    - use ROC and ROC AUC to compare various models.\n",
    "- Time to move to multiclass classification (beyond binary classification):"
   ]
  },
  {
   "cell_type": "markdown",
   "metadata": {},
   "source": [
    "## Multiclass Classification\n",
    "\n",
    "- There are techniques you can use to perform multiclass classification with binary classifiers.\n",
    "- One way to create a system that can classify an image into 10 labels (from 0 to 9) is to train 10 binary classifiers.\n",
    "    - One for each digit.\n",
    "    - Then when you want to classify an image, you get each classifier's associated positive score and just pick the model class w/ the highest score.\n",
    "    - This is called one-versus-the-rest startegy, or 1-vs-all.\n",
    "- Another startegy is to train a binary classifier for each pair of digits.\n",
    "    - This is called 1-vs-1.\n",
    "    - If there are $N$ classes, you need to train $\\frac{N \\times (N-1)}{2}$.\n",
    "    - For the MNIST Problem, this means training $45$ binary classifiers.\n",
    "    - **and see which class wins the most duals**.\n",
    "    - Even though we need to create many classifiers, they are needed to be trained on only the data points where one of the classes appeared.\n",
    "- Scikit-learn detects when you try to use a binary classification algorithm for a multiclass classification problem\n",
    "    - It then automatically use OvO or OvR depending on the algorithm to train."
   ]
  },
  {
   "cell_type": "code",
   "execution_count": 8,
   "metadata": {},
   "outputs": [
    {
     "data": {
      "text/plain": [
       "((30000, 784), (30000,))"
      ]
     },
     "execution_count": 8,
     "metadata": {},
     "output_type": "execute_result"
    }
   ],
   "source": [
    "from sklearn.svm import LinearSVC\n",
    "svm_clf = LinearSVC()\n",
    "X_train.shape, y_train.shape"
   ]
  },
  {
   "cell_type": "markdown",
   "metadata": {},
   "source": [
    "[Linear Support Vector Classification](https://scikit-learn.org/stable/modules/generated/sklearn.svm.LinearSVC.html).\n",
    "\n",
    "Similar to SVC with parameter kernel=’linear’, but implemented in terms of liblinear rather than libsvm, so it has more flexibility in the choice of penalties and loss functions and should scale better to large numbers of samples.\n",
    "\n",
    "This class supports both dense and sparse input and the multiclass support is handled according to a one-vs-the-rest scheme.\n",
    "\n",
    "```\n",
    "If you used the default kernel in SVC(), the Radial Basis Function (rbf) kernel, then you probably learned a more nonlinear decision boundary. In the case of the digits dataset, this will vastly outperform a linear decision boundary on this task (see 3.1 'Baseline Linear Classifier')\n",
    "```"
   ]
  },
  {
   "cell_type": "code",
   "execution_count": 9,
   "metadata": {},
   "outputs": [
    {
     "name": "stderr",
     "output_type": "stream",
     "text": [
      "/Library/Frameworks/Python.framework/Versions/3.7/lib/python3.7/site-packages/sklearn/svm/base.py:929: ConvergenceWarning: Liblinear failed to converge, increase the number of iterations.\n",
      "  \"the number of iterations.\", ConvergenceWarning)\n"
     ]
    },
    {
     "data": {
      "text/plain": [
       "array([3], dtype=int8)"
      ]
     },
     "execution_count": 9,
     "metadata": {},
     "output_type": "execute_result"
    }
   ],
   "source": [
    "svm_clf.fit(X=X_train, y=y_train)\n",
    "svm_clf.predict([some_digit])"
   ]
  },
  {
   "cell_type": "markdown",
   "metadata": {},
   "source": [
    "- In this case, the Support Vector Classifier used `OvO` to predict the class of `some_digit`\n",
    "    - Where it tries $N*(N-1)/2$ classifier for all pairs of classes.\n",
    "    - After input a new sample, it runs all 45 trained models and picks the one who won the most duals.\n",
    "- If we inspect the score for a specific instance input, we will notice that the model outputs 10 scores, for each digit.\n",
    "    - Meaning a performance of each digit versus all others. "
   ]
  },
  {
   "cell_type": "code",
   "execution_count": 10,
   "metadata": {},
   "outputs": [
    {
     "name": "stdout",
     "output_type": "stream",
     "text": [
      "[[-2.56324982 -7.90271621 -1.25557232 -0.06747006 -5.26082335 -0.37934801\n",
      "  -5.35655016 -5.05138007 -3.68967459 -4.0860817 ]]\n",
      "3\n",
      "[0 1 2 3 4 5 6 7 8 9]\n",
      "3\n"
     ]
    }
   ],
   "source": [
    "some_digit_scores = svm_clf.decision_function(X=[some_digit])\n",
    "print(some_digit_scores)\n",
    "print(np.argmax(some_digit_scores))\n",
    "print(svm_clf.classes_)\n",
    "print(svm_clf.classes_[np.argmax(some_digit_scores)])"
   ]
  },
  {
   "cell_type": "markdown",
   "metadata": {},
   "source": [
    "- If you want to force your algorithms to follow a particular startegy, `OvO` or `OvR` for example:"
   ]
  },
  {
   "cell_type": "code",
   "execution_count": 12,
   "metadata": {},
   "outputs": [
    {
     "name": "stdout",
     "output_type": "stream",
     "text": [
      "10\n"
     ]
    }
   ],
   "source": [
    "from sklearn.multiclass import OneVsRestClassifier\n",
    "ovr_clf = OneVsRestClassifier(estimator=LinearSVC(), n_jobs=-1)\n",
    "ovr_clf.fit(X=X_train, y=y_train)\n",
    "ovr_clf.predict([some_digit])\n",
    "print(len(ovr_clf.estimators_))"
   ]
  },
  {
   "cell_type": "markdown",
   "metadata": {},
   "source": [
    "- SGD or Random Forest Classifiers can directly classify an instance into multiple classes:"
   ]
  },
  {
   "cell_type": "code",
   "execution_count": 15,
   "metadata": {},
   "outputs": [
    {
     "data": {
      "text/plain": [
       "array([0.87824783, 0.82422526, 0.85585736, 0.88610972, 0.86140761])"
      ]
     },
     "execution_count": 15,
     "metadata": {},
     "output_type": "execute_result"
    }
   ],
   "source": [
    "from sklearn.linear_model import SGDClassifier\n",
    "from sklearn.model_selection import cross_val_score\n",
    "sgd_clf = SGDClassifier(n_jobs=-1, random_state=42)\n",
    "sgd_clf.fit(X_train, y_train)\n",
    "sgd_clf.predict([some_digit])\n",
    "sgd_clf.decision_function([some_digit])\n",
    "cross_val_score(estimator=sgd_clf, \n",
    "                X=X_train, \n",
    "                y=y_train, \n",
    "                cv=5, \n",
    "                scoring='accuracy', \n",
    "                n_jobs=-1)"
   ]
  },
  {
   "cell_type": "markdown",
   "metadata": {},
   "source": [
    "- It gets over 84% over all test folds.\n",
    "    - If you use a random classifier, you would get 10% accuracy, so 80% isn't that bad.\n",
    "- But we can do much better, by simply scaling the input, we can push accuracy to over 86%:"
   ]
  },
  {
   "cell_type": "code",
   "execution_count": 17,
   "metadata": {},
   "outputs": [
    {
     "data": {
      "text/plain": [
       "array([0.90739507, 0.90503166, 0.89218464, 0.90628648, 0.90226818])"
      ]
     },
     "execution_count": 17,
     "metadata": {},
     "output_type": "execute_result"
    }
   ],
   "source": [
    "from sklearn.preprocessing import StandardScaler\n",
    "scaler=StandardScaler()\n",
    "X_train_scaled = scaler.fit_transform(X=X_train.astype(np.float64))\n",
    "cross_val_score(estimator=sgd_clf, X=X_train_scaled, y=y_train, scoring='accuracy', cv=5, n_jobs=-1)"
   ]
  },
  {
   "cell_type": "markdown",
   "metadata": {},
   "source": [
    "## Error Analysis\n",
    "\n",
    "- If this were a real machine learning project, you would need to follow the steps in your checklist:\n",
    "    - You'd explore data preparation options.\n",
    "    - Try out, shortlisting, & hyper-parameter finetuning multiple models.\n",
    "    - & don't forget to automate as much as possible.\n",
    "- Here, we will assume that you have found a promissing model and that you want to improve it.\n",
    "    - One of the few ways is to analyze the types of errors it makes.\n",
    "- First, let's look at the confusion matrix:"
   ]
  },
  {
   "cell_type": "code",
   "execution_count": 20,
   "metadata": {},
   "outputs": [
    {
     "data": {
      "image/png": "[encoded data removed]",
      "text/plain": [
       "<Figure size 288x288 with 1 Axes>"
      ]
     },
     "metadata": {
      "needs_background": "light"
     },
     "output_type": "display_data"
    }
   ],
   "source": [
    "from sklearn.model_selection import cross_val_predict \n",
    "from sklearn.metrics import confusion_matrix\n",
    "y_train_predict = cross_val_predict(estimator=sgd_clf,\n",
    "                                    X=X_train_scaled,\n",
    "                                    y=y_train, cv=5,\n",
    "                                    n_jobs=-1)\n",
    "conf_mtrx = confusion_matrix(y_true=y_train, y_pred=y_train_predict)\n",
    "row_sums = conf_mtrx.sum(axis=1, keepdims=True)\n",
    "normed_conf_mtrx = conf_mtrx/row_sums\n",
    "np.fill_diagonal(normed_conf_mtrx, val=0)\n",
    "plt.matshow(A=normed_conf_mtrx, cmap=plt.cm.gray)\n",
    "plt.show()"
   ]
  },
  {
   "cell_type": "markdown",
   "metadata": {},
   "source": [
    "- We can clearly see the kind of errors the classifier makes.\n",
    "- Remember that the rows represent acutal labels and the columns represent the predicted class.\n",
    "- The column of class 8 is quite bright, which tells us that many input images get misclassified as 8s.\n",
    "- However, the row for 8s is not that bad, telling us that when given input images of 8s, the model does a good job of classifying them as 8s.\n",
    "- As you can see, the confusion matrix is not necessarly symmetrical.\n",
    "- In our specific example, 3s and 5s are often confused.\n",
    "- Analyzing your confusion matrix often gives you insights into how to improve the classifier itself.\n",
    "- Looking at this plot, it seems that our efforts should be focused on reducing the false 8s.\n",
    "- For example, you could try collecting images of digits that look like 8s but are not, then training the classifier to better distinguish.\n",
    "- Analyzing your errors could be also a good way into knowing what the model is learning and why is it failling."
   ]
  },
  {
   "cell_type": "markdown",
   "metadata": {},
   "source": [
    "## Multilabel Classification\n",
    "\n",
    "- In some cases, you want your classifier to output multiple classes per instance.\n",
    "    - e.g. Face recognition in images.\n",
    "        - What should it do when it recognizes several people in a picture?\n",
    "- Such system that outputs multiple binary scores that don't necessarly sum up to 1 is called a multilabel classifier.\n",
    "- Let's go through a simple example:"
   ]
  },
  {
   "cell_type": "code",
   "execution_count": 29,
   "metadata": {},
   "outputs": [
    {
     "data": {
      "text/plain": [
       "array([False,  True])"
      ]
     },
     "execution_count": 29,
     "metadata": {},
     "output_type": "execute_result"
    }
   ],
   "source": [
    "from sklearn.neighbors import KNeighborsClassifier\n",
    "y_train_large = (y_train>=7)\n",
    "y_train_odd = (y_train % 2 == 1)\n",
    "y_multilabel = np.c_[y_train_large, y_train_odd]\n",
    "y_multilabel[0]"
   ]
  },
  {
   "cell_type": "code",
   "execution_count": 30,
   "metadata": {},
   "outputs": [
    {
     "data": {
      "text/plain": [
       "array([[False,  True]])"
      ]
     },
     "execution_count": 30,
     "metadata": {},
     "output_type": "execute_result"
    }
   ],
   "source": [
    "knn_clf = KNeighborsClassifier(n_jobs=-1)\n",
    "knn_clf.fit(X=X_train, y=y_multilabel)\n",
    "knn_clf.predict(X=[some_digit])"
   ]
  },
  {
   "cell_type": "code",
   "execution_count": 31,
   "metadata": {},
   "outputs": [
    {
     "data": {
      "text/plain": [
       "<matplotlib.image.AxesImage at 0x1337bf780>"
      ]
     },
     "execution_count": 31,
     "metadata": {},
     "output_type": "execute_result"
    },
    {
     "data": {
      "image/png": "[encoded data removed]",
      "text/plain": [
       "<Figure size 432x288 with 1 Axes>"
      ]
     },
     "metadata": {
      "needs_background": "light"
     },
     "output_type": "display_data"
    }
   ],
   "source": [
    "plt.imshow(some_digit.reshape(28, 28), cmap='binary')"
   ]
  },
  {
   "cell_type": "markdown",
   "metadata": {},
   "source": [
    "- Got it right! 5 is indeed less than 7 and odd.\n",
    "- There are many ways to evaluate a multilabel classifier, selecting the best metrics will depend on your project.\n",
    "- One approach is to simply calculate $F_1$ score for each label category, then average all scores into one number:"
   ]
  },
  {
   "cell_type": "code",
   "execution_count": 33,
   "metadata": {},
   "outputs": [
    {
     "data": {
      "text/plain": [
       "0.9720267778020544"
      ]
     },
     "execution_count": 33,
     "metadata": {},
     "output_type": "execute_result"
    }
   ],
   "source": [
    "from sklearn.metrics import f1_score\n",
    "y_train_knn_pred = cross_val_predict(estimator=knn_clf, \n",
    "                                     X=X_train, \n",
    "                                     y=y_multilabel, \n",
    "                                     cv=5, n_jobs=-1)\n",
    "\n",
    "score = f1_score(y_multilabel, y_train_knn_pred, average=\"macro\")\n",
    "score"
   ]
  },
  {
   "cell_type": "markdown",
   "metadata": {},
   "source": [
    "- This assumes that all label categories are equally important, which may not be true.\n",
    "- In particular, if you have more pictures of alice than bob you may want to give more weight to bob pics in evaluation.\n",
    "    - This is called unbalanced classes within a label category.\n",
    "    - One simple way to do it is to give each class a score corresponding to it support.\n",
    "        - The less samples we have of bob, the more important one score of him is."
   ]
  },
  {
   "cell_type": "markdown",
   "metadata": {},
   "source": [
    "## Multioutput Classification\n",
    "\n",
    "- The last type of classification we will discuss is called multioutput-multiclass classification.\n",
    "    - Example. Identifying animals in a picture & for each animal we have N classes.\n",
    "    - Meaning, each label can be multiclass.\n",
    "- To demonstrate this, let's build a system that removes noise from images.\n",
    "- It will take as input, the noisy digit images, and will hopefully output an image that look like the original one from the dataset.\n",
    "- Notice that the system is a multioutput classification one\n",
    "    - Output: 728 pixels, each pixel intensity ranges from 0 to 255.\n",
    "- Let's start with training data by adding a mask of noise, the original image will serve as the output (target):"
   ]
  },
  {
   "cell_type": "code",
   "execution_count": 36,
   "metadata": {},
   "outputs": [
    {
     "data": {
      "image/png": "[encoded data removed]",
      "text/plain": [
       "<Figure size 432x288 with 2 Axes>"
      ]
     },
     "metadata": {
      "needs_background": "light"
     },
     "output_type": "display_data"
    }
   ],
   "source": [
    "noise = np.random.randint(low=0, high=100, size=(X_train.shape[0], 784))\n",
    "X_train_mod = X_train + noise\n",
    "X_train_mod.shape\n",
    "\n",
    "noise = np.random.randint(low=0, high=100, size=(X_test.shape[0], 784))\n",
    "X_test_mod = X_test + noise\n",
    "X_test_mod.shape\n",
    "\n",
    "y_train_mod = X_train.copy()\n",
    "y_test_mod = X_test.copy()\n",
    "\n",
    "fig, ax = plt.subplots(nrows=1, ncols=2)\n",
    "ax[0].imshow(X_train_mod[4:5].reshape(28, 28), cmap='binary'); \n",
    "ax[0].axis('off')\n",
    "ax[1].imshow(y_train_mod[4:5].reshape(28, 28), cmap='binary'); \n",
    "ax[1].axis('off')\n",
    "plt.show()"
   ]
  },
  {
   "cell_type": "markdown",
   "metadata": {},
   "source": [
    "- Now let's train the classifier to clean this image:"
   ]
  },
  {
   "cell_type": "code",
   "execution_count": 35,
   "metadata": {},
   "outputs": [
    {
     "data": {
      "image/png": "[encoded data removed]",
      "text/plain": [
       "<Figure size 432x288 with 2 Axes>"
      ]
     },
     "metadata": {
      "needs_background": "light"
     },
     "output_type": "display_data"
    }
   ],
   "source": [
    "knn_clf.fit(X=X_train_mod, y=y_train_mod)\n",
    "clean_digit = knn_clf.predict(X=[X_test_mod[234]]).reshape(28, 28)\n",
    "fig, ax = plt.subplots(nrows=1, ncols=2)\n",
    "ax[0].imshow(clean_digit, cmap='binary'); \n",
    "ax[0].axis('off')\n",
    "ax[1].imshow(X_test_mod[234].reshape(28, 28), cmap='binary'); \n",
    "ax[1].axis('off')\n",
    "plt.show()"
   ]
  },
  {
   "cell_type": "markdown",
   "metadata": {},
   "source": [
    "- Looks close enough to the target\n",
    "- And with this, we finish our classification chapter."
   ]
  }
 ],
 "metadata": {
  "kernelspec": {
   "display_name": "Python 3",
   "language": "python",
   "name": "python3"
  },
  "language_info": {
   "codemirror_mode": {
    "name": "ipython",
    "version": 3
   },
   "file_extension": ".py",
   "mimetype": "text/x-python",
   "name": "python",
   "nbconvert_exporter": "python",
   "pygments_lexer": "ipython3",
   "version": "3.7.0"
  }
 },
 "nbformat": 4,
 "nbformat_minor": 2
}
