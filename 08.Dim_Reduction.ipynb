{
 "cells": [
  {
   "cell_type": "markdown",
   "metadata": {},
   "source": [
    "# Chapter 8. Dimensionality Reduction\n",
    "> This chapter focuses on the techniques to overcome the difficulty of high dimensional data. These datasets often cannot be held in memory together and/or demand a huge computational cost. By reducing dimensionality, we can minimize or eliminate these problems often with little/no cost to model performance (or even sometimes improved performance)!"
   ]
  },
  {
   "cell_type": "markdown",
   "metadata": {},
   "source": [
    "1. Manifold Learning\n",
    "\n",
    "    - Unfolding a lower dimensional manifold from a higher dimensional space\n",
    "    - Manifold Hypothesis: \"most real-world high-dimensional datasets lie close to a much lower-dimensional manifold\".\n",
    "    - Think of the Swiss Roll example!\n",
    "\n",
    "2. PCA (Principal Component Analysis)\n",
    "\n",
    "    - Transforms the higher dimensional data to orthogonal vectors that capture the majority of the variance (the principal components)\n",
    "\n",
    "    - Side Note: If you do PCA on the covariance of stock returns, the first principal component is the relative weighting of market capitalization (thus the makeup of the S&P 500 ETF)\n",
    "\n",
    "    - Used for data compression\n",
    "\n",
    "    - PCA Generation for data too large for memory\n",
    "\n",
    "        - Incremental PCA\n",
    "        - Randomized PCA\n",
    "        - Kernel PCA (kPCA)\n",
    "\n",
    "3. LLE (Logically Linear Embedding)\n",
    "\n",
    "    - Nonlinear Dimensionality Reduction\n",
    "    - \"Works by first measuring how each training instance linearly relates to its closest neighbors (hyperparameter) and then looks for a low-dimensional representation of the training set where the local realtionships are best preserved\".\n",
    "    - \"Good at unrolling manifolds when there is not too much noise.\"\n",
    "    - Does not preserve Large scale relationships\n",
    "\n",
    "4. Multidimensional Scaling (MDS)\n",
    "\n",
    "5. Isomap: Preserve geodesic (number of edges in a graph) distances\n",
    "6. t-Distributed Stochastic Neighbor Embedding (t-SNE): Best to visualize clusters of high dimensional space\n",
    "7. Linear Discriminant Analysis (LDA): Actually a classifier that can find best hyperplane for projection, which sets up data for another classifier (e.g. SVM)"
   ]
  },
  {
   "cell_type": "markdown",
   "metadata": {},
   "source": [
    "- Many ML problems will involve thousands or even millions of features per instance.\n",
    "- Not only all of these features make training extremly slow, but they can also make it much harder for an optimization method to find a good solution.\n",
    "- This problem is often referred to as the **curse of dimensionality**.\n",
    "- In real world problem, it is often possible to reduce the number of features considerably.\n",
    "    - Turning an intractable problem into a tractable one.\n",
    "- The goal is to remove the maximum number of features while minimizing information loss that relates to a specific task\n",
    "    - Task example — Classifying MNIST digits.\n",
    "- Reducing dimensionality does cause some information loss.\n",
    "- It also makes your pipeline a bit more complex and thus harder to maintain.\n",
    "- Dimensionality reduction is usually conducted to **speed up training**.\n",
    "- Dimensionality reduction is also extremly useful for data visualization.\n",
    "    - Taking it down to 2/3 dimensions for your data set will allow you visualize it in a 2/3D space.\n",
    "- DataViz is also important to communicate your findings to people who are not data scientists.\n",
    "    - In Particular, decision makers who will use your results.\n",
    "- In this chapter we will:\n",
    "    - Discuss the curse of dimenstionality.\n",
    "    - Get a sense of what goes on in a high-dimenstional space.\n",
    "    - Consider the main two approaches to dimensionality reduction:\n",
    "        - Projection\n",
    "        - Manifold Learning\n",
    "    - Go through 3 popular dimensionality reduction techniques:\n",
    "        - PCA\n",
    "        - Kernel PCA\n",
    "        - LLE"
   ]
  },
  {
   "cell_type": "markdown",
   "metadata": {},
   "source": [
    "## The Curse of Dimensionality"
   ]
  },
  {
   "cell_type": "markdown",
   "metadata": {},
   "source": [
    "- We are so used to living in three dimensions\n",
    "    - 4 if you consider time, and a few more if you are a string theorist.\n",
    "- It turns out that many things behave very differently in high-dimensional spaces.\n",
    "- If you pick a random point in a unit square, it will have ~0.4% chance of being located at <0.001 from a border.\n",
    "- But in a 1,000-dimensional hyper-cube the probability is >99.999999%.\n",
    "    - Most points in a high-dimensional space are very close to the border.\n",
    "- Same goes to distances betweeen points, If you pick two random points in a lower dimensional space, they will be closer in comparison to picking them from a high-dimensional space.\n",
    "- **There is just plenty of space in a high-dimensional one!**\n",
    "\n",
    "Disadvantage\n",
    "- High-dimensional datasets are at risk of being too sparse.\n",
    "- High dimensional data restricts the choice of data processing methods.\n",
    "- The most dimensions a dataset has, the more risk it is to overfit it."
   ]
  },
  {
   "cell_type": "markdown",
   "metadata": {},
   "source": [
    "## Main Approaches to Dimensionality Reduction"
   ]
  },
  {
   "cell_type": "markdown",
   "metadata": {},
   "source": [
    "### Projection"
   ]
  },
  {
   "cell_type": "markdown",
   "metadata": {},
   "source": [
    "- In most real-world problems, training instances are not spread out uniformly across the dimensions.\n",
    "    - Many features are almost constant, while others are highly correlated.\n",
    "- <font color='red'> As a result, all training instances like close to a much-lower dimensional **subspace** of the high-dimensional space.</font>\n",
    "- Here is an example of that:\n",
    "\n",
    "<div style=\"text-align:center;\">\n",
    "    <img style=\"width:50%\" src=\"static/imgs/subspace_projection.png\" />\n",
    "</div>\n",
    "\n",
    "- If we perpenducarly project every training instance into the subspace, we get a new 2D dataset represented as follows:\n",
    "\n",
    "<div style=\"text-align:center;\">\n",
    "    <img style=\"width:50%\" src=\"static/imgs/2d_projection.png\" />\n",
    "</div>\n",
    "\n",
    "- However, projection is not always to best approach to dimensionality reduction.\n",
    "    - In many case the subspace may twist & turn."
   ]
  },
  {
   "cell_type": "markdown",
   "metadata": {},
   "source": [
    "### Manifold Learning"
   ]
  },
  {
   "cell_type": "markdown",
   "metadata": {},
   "source": [
    "- Mathematics Definition, a manifold is a topological space that locally resembles Euclidean space near each point. \n",
    "    - A 2D manifold is a 2D shape that can be bent & twisted in a higher-dimensional space.\n",
    "    - More generally, a d-dimensional manifold is part of an n-dimensional space `(where d < n)`, that locally resembles a d-dimensional hyperplace.\n",
    "- Many dimensionality reduction algorithms work by modeling the manifold on which the training instances lie, this is called **Manifold Learning**.\n",
    "    - It relies on the *manifold assumption*, also called the *manifold hypothesis*.\n",
    "        - Which holds that most real world high-dimensional datasets lie close to a much lower-dimensional manifold.\n",
    "            - **This assumption is very often empirically observed**.\n",
    "- Thought experiment\n",
    "    - If you were to generate random images on a 28x28 grid, only a very small fraction of them would look like handwritten digits.\n",
    "    - In other words, the degrees of freedom available to you if you were to create a digit image are very low compared to the degree of freedom you have when you want to create any image you want (random).\n",
    "    - **These constraints tend to squeeze the dataset into a lower-dimensional manifold**.\n",
    "\n",
    "---\n",
    "- An implicit additional assumption is that the task at hand (being regression or classification) would be much easier if conducted on the lower dimensional manifold space.\n",
    "    - This assumption does not always hold.\n",
    "    - Examples to follow:\n",
    "\n",
    "<div style=\"text-align:center;\">\n",
    "    <img style=\"width:50%\" src=\"static/imgs/manifold_classification.png\" />\n",
    "</div>\n",
    "\n",
    "- <font color='red'> In short, reducing the dimensionality of your dataset will speed up training, but it doesn't guarantee a simpler solution. \n",
    "    - It all depends on the dataset and the task at hand. </font>\n",
    "- Now we will go through some of the most popular dimensionality reduction algorithms."
   ]
  },
  {
   "cell_type": "markdown",
   "metadata": {},
   "source": [
    "Linear Dimensionality Reduction Methods\n",
    "The most common and well known dimensionality reduction methods are the ones that apply linear transformations, like\n",
    "1. PCA (Principal Component Analysis) : Popularly used for dimensionality reduction in continuous data, PCA rotates and projects data along the direction of increasing variance. The features with the maximum variance are the principal components.\n",
    "2. Factor Analysis : a technique that is used to reduce a large number of variables into fewer numbers of factors. The values of observed data are expressed as functions of a number of possible causes in order to find which are the most important. The observations are assumed to be caused by a linear transformation of lower dimensional latent factors and added Gaussian noise.\n",
    "3. LDA (Linear Discriminant Analysis): projects data in a way that the class separability is maximised. Examples from same class are put closely together by the projection. Examples from different classes are placed far apart by the projection"
   ]
  },
  {
   "cell_type": "markdown",
   "metadata": {},
   "source": [
    "## PCA"
   ]
  },
  {
   "cell_type": "markdown",
   "metadata": {},
   "source": [
    "- Principal Component Analysis is by far the most popular dimensionality reduction algorithm.\n",
    "- First, **It identifies the hyperplane that lies closest to the data**.\n",
    "- Then, **It projects the data into it**."
   ]
  },
  {
   "cell_type": "markdown",
   "metadata": {},
   "source": [
    "### Preserving the Variance"
   ]
  },
  {
   "cell_type": "markdown",
   "metadata": {},
   "source": [
    "- We want to choose a hyperplace that most preserves tha variance within the data, following is attempted projections for 3 chosen hyperplanes (1D axis):\n",
    "\n",
    "<div style=\"text-align:center;\">\n",
    "    <img style=\"width:66%\" src=\"static/imgs/2D_variance_projection.png\" />\n",
    "</div>\n",
    "\n",
    "- Reason1: It seems reasonable to select the axis that preserves the maximum amount of variance.\n",
    "    - As it will most likely lose less information than other projections.\n",
    "- Reason2: Another way of looking at it is by choosing the solid line axis, we are minimizing the mean squared distance between the original points and their projections into the chosen axis.\n",
    "    - This is the rather simple idea behind PCA."
   ]
  },
  {
   "cell_type": "markdown",
   "metadata": {},
   "source": [
    "### Principle Components"
   ]
  },
  {
   "cell_type": "markdown",
   "metadata": {},
   "source": [
    "- PCA identifies the axis that accounts for the **largest amount of variance** in the training set.\n",
    "    - It also finds a second axis, orthogonal to the first one, that accounts for the largest amount of remaining variance.\n",
    "    - If we're considering a higher-dimensional dataset, PCA would also find a third axis, and a fourth, and a fifth, and so on...\n",
    "    - As many axes as the number of dimensions in the dataset.\n",
    "- The ith axis is called the ith **principal component** of the data.\n",
    "- So how can you find the principal components of a training set?\n",
    "    - There is a standard matrix vectorization technique called *Singular Value Decomposition (SVD)*\n",
    "        - It can decompose the training set $X$ into $X=U \\Sigma V^T$\n",
    "        - $V$ contains the unit vectors that define all the principal components that we are looking for:\n",
    "\n",
    "    $$V=\n",
    "      \\begin{pmatrix}\n",
    "        \\vert & \\vert & \\dots & \\vert \\\\\n",
    "        c_1 & c_2 & \\dots & c_n \\\\\n",
    "        \\vert & \\vert & \\dots & \\vert \\\\\n",
    "      \\end{pmatrix}\n",
    "    $$\n",
    "\n",
    "- let's extract the principal components of a dataset using numpy's `svd` implementation:"
   ]
  },
  {
   "cell_type": "markdown",
   "metadata": {},
   "source": [
    "- Let's start by generating some data:"
   ]
  },
  {
   "cell_type": "code",
   "execution_count": 3,
   "metadata": {},
   "outputs": [
    {
     "name": "stderr",
     "output_type": "stream",
     "text": [
      "/Library/Frameworks/Python.framework/Versions/3.7/lib/python3.7/site-packages/statsmodels/tools/_testing.py:19: FutureWarning: pandas.util.testing is deprecated. Use the functions in the public API at pandas.testing instead.\n",
      "  import pandas.util.testing as tm\n"
     ]
    }
   ],
   "source": [
    "import numpy as np\n",
    "import pandas as pd\n",
    "import matplotlib.pyplot as plt\n",
    "import seaborn as sns\n",
    "import sklearn"
   ]
  },
  {
   "cell_type": "code",
   "execution_count": 17,
   "metadata": {
    "scrolled": true
   },
   "outputs": [
    {
     "data": {
      "image/png": "[encoded data removed]",
      "text/plain": [
       "<Figure size 432x288 with 1 Axes>"
      ]
     },
     "metadata": {
      "needs_background": "light"
     },
     "output_type": "display_data"
    }
   ],
   "source": [
    "X = np.linspace(start=-1., stop=1., num=100)\n",
    "y = X + np.random.normal(size=100)/7.\n",
    "X.shape, y.shape\n",
    "\n",
    "plt.scatter(X, y, c='blue')\n",
    "plt.xlabel('$X_1$')\n",
    "plt.ylabel('$X_2$')\n",
    "plt.grid()\n",
    "plt.show()"
   ]
  },
  {
   "cell_type": "code",
   "execution_count": 18,
   "metadata": {},
   "outputs": [],
   "source": [
    "X = np.concatenate((X[..., None], y[..., None]), axis=1)\n",
    "X.shape\n",
    "\n",
    "X_centered = X - X.mean(axis=0)\n",
    "U, s, Vt = np.linalg.svd(a=X_centered)\n",
    "c1 = Vt.T[:, 0]\n",
    "c2 = Vt.T[:, 1]"
   ]
  },
  {
   "cell_type": "code",
   "execution_count": 19,
   "metadata": {},
   "outputs": [
    {
     "data": {
      "text/plain": [
       "(array([0.70689627, 0.70731723]), array([-0.70731723,  0.70689627]))"
      ]
     },
     "execution_count": 19,
     "metadata": {},
     "output_type": "execute_result"
    }
   ],
   "source": [
    "c1, c2"
   ]
  },
  {
   "cell_type": "markdown",
   "metadata": {},
   "source": [
    "- These two 2D points represent the unit vector points (origin at (0,0)) corresponding to the 2 principal components (axes that preserve variance).\n",
    "- PCA assumes that the dataset is centered around the origin, but scikit-learn implementation takes care of centering the data for you."
   ]
  },
  {
   "cell_type": "markdown",
   "metadata": {},
   "source": [
    "### Projecting down to $d$ Dimensions"
   ]
  },
  {
   "cell_type": "markdown",
   "metadata": {},
   "source": [
    "- Once you have identified all the principal components, you can reduce the dimensionality of the dataset down to $d$ dimensions by projecting it onto the hyperplane defined by the first $d$ principal components.\n",
    "- Selecting this hyperplane ensures that the projection will preserve as much variance as possible.\n",
    "- To Project the training set into the hyperplane and obtain a reduced dataset $X_{d-proj}$ of dimensionality $d$:\n",
    "    - Compute the matrix multiplication of the training set matrix $X$ by the matrix $W_{d}$ \n",
    "        - $W_{d}$ is the matrix containing the first $d$ columns of $V$ representing the principal components.\n",
    "\n",
    "$$X_{d-proj}=XW_d$$\n",
    "\n",
    "- Let's do it in Python:"
   ]
  },
  {
   "cell_type": "code",
   "execution_count": 23,
   "metadata": {
    "scrolled": true
   },
   "outputs": [
    {
     "data": {
      "text/plain": [
       "(100, 2)"
      ]
     },
     "execution_count": 23,
     "metadata": {},
     "output_type": "execute_result"
    }
   ],
   "source": [
    "W2 = Vt.T[:, :2]\n",
    "X2D = X_centered.dot(W2)\n",
    "X2D.shape"
   ]
  },
  {
   "cell_type": "markdown",
   "metadata": {},
   "source": [
    "### Using Scikit-Learn"
   ]
  },
  {
   "cell_type": "code",
   "execution_count": 25,
   "metadata": {},
   "outputs": [],
   "source": [
    "from sklearn.decomposition import PCA\n",
    "pca = PCA(n_components=2)\n",
    "X2D = pca.fit_transform(X)\n",
    "assert np.all(np.abs(pca.components_) == np.abs(W2))"
   ]
  },
  {
   "cell_type": "markdown",
   "metadata": {},
   "source": [
    "### Explained Variance Ratio"
   ]
  },
  {
   "cell_type": "markdown",
   "metadata": {},
   "source": [
    "- The ratio indicates the proportion of the dataset's variance lying along each principal component.\n",
    "- Let's take a look at it for our scikit-learn learner:"
   ]
  },
  {
   "cell_type": "code",
   "execution_count": 26,
   "metadata": {},
   "outputs": [
    {
     "data": {
      "text/plain": [
       "(array([0.98620617, 0.01379383]), 1.0)"
      ]
     },
     "execution_count": 26,
     "metadata": {},
     "output_type": "execute_result"
    }
   ],
   "source": [
    "pca.explained_variance_ratio_, np.sum(pca.explained_variance_ratio_)"
   ]
  },
  {
   "cell_type": "markdown",
   "metadata": {},
   "source": [
    "### Choosing the Right Number of Dimensions"
   ]
  },
  {
   "cell_type": "markdown",
   "metadata": {},
   "source": [
    "- Choose the number of dimensions that add up to a large portion of the variance that lied within the original dataset.\n",
    "    - Example: $>=95\\%$\n",
    "- Unless, ofcoures, you are reducing dimensionality to visualize the data.\n",
    "    - In that case you will want to reduce the data down to 2/3 axis.\n",
    "- Let's do it in scikit-learn:"
   ]
  },
  {
   "cell_type": "code",
   "execution_count": 28,
   "metadata": {},
   "outputs": [
    {
     "data": {
      "text/plain": [
       "1"
      ]
     },
     "execution_count": 28,
     "metadata": {},
     "output_type": "execute_result"
    }
   ],
   "source": [
    "pca = PCA()\n",
    "pca.fit(X)\n",
    "cumsum = np.cumsum(pca.explained_variance_ratio_)\n",
    "d = np.argmax(cumsum >= 0.95) + 1\n",
    "d"
   ]
  },
  {
   "cell_type": "markdown",
   "metadata": {},
   "source": [
    "- Then re-run PCA training using $d$.\n",
    "- But there is a much better option, that of specifying a float for `n_components` as the ratio of variance we want to preserve."
   ]
  },
  {
   "cell_type": "code",
   "execution_count": 29,
   "metadata": {},
   "outputs": [],
   "source": [
    "pca = PCA(n_components=0.95)\n",
    "X_reduced = pca.fit_transform(X)"
   ]
  },
  {
   "cell_type": "markdown",
   "metadata": {},
   "source": [
    "### `PCA` for Compression "
   ]
  },
  {
   "cell_type": "markdown",
   "metadata": {},
   "source": [
    "- After dimensionality reduction, the training set takes much less space.\n",
    "- It is also possible to decompress the reduced dataset back to $784$ (in the case of MNIST) by applying **the inverse transformation of the PCA projection**.\n",
    "    - **This won't give you back the original data since 5% of the variance was lost while compressing**.\n",
    "    - But it will likely be close to the original dataset.\n",
    "- **The mean squared distance between the original dataset and the decompressed dataset is called the Reconstruction Error**.\n",
    "- Let's do it with scikit-learn:"
   ]
  },
  {
   "cell_type": "code",
   "execution_count": 30,
   "metadata": {},
   "outputs": [],
   "source": [
    "from sklearn import datasets\n",
    "from sklearn.model_selection import train_test_split"
   ]
  },
  {
   "cell_type": "code",
   "execution_count": 33,
   "metadata": {},
   "outputs": [
    {
     "data": {
      "text/plain": [
       "((46900, 784), (23100, 784), (46900,), (23100,))"
      ]
     },
     "execution_count": 33,
     "metadata": {},
     "output_type": "execute_result"
    }
   ],
   "source": [
    "X, y = datasets.fetch_openml(name='mnist_784', return_X_y=True)\n",
    "X_train, X_test, y_train, y_test = train_test_split(X, y, test_size=0.33)\n",
    "X_train.shape, X_test.shape, y_train.shape, y_test.shape"
   ]
  },
  {
   "cell_type": "code",
   "execution_count": 37,
   "metadata": {},
   "outputs": [
    {
     "data": {
      "image/png": "[encoded data removed]",
      "text/plain": [
       "<Figure size 432x288 with 1 Axes>"
      ]
     },
     "metadata": {
      "needs_background": "light"
     },
     "output_type": "display_data"
    },
    {
     "data": {
      "image/png": "[encoded data removed]",
      "text/plain": [
       "<Figure size 432x288 with 1 Axes>"
      ]
     },
     "metadata": {
      "needs_background": "light"
     },
     "output_type": "display_data"
    }
   ],
   "source": [
    "pca = PCA(n_components=154)\n",
    "X_reduced = pca.fit_transform(X_train)\n",
    "X_recovered = pca.inverse_transform(X_reduced)\n",
    "\n",
    "plt.imshow(X_train[0].reshape(28, 28), cmap='binary')\n",
    "plt.axis('off')\n",
    "plt.show()\n",
    "\n",
    "plt.imshow(X_recovered[0].reshape(28, 28), cmap='binary')\n",
    "plt.axis('off')\n",
    "plt.show()"
   ]
  },
  {
   "cell_type": "markdown",
   "metadata": {},
   "source": [
    "- Following is the equation of the inverse transformation:\n",
    "\n",
    "$$X_{recovered}=X_{d-proj}W_{d}^{T}$$"
   ]
  },
  {
   "cell_type": "markdown",
   "metadata": {},
   "source": [
    "### Randomized PCA"
   ]
  },
  {
   "cell_type": "markdown",
   "metadata": {},
   "source": [
    "- We can use a stochastic algorithm called *Randomized PCA* that **quickly finds** an approximation of the first $d$ principal components.\n",
    "- Its computational complexity is $O(m \\times d^{2})+O(d^3)$ instead of SVD's $O(m \\times n^{2})+O(n^3)$.\n",
    "- So it's dramatically faster then SVD when $d << n$.\n",
    "- Let's use it with `scikit-learn`:"
   ]
  },
  {
   "cell_type": "code",
   "execution_count": 39,
   "metadata": {},
   "outputs": [],
   "source": [
    "rnd_pca = PCA(n_components=154, svd_solver='randomized')\n",
    "X_reduced = rnd_pca.fit_transform(X_train)"
   ]
  },
  {
   "cell_type": "markdown",
   "metadata": {},
   "source": [
    "### Incremental PCA"
   ]
  },
  {
   "cell_type": "markdown",
   "metadata": {},
   "source": [
    "- One problem with the previous implementations of PCA is that they require the whole training data to fit in memory.\n",
    "- Fortunately, **incremental PCA** algorithms have been developed.\n",
    "- They allow us to split the training set in mini-batches and feed them one at a time to the IPCA algorithm.\n",
    "- This is useful when having large training sets or doing online learning.\n",
    "- Let's experiment with incremental PCA using scikit-learn:"
   ]
  },
  {
   "cell_type": "code",
   "execution_count": 40,
   "metadata": {},
   "outputs": [],
   "source": [
    "from sklearn.decomposition import IncrementalPCA\n",
    "n_batches = 100\n",
    "inc_pca = IncrementalPCA(n_components=154)\n",
    "for X_batch in np.array_split(X_train, n_batches):\n",
    "    inc_pca.partial_fit(X_batch)\n",
    "X_reduced = inc_pca.transform(X_train)"
   ]
  },
  {
   "cell_type": "markdown",
   "metadata": {},
   "source": [
    "- We can also mimic normal fitting behavior by using the `memap` class to store our training data:"
   ]
  },
  {
   "cell_type": "markdown",
   "metadata": {},
   "source": [
    "## Kernel PCA"
   ]
  },
  {
   "cell_type": "markdown",
   "metadata": {},
   "source": [
    "- Recall that a linear decision boundary in a high-dimensional space corresponds to a non-linear decision boundary in the original low-dimensional space.\n",
    "- It turns out that the \"kernel trick\" can also be applied to PCA.\n",
    "- Making it possible to perform complex non-linear projections for dimensionality reduction.\n",
    "- It's often **good at preserving clusters of instances after projecting them**.\n",
    "- Let's use kPCA in scikit-learn:"
   ]
  },
  {
   "cell_type": "markdown",
   "metadata": {},
   "source": [
    "- First we create a swiss roll:"
   ]
  },
  {
   "cell_type": "code",
   "execution_count": 41,
   "metadata": {},
   "outputs": [
    {
     "data": {
      "text/plain": [
       "(1000, 2)"
      ]
     },
     "execution_count": 41,
     "metadata": {},
     "output_type": "execute_result"
    }
   ],
   "source": [
    "X, _ = datasets.make_swiss_roll(n_samples=1000, noise=1)\n",
    "from sklearn.decomposition import KernelPCA\n",
    "rbf_pca = KernelPCA(n_components=2, kernel='rbf', gamma=0.04, n_jobs=-1)\n",
    "X_reduced = rbf_pca.fit_transform(X)\n",
    "X_reduced.shape"
   ]
  },
  {
   "cell_type": "markdown",
   "metadata": {},
   "source": [
    "### Selecting a Kernel and Tuning Hyperparameters"
   ]
  },
  {
   "cell_type": "markdown",
   "metadata": {},
   "source": [
    "- *Note: Use a GPU*\n",
    "- As kPCA is an unsupervised learning algorithm, there is no obvious performance measure to help you select the best kernel and hyper-parameter values.\n",
    "- That said, dimensionality reduction is often a pre-processing step for a supervised learning task.\n",
    "- So you can use grid search to select the kernel and hyper-parameters that lead to the best performance on the end task.\n",
    "- The following scikit-learn example create a two step pipeline:\n",
    "    - First reducing the dimensionality to 2 dimensions using kPCA.\n",
    "    - Then Applying logistic regression for classification.\n",
    "- Then we use `GridSearchCV` to find the best **kernel** and **gamma** value for kPCA in order to get the best classification accuracy at the end of the pipeline."
   ]
  },
  {
   "cell_type": "code",
   "execution_count": 42,
   "metadata": {},
   "outputs": [],
   "source": [
    "from sklearn.model_selection import GridSearchCV\n",
    "from sklearn.linear_model import LogisticRegression\n",
    "from sklearn.pipeline import Pipeline"
   ]
  },
  {
   "cell_type": "code",
   "execution_count": null,
   "metadata": {},
   "outputs": [],
   "source": [
    "X, y = datasets.fetch_openml(name='mnist_784', return_X_y=True)\n",
    "X_train, X_test, y_train, y_test = train_test_split(X, y, test_size=0.33)\n"
   ]
  },
  {
   "cell_type": "code",
   "execution_count": 48,
   "metadata": {},
   "outputs": [
    {
     "data": {
      "text/plain": [
       "((46900, 784), (23100, 784), (46900,), (23100,))"
      ]
     },
     "execution_count": 48,
     "metadata": {},
     "output_type": "execute_result"
    }
   ],
   "source": [
    "X_train.shape, X_test.shape, y_train.shape, y_test.shape"
   ]
  },
  {
   "cell_type": "code",
   "execution_count": null,
   "metadata": {},
   "outputs": [],
   "source": [
    "# USE GPU\n",
    "clf = Pipeline([\n",
    "    ('kpca', KernelPCA(n_components=2)),\n",
    "    ('log_reg', LogisticRegression())\n",
    "])\n",
    "\n",
    "param_grid = [{\n",
    "    \"kpca__gamma\": np.linspace(0.03, 0.05, 5),\n",
    "    \"kpca__kernel\": [\"rbf\", \"sigmoid\"]\n",
    "}]\n",
    "\n",
    "grid_search = GridSearchCV(clf, param_grid, cv=3, n_jobs=-1)\n",
    "grid_search.fit(X_train[:1000], y_train[:1000])  # not enough compute for all training all\n",
    "grid_search.best_params_"
   ]
  },
  {
   "cell_type": "markdown",
   "metadata": {},
   "source": [
    "- Another approach, entirely unsupervised, is to select the kernel and hyper-parameters that **yield the lowest reconstruction error**.\n",
    "- Let's visualize the steps we take with kernel-based dimensionality reduction:\n",
    "\n",
    "<div style=\"text-align:center;\">\n",
    "    <img style=\"width:50%\" src=\"static/imgs/reconstruction_vis.png\" />\n",
    "</div>\n",
    "\n",
    "- Notice that when we invert our final transformation, we get instance on the infinite feature space and not the original space.\n",
    "- Since the feature space is infinite, we cannot compute the reconstruction loss. \n",
    "- But it's possible to find a point in the original space that map close to the reconstructed point, this point is called the reconstructed **pre-image**.\n",
    "- Once you have the pre-image, you can measure its squared distance to the original instance.\n",
    "- In terms of **how to perform the reconstruction**, You can train a supervised learning algorithm to find a mapping between the original dataset and the reduced data.\n",
    "- scikit-learn can do it for you with the `fit_inverse_transform` hyper-parameter:"
   ]
  },
  {
   "cell_type": "code",
   "execution_count": null,
   "metadata": {},
   "outputs": [],
   "source": [
    "rbf_pca = KernelPCA(n_components=2, kernel='rbf', gamma=0.0433, fit_inverse_transform=True)\n",
    "X_reduced = rbf_pca.fit_transform(X)\n",
    "X_preimage = rbf_pca.inverse_transform(X_reduced)\n",
    "from sklearn.metrics import mean_squared_error\n",
    "mean_squared_error(X, X_preimage)"
   ]
  },
  {
   "cell_type": "markdown",
   "metadata": {},
   "source": [
    "- You can you grid search to find the hyper-parameters that minimize this error."
   ]
  },
  {
   "cell_type": "markdown",
   "metadata": {},
   "source": [
    "## [Random Projections](https://machinelearningmedium.com/2017/07/28/random-projection-in-dimensionality-reduction/)\n",
    "Random Projections have emerged as a powerful method for dimensionality reduction. Theoretical results indicate that it `preserves distances` quite nicely but empirical results are `sparse`. \n",
    "\n",
    "- A higher dimensional data is projected onto a lower-dimensional subspace using a random matrix whose columns have unit length.\n",
    "    - The original d-dimensional data is projected to a k-dimensional (k << d ) hrough the origin, using a random k∗d matrix R whose columns have unit lengths. It is given by `X(k*N) = R*(k*d)X(d*N)`\n",
    "- It is often employed in dimensionality reduction in both `noisy and noiseless data` especially image and text data. \n",
    "---\n",
    "Advantages: \n",
    "- Accurate enough as it does not introduce a significant distortion in the data. \n",
    "- `Computationally less expensive` than the traditional alternatives and yet .\n",
    "- Not sensitive to impulse noise. So RP is promising alternative to some existing methods in noise reduction (like mean filtering) too.\n",
    "\n",
    "---\n",
    "#### The key idea of random mapping arises from Johnson-Lindenstrauss Lemma\n",
    "If points in vector space are projected onto a randomly selected subspace of suitably high dimensions, then the distances between the points are approximately preserved."
   ]
  },
  {
   "cell_type": "markdown",
   "metadata": {},
   "source": [
    "## Linear Discriminant Analysis\n",
    "### [Linear Discriminant Analysis for classification](https://www.youtube.com/watch?v=azXCzI57Yfc)\n",
    "\n",
    "Compared with PCA\n",
    "- PCA reduced dimensions by focusing on the variables with the most variation.\n",
    "    - This useful for plotting data with a lot of dimensions  onto a simple X/Y plot\n",
    "\n",
    "- LDA is like PCA, but if focuses on maximizing the seperatiblity among known categories.\n",
    "\n",
    "---\n",
    "Assumptions\n",
    "1. That your data is Gaussian, that each variable is is shaped like a bell curve when plotted.\n",
    "2. That each attribute has the same variance, that values of each variable vary around the mean by the same amount on average.\n",
    "\n",
    "---\n",
    "How to prepare data for LDA\n",
    "1. Classification Problems.\n",
    "    \n",
    "    This might go without saying, but LDA is intended for classification problems where the output variable is categorical. LDA supports both binary and multi-class classification.\n",
    "    \n",
    "    \n",
    "2. Gaussian Distribution. \n",
    "\n",
    "    The standard implementation of the model assumes a Gaussian distribution of the input variables. Consider reviewing the univariate distributions of each attribute and using transforms to make them more Gaussian-looking (e.g. log and root for exponential distributions and Box-Cox for skewed distributions).\n",
    "    \n",
    "    \n",
    "3. Remove Outliers. \n",
    "\n",
    "    Consider removing outliers from your data. These can skew the basic statistics used to separate classes in LDA such the mean and the standard deviation.\n",
    "\n",
    "\n",
    "4. Same Variance.\n",
    "\n",
    "    LDA assumes that each input variable has the same variance. It is almost always a good idea to standardize your data before using LDA so that it has a mean of 0 and a standard deviation of 1.\n",
    "\n",
    "---\n",
    "How LDA creates a new axis:\n",
    "1. Maximize the distane between means\n",
    "2. Minimize the variation (which LDA calls \"scatter\" and is represented by s^2) within each category"
   ]
  },
  {
   "cell_type": "markdown",
   "metadata": {},
   "source": [
    "### [Feature Reduction](https://chrisalbon.com/machine_learning/feature_engineering/lda_for_dimensionality_reduction/)\n",
    "\n",
    "**[Do LDA step by step](https://towardsdatascience.com/linear-discriminant-analysis-in-python-76b8b17817c2)**"
   ]
  },
  {
   "cell_type": "code",
   "execution_count": 61,
   "metadata": {},
   "outputs": [],
   "source": [
    "from sklearn.datasets import load_wine\n",
    "import pandas.util.testing as tm\n",
    "import pandas as pd\n",
    "import numpy as np\n",
    "np.set_printoptions(precision=4)\n",
    "from matplotlib import pyplot as plt\n",
    "import seaborn as sns\n",
    "sns.set()\n",
    "from sklearn.preprocessing import LabelEncoder\n",
    "from sklearn.tree import DecisionTreeClassifier\n",
    "from sklearn.model_selection import train_test_split\n",
    "from sklearn.metrics import confusion_matrix"
   ]
  },
  {
   "cell_type": "code",
   "execution_count": 62,
   "metadata": {},
   "outputs": [
    {
     "data": {
      "text/html": [
       "<div>\n",
       "<style scoped>\n",
       "    .dataframe tbody tr th:only-of-type {\n",
       "        vertical-align: middle;\n",
       "    }\n",
       "\n",
       "    .dataframe tbody tr th {\n",
       "        vertical-align: top;\n",
       "    }\n",
       "\n",
       "    .dataframe thead th {\n",
       "        text-align: right;\n",
       "    }\n",
       "</style>\n",
       "<table border=\"1\" class=\"dataframe\">\n",
       "  <thead>\n",
       "    <tr style=\"text-align: right;\">\n",
       "      <th></th>\n",
       "      <th>alcohol</th>\n",
       "      <th>malic_acid</th>\n",
       "      <th>ash</th>\n",
       "      <th>alcalinity_of_ash</th>\n",
       "      <th>magnesium</th>\n",
       "      <th>total_phenols</th>\n",
       "      <th>flavanoids</th>\n",
       "      <th>nonflavanoid_phenols</th>\n",
       "      <th>proanthocyanins</th>\n",
       "      <th>color_intensity</th>\n",
       "      <th>hue</th>\n",
       "      <th>od280/od315_of_diluted_wines</th>\n",
       "      <th>proline</th>\n",
       "      <th>class</th>\n",
       "    </tr>\n",
       "  </thead>\n",
       "  <tbody>\n",
       "    <tr>\n",
       "      <th>0</th>\n",
       "      <td>14.23</td>\n",
       "      <td>1.71</td>\n",
       "      <td>2.43</td>\n",
       "      <td>15.6</td>\n",
       "      <td>127.0</td>\n",
       "      <td>2.80</td>\n",
       "      <td>3.06</td>\n",
       "      <td>0.28</td>\n",
       "      <td>2.29</td>\n",
       "      <td>5.64</td>\n",
       "      <td>1.04</td>\n",
       "      <td>3.92</td>\n",
       "      <td>1065.0</td>\n",
       "      <td>class_0</td>\n",
       "    </tr>\n",
       "    <tr>\n",
       "      <th>1</th>\n",
       "      <td>13.20</td>\n",
       "      <td>1.78</td>\n",
       "      <td>2.14</td>\n",
       "      <td>11.2</td>\n",
       "      <td>100.0</td>\n",
       "      <td>2.65</td>\n",
       "      <td>2.76</td>\n",
       "      <td>0.26</td>\n",
       "      <td>1.28</td>\n",
       "      <td>4.38</td>\n",
       "      <td>1.05</td>\n",
       "      <td>3.40</td>\n",
       "      <td>1050.0</td>\n",
       "      <td>class_0</td>\n",
       "    </tr>\n",
       "    <tr>\n",
       "      <th>2</th>\n",
       "      <td>13.16</td>\n",
       "      <td>2.36</td>\n",
       "      <td>2.67</td>\n",
       "      <td>18.6</td>\n",
       "      <td>101.0</td>\n",
       "      <td>2.80</td>\n",
       "      <td>3.24</td>\n",
       "      <td>0.30</td>\n",
       "      <td>2.81</td>\n",
       "      <td>5.68</td>\n",
       "      <td>1.03</td>\n",
       "      <td>3.17</td>\n",
       "      <td>1185.0</td>\n",
       "      <td>class_0</td>\n",
       "    </tr>\n",
       "    <tr>\n",
       "      <th>3</th>\n",
       "      <td>14.37</td>\n",
       "      <td>1.95</td>\n",
       "      <td>2.50</td>\n",
       "      <td>16.8</td>\n",
       "      <td>113.0</td>\n",
       "      <td>3.85</td>\n",
       "      <td>3.49</td>\n",
       "      <td>0.24</td>\n",
       "      <td>2.18</td>\n",
       "      <td>7.80</td>\n",
       "      <td>0.86</td>\n",
       "      <td>3.45</td>\n",
       "      <td>1480.0</td>\n",
       "      <td>class_0</td>\n",
       "    </tr>\n",
       "    <tr>\n",
       "      <th>4</th>\n",
       "      <td>13.24</td>\n",
       "      <td>2.59</td>\n",
       "      <td>2.87</td>\n",
       "      <td>21.0</td>\n",
       "      <td>118.0</td>\n",
       "      <td>2.80</td>\n",
       "      <td>2.69</td>\n",
       "      <td>0.39</td>\n",
       "      <td>1.82</td>\n",
       "      <td>4.32</td>\n",
       "      <td>1.04</td>\n",
       "      <td>2.93</td>\n",
       "      <td>735.0</td>\n",
       "      <td>class_0</td>\n",
       "    </tr>\n",
       "  </tbody>\n",
       "</table>\n",
       "</div>"
      ],
      "text/plain": [
       "   alcohol  malic_acid   ash  alcalinity_of_ash  magnesium  total_phenols  \\\n",
       "0    14.23        1.71  2.43               15.6      127.0           2.80   \n",
       "1    13.20        1.78  2.14               11.2      100.0           2.65   \n",
       "2    13.16        2.36  2.67               18.6      101.0           2.80   \n",
       "3    14.37        1.95  2.50               16.8      113.0           3.85   \n",
       "4    13.24        2.59  2.87               21.0      118.0           2.80   \n",
       "\n",
       "   flavanoids  nonflavanoid_phenols  proanthocyanins  color_intensity   hue  \\\n",
       "0        3.06                  0.28             2.29             5.64  1.04   \n",
       "1        2.76                  0.26             1.28             4.38  1.05   \n",
       "2        3.24                  0.30             2.81             5.68  1.03   \n",
       "3        3.49                  0.24             2.18             7.80  0.86   \n",
       "4        2.69                  0.39             1.82             4.32  1.04   \n",
       "\n",
       "   od280/od315_of_diluted_wines  proline    class  \n",
       "0                          3.92   1065.0  class_0  \n",
       "1                          3.40   1050.0  class_0  \n",
       "2                          3.17   1185.0  class_0  \n",
       "3                          3.45   1480.0  class_0  \n",
       "4                          2.93    735.0  class_0  "
      ]
     },
     "execution_count": 62,
     "metadata": {},
     "output_type": "execute_result"
    }
   ],
   "source": [
    "wine = load_wine()\n",
    "X = pd.DataFrame(wine.data, columns=wine.feature_names)\n",
    "y = pd.Categorical.from_codes(wine.target, wine.target_names)\n",
    "\n",
    "X.shape, wine.target_names\n",
    "\n",
    "df = X.join(pd.Series(y, name='class'))\n",
    "df.head()"
   ]
  },
  {
   "cell_type": "code",
   "execution_count": 63,
   "metadata": {},
   "outputs": [
    {
     "name": "stdout",
     "output_type": "stream",
     "text": [
      "class_0 (59, 14)\n",
      "class_1 (71, 14)\n",
      "class_2 (48, 14)\n"
     ]
    }
   ],
   "source": [
    "# Step1: Within Class Scatter Matrix\n",
    "\n",
    "class_feature_means = pd.DataFrame(columns=wine.target_names)\n",
    "for c, rows in df.groupby('class'):\n",
    "    class_feature_means[c] = rows.mean()\n",
    "class_feature_means\n",
    "\n",
    "\n",
    "within_class_scatter_matrix = np.zeros((13,13))\n",
    "for c, rows in df.groupby('class'):\n",
    "    print(c, rows.shape)\n",
    "    rows = rows.drop(['class'], axis=1)\n",
    "\n",
    "    s = np.zeros((13,13))\n",
    "    for index, row in rows.iterrows():\n",
    "        x, mc = row.values.reshape(13,1), class_feature_means[c].values.reshape(13,1)\n",
    "        s += (x - mc).dot((x - mc).T) \n",
    "        \n",
    "    \n",
    "    within_class_scatter_matrix += s"
   ]
  },
  {
   "cell_type": "code",
   "execution_count": 64,
   "metadata": {},
   "outputs": [
    {
     "name": "stdout",
     "output_type": "stream",
     "text": [
      "class_0 59\n",
      "class_1 71\n",
      "class_2 48\n"
     ]
    }
   ],
   "source": [
    "# Step2: Between Class Scatter Matrix\n",
    "feature_means = df.mean()\n",
    "between_class_scatter_matrix = np.zeros((13,13))\n",
    "for c in class_feature_means:   \n",
    "    n = len(df.loc[df['class'] == c].index)\n",
    "    print(c, n)\n",
    "    \n",
    "    mc, m = class_feature_means[c].values.reshape(13,1), feature_means.values.reshape(13,1)\n",
    "    \n",
    "    between_class_scatter_matrix += n * (mc - m).dot((mc - m).T)"
   ]
  },
  {
   "cell_type": "code",
   "execution_count": 70,
   "metadata": {},
   "outputs": [],
   "source": [
    "# Step3: obtain the linear discriminants.\n",
    "\n",
    "eigen_values, eigen_vectors = np.linalg.eig(np.linalg.inv(within_class_scatter_matrix)\\\n",
    "                                            .dot(between_class_scatter_matrix))"
   ]
  },
  {
   "cell_type": "markdown",
   "metadata": {},
   "source": [
    "The eigenvectors with the highest eigenvalues carry the most information about the distribution of the data. Thus, we sort the eigenvalues from highest to lowest and select the first k eigenvectors. In order to ensure that the eigenvalue maps to the same eigenvector after sorting, we place them in a temporary array."
   ]
  },
  {
   "cell_type": "code",
   "execution_count": 67,
   "metadata": {
    "scrolled": true
   },
   "outputs": [
    {
     "name": "stdout",
     "output_type": "stream",
     "text": [
      "9.081739435042463\n",
      "4.1284690456394895\n",
      "8.541143958056148e-16\n",
      "8.541143958056148e-16\n",
      "5.496442203571366e-16\n",
      "4.1152096071896675e-16\n",
      "4.1152096071896675e-16\n",
      "3.573345264159707e-16\n",
      "1.7925080964302876e-16\n",
      "1.766013718358249e-16\n",
      "1.766013718358249e-16\n",
      "2.299563729068776e-17\n",
      "0.0\n",
      "Explained Variance\n",
      "Eigenvector 0: 0.6874788878860778\n",
      "Eigenvector 1: 0.3125211121139221\n",
      "Eigenvector 2: 6.465563333497994e-17\n",
      "Eigenvector 3: 6.465563333497994e-17\n",
      "Eigenvector 4: 4.1607535654029446e-17\n",
      "Eigenvector 5: 3.115173854528923e-17\n",
      "Eigenvector 6: 3.115173854528923e-17\n",
      "Eigenvector 7: 2.7049877898484456e-17\n",
      "Eigenvector 8: 1.3569112849744765e-17\n",
      "Eigenvector 9: 1.3368552971293316e-17\n",
      "Eigenvector 10: 1.3368552971293316e-17\n",
      "Eigenvector 11: 1.7407474926921553e-18\n",
      "Eigenvector 12: 0.0\n"
     ]
    }
   ],
   "source": [
    "pairs = [(np.abs(eigen_values[i]), eigen_vectors[:,i]) for i in range(len(eigen_values))]\n",
    "pairs = sorted(pairs, key=lambda x: x[0], reverse=True)\n",
    "for pair in pairs:\n",
    "    print(pair[0])\n",
    "\n",
    "# percent\n",
    "eigen_value_sums = sum(eigen_values)\n",
    "print('Explained Variance')\n",
    "for i, pair in enumerate(pairs):\n",
    "    print('Eigenvector {}: {}'.format(i, (pair[0]/eigen_value_sums).real))"
   ]
  },
  {
   "cell_type": "code",
   "execution_count": 71,
   "metadata": {},
   "outputs": [
    {
     "data": {
      "text/plain": [
       "<matplotlib.collections.PathCollection at 0x130108400>"
      ]
     },
     "execution_count": 71,
     "metadata": {},
     "output_type": "execute_result"
    },
    {
     "data": {
      "image/png": "[encoded data removed]",
      "text/plain": [
       "<Figure size 432x288 with 1 Axes>"
      ]
     },
     "metadata": {},
     "output_type": "display_data"
    }
   ],
   "source": [
    "# Step4: we create a matrix W with the first two eigenvectors.\n",
    "\n",
    "w_matrix = np.hstack((pairs[0][1].reshape(13,1), pairs[1][1].reshape(13,1))).real\n",
    "\n",
    "# Then, we save the dot product of X and W into a new matrix Y.\n",
    "\n",
    "X_lda = np.array(X.dot(w_matrix))\n",
    "\n",
    "le = LabelEncoder()\n",
    "y = le.fit_transform(df['class'])\n",
    "\n",
    "plt.xlabel('LD1')\n",
    "plt.ylabel('LD2')\n",
    "plt.scatter(\n",
    "    X_lda[:,0],\n",
    "    X_lda[:,1],\n",
    "    c=y,\n",
    "    cmap='rainbow',\n",
    "    alpha=0.7,\n",
    "    edgecolors='b'\n",
    ")"
   ]
  },
  {
   "cell_type": "markdown",
   "metadata": {},
   "source": [
    "**Using sklearn LDA library**"
   ]
  },
  {
   "cell_type": "code",
   "execution_count": 72,
   "metadata": {},
   "outputs": [
    {
     "data": {
      "text/plain": [
       "<matplotlib.collections.PathCollection at 0x130168898>"
      ]
     },
     "execution_count": 72,
     "metadata": {},
     "output_type": "execute_result"
    },
    {
     "data": {
      "image/png": "[encoded data removed]",
      "text/plain": [
       "<Figure size 432x288 with 1 Axes>"
      ]
     },
     "metadata": {},
     "output_type": "display_data"
    }
   ],
   "source": [
    "from sklearn.discriminant_analysis import LinearDiscriminantAnalysis\n",
    "lda = LinearDiscriminantAnalysis()\n",
    "X_lda = lda.fit_transform(X, y)\n",
    "\n",
    "\n",
    "lda.explained_variance_ratio_\n",
    "\n",
    "plt.xlabel('LD1')\n",
    "plt.ylabel('LD2')\n",
    "plt.scatter(\n",
    "    X_lda[:,0],\n",
    "    X_lda[:,1],\n",
    "    c=y,\n",
    "    cmap='rainbow',\n",
    "    alpha=0.7,\n",
    "    edgecolors='b'\n",
    ")"
   ]
  },
  {
   "cell_type": "markdown",
   "metadata": {},
   "source": [
    "**Compared to PCA** \n",
    "\n",
    "As we can see, PCA selected the components which would result in the highest spread (retain the most information) and not necessarily the ones which maximize the separation between classes."
   ]
  },
  {
   "cell_type": "code",
   "execution_count": 74,
   "metadata": {},
   "outputs": [
    {
     "data": {
      "text/plain": [
       "<matplotlib.collections.PathCollection at 0x130249ef0>"
      ]
     },
     "execution_count": 74,
     "metadata": {},
     "output_type": "execute_result"
    },
    {
     "data": {
      "image/png": "[encoded data removed]",
      "text/plain": [
       "<Figure size 432x288 with 1 Axes>"
      ]
     },
     "metadata": {},
     "output_type": "display_data"
    }
   ],
   "source": [
    "from sklearn.decomposition import PCA\n",
    "pca = PCA(n_components=2)\n",
    "X_pca = pca.fit_transform(X, y)\n",
    "\n",
    "plt.xlabel('PC1')\n",
    "plt.ylabel('PC2')\n",
    "plt.scatter(\n",
    "    X_pca[:,0],\n",
    "    X_pca[:,1],\n",
    "    c=y,\n",
    "    cmap='rainbow',\n",
    "    alpha=0.7,\n",
    "    edgecolors='b'\n",
    ")"
   ]
  },
  {
   "cell_type": "markdown",
   "metadata": {},
   "source": [
    "**Ceate a model to classify the using the LDA components as features** \n",
    "\n",
    "As we can see, the Decision Tree classifier correctly classified everything in the test set."
   ]
  },
  {
   "cell_type": "code",
   "execution_count": 75,
   "metadata": {},
   "outputs": [
    {
     "data": {
      "text/plain": [
       "array([[18,  0,  0],\n",
       "       [ 0, 17,  0],\n",
       "       [ 0,  0, 10]])"
      ]
     },
     "execution_count": 75,
     "metadata": {},
     "output_type": "execute_result"
    }
   ],
   "source": [
    "X_train, X_test, y_train, y_test = train_test_split(X_lda, y, random_state=1)\n",
    "dt = DecisionTreeClassifier()\n",
    "dt.fit(X_train, y_train)\n",
    "y_pred = dt.predict(X_test)\n",
    "confusion_matrix(y_test, y_pred)"
   ]
  },
  {
   "cell_type": "markdown",
   "metadata": {},
   "source": [
    "# Non-linear Dimensionality Reduction Methods\n",
    "Non-linear transformation methods or manifold learning methods are used when the data doesn’t lie on a linear subspace. It is based on the manifold hypothesis which says that in a high dimensional structure, most relevant information is concentrated in small number of low dimensional manifolds. If a linear subspace is a flat sheet of paper, then a rolled up sheet of paper is a simple example of a nonlinear manifold. Informally, this is called a Swiss roll, a canonical problem in the field of non-linear dimensionality reduction. Some popular manifold learning methods are,\n",
    "1. Multi-dimensional scaling (MDS) : A technique used for analyzing similarity or dissimilarity of data as distances in a geometric spaces. Projects data to a lower dimension such that data points that are close to each other (in terms if Euclidean distance) in the higher dimension are close in the lower dimension as well.\n",
    "2. Isometric Feature Mapping (Isomap) : Projects data to a lower dimension while preserving the geodesic distance (rather than Euclidean distance as in MDS). Geodesic distance is the shortest distance between two points on a curve.\n",
    "L3. ocally Linear Embedding (LLE): Recovers global non-linear structure from linear fits. Each local patch of the manifold can be written as a linear, weighted sum of its neighbours given enough data.\n",
    "4. Hessian Eigenmapping (HLLE): Projects data to a lower dimension while preserving the local neighbourhood like LLE but uses the Hessian operator to better achieve this result and hence the name.\n",
    "Spectral Embedding (Laplacian Eigenmaps): Uses spectral techniques to perform dimensionality reduction by mapping nearby inputs to nearby outputs. It preserves locality rather than local linearity\n",
    "5. t-distributed Stochastic Neighbor Embedding (t-SNE): Computes the probability that pairs of data points in the high-dimensional space are related and then chooses a low-dimensional embedding which produce a similar distribution."
   ]
  },
  {
   "cell_type": "markdown",
   "metadata": {},
   "source": [
    "## LLE"
   ]
  },
  {
   "cell_type": "markdown",
   "metadata": {},
   "source": [
    "Key ideas:\n",
    "- Other methods of dimensionality reduction fail to be successful on non linear space.\n",
    "- LLE takes advantage of the local geometry and pieces it together to preserve the global geometry on a lower dimensional space.\n",
    "\n",
    "---\n",
    "Locally linear embedding (LLE) seeks a lower-dimensional projection of the data which preserves distances within local neighborhoods. It can be thought of as a series of local Principal Component Analyses which are globally compared to find the best non-linear embedding.\n",
    "\n",
    "- Locally Linear Embedding is a powerful non-linear dimensionality reduction technique.\n",
    "- It's a manifold learning technique that doesn't rely on projections like the previous algorithms do.\n",
    "- LLE works by first measuring how each instance relates to its neighbors\n",
    "- Then it looks for low-dimensional representation of the training set where each local relationship is best preserved.\n",
    "- Let's use it with scikit-learn:\n",
    "\n",
    "---\n",
    "[How does it all work?](https://medium.com/analytics-vidhya/locally-linear-embedding-lle-data-mining-b956616d24e9)\n",
    "\n",
    "LLE first finds the k-nearest neighbors of the points. Then, it approximates each data vector as a weighted linear combination of its k-nearest neighbors. Finally, it computes the weights that best reconstruct the vectors from its neighbors, then produce the low-dimensional vectors best reconstructed by these weights.\n",
    "\n",
    "1. Computes the K nearest neighbors\n",
    "    - One advantage of the LLE algorithm is that there is only one parameter to tune, which is the value of K, or the number of nearest neighbours to consider as part of a cluster. \n",
    "    - If K is chosen to be too small or too large, it will not be able to accomodate the geometry of the original data. Here, for each data point that we have we compute the K nearest neighbours.\n",
    "\n",
    "2. Compute a set weights that can be used reconstruct a point\n",
    "    - We do a weighted aggregation of the neighbours of each point to construct a new point\n",
    "    - Weights can not be 0\n",
    "    - Rows of the weight matrix must equal to 1\n",
    "    - Minimize the cost function\n",
    "\n",
    "3. Compute a embedding vector of Y with the weights that wer previously defined in step2\n",
    "    - Minimize the cost function below\n",
    "    - Weights are fixed also the original point is not in this step\n",
    "\n",
    "---\n",
    "Advantages:\n",
    "\n",
    "1. Consideration of the non-linearity of the structure\n",
    "LLE goes beyond density modeling techniques such as local PCA or mixtures of factor analyzers. \n",
    "\n",
    "\n",
    "2. Better computational time\n",
    "\n",
    "    Since LLE tends to accumulate sparse matrices, it is more efficient than the other algorithms in terms of computational space and time."
   ]
  },
  {
   "cell_type": "code",
   "execution_count": null,
   "metadata": {},
   "outputs": [],
   "source": [
    "from sklearn.manifold import LocallyLinearEmbedding\n",
    "lle = LocallyLinearEmbedding(n_components=2, n_neighbors=10)\n",
    "X_reduced = lle.fit_transform(X)"
   ]
  },
  {
   "cell_type": "markdown",
   "metadata": {},
   "source": [
    "- The resulting 2D dataset is shown as follows:\n",
    "\n",
    "<div style=\"text-align:center;\">\n",
    "    <img style=\"width:50%\" src=\"static/imgs/swiss_unroll.png\" />\n",
    "</div>\n",
    "\n",
    "- LLE did a pretty good job at modeling the manifold.\n",
    "- Here is how LLE works:\n",
    "    1. For each training instance $x^{(i)}$, the algorithm identifies its $k$ closest neighbors.\n",
    "    2. The Algorithm tries to reconstruct $x^{(i)}$ as a linear function of these neighbors.\n",
    "    3. It finds $w_{i,j}$ such that it minimizes $J(x^{(i)}, \\sum_{j=1}^{m}w_{i,j}x^{(j)})$.\n",
    "- We can formalize the problem as follows:\n",
    "\n",
    "$$\\hat{W}=argmin_{W}\\sum_{i=1}^{m}(x^{(i)} - \\sum_{j=1}^{m}w_{i,j}x^{(j)}))^2$$\n",
    "\n",
    "- Such that the sum of each instance weights is $1$.\n",
    "- After this step, **$\\hat{W}$ encodes the local linear relationships between the training instances**.\n",
    "- The second step is to map the training instances into a d-dimensional space (where $d<n$) **while preserving these local relationships as much as possible**.\n",
    "- if $z^{(i)}$ is the image of $x^{(i)}$ in this d-dimensional space, then we want to minimize $J(z^{(i)}, \\sum_{j=1}^{m}\\hat{w}_{i,j}z^{(j)})$.\n",
    "- This leads to the following unconstrained optimization problem:\n",
    "\n",
    "$$\\hat{Z}=argmin_{Z}\\sum_{i=1}^{m}(z^{(i)} - \\sum_{j=1}^{m}\\hat{w}_{i,j}z^{(j)}))^2$$\n",
    "\n",
    "- Scikit-learn LLE implementation has the following computational complexity:\n",
    "    - $O(m log(m) n log(k))$ for finding the k nearest neighbors.\n",
    "    - $O(mnk^3)$ for optimizing the weights.\n",
    "    - $O(dm^2)$ for constructing the low-dimensional representations.\n",
    "        - The $m^2$ makes the algorithm scales very poorly to large datasets."
   ]
  },
  {
   "cell_type": "markdown",
   "metadata": {},
   "source": [
    "## [MDS](https://www.displayr.com/what-is-multidimensional-scaling-mds/)\n",
    "Multidimensional scaling (MDS) is a technique for visualizing distances between objects, where the distance is known between pairs of the objects.\n",
    "\n",
    "- The input to multidimensional scaling is a distance matrix. \n",
    "- The output is typically a two-dimensional scatterplot, where each of the objects is represented as a point.\n",
    "\n",
    "[Example](http://www.analytictech.com/borgatti/mds.htm)\n",
    "\n",
    "---\n",
    "[A simplified view of the algorithm is as follows](http://www.analytictech.com/borgatti/mds.htm):\n",
    "\n",
    "1. Assign points to arbitrary coordinates in p-dimensional space.\n",
    "2. Compute euclidean distances(Classic MDS) among all pairs of points, to form the Dhat matrix.\n",
    "3. Compare the Dhat matrix with the input D matrix by evaluating the `stress function`. The smaller the value, the greater the correspondance between the two.\n",
    "4. Adjust coordinates of each point in the direction that best maximally stress.\n",
    "Repeat steps 2 through 4 until stress won't get any lower.\n",
    "\n",
    "---\n",
    "Compared to PCA\n",
    "\n",
    "MDS is very similar to PCA, except that instead of converting correlationn, they convert distances among the samples.\n",
    "\n",
    "<div style=\"text-align:center;\">\n",
    "    <img style=\"width:50%\" src=\"static/imgs/pca_mds.png\" />\n",
    "</div>"
   ]
  },
  {
   "cell_type": "markdown",
   "metadata": {},
   "source": [
    "## [IsoMap](https://blog.paperspace.com/dimension-reduction-with-isomap/)\n",
    "\n",
    "Isomap stands for isometric mapping. Isomap is a `non-linear` dimensionality reduction method based on the spectral theory which tries to preserve the geodesic distances in the lower dimension. \n",
    "\n",
    "A simplified view of the algorithm is as follows:\n",
    "- Isomap starts by creating a neighborhood network. \n",
    "- After that, it uses graph distance to the approximate geodesic distance between all pairs of points. \n",
    "- And then, through eigenvalue decomposition of the geodesic distance matrix, it finds the low dimensional embedding of the dataset. \n",
    "\n",
    "---\n",
    "Compared to Euclidean Metric:\n",
    "\n",
    "1. Euclidean not good for non-linear dimension reduction\n",
    "In non-linear manifolds, the Euclidean metric for distance holds good if and only if neighborhood structure can be approximated as linear. If neighborhood contains holes, then Euclidean distances can be highly misleading. In contrast to this, if we measure the distance between two points by following the manifold, we will have a better approximation of how far or near two points are. Let's understand this with an extremely simple 2-D example. Suppose our data lies on a circular manifold in a 2-D structure like in the image below.\n",
    "\n",
    "<div style=\"text-align:center;\">\n",
    "    <img style=\"width:50%\" src=\"static/imgs/euclidean_geodesic.png\" />\n",
    "</div>\n",
    "\n",
    "---\n",
    "How does Isomap outstand?\n",
    "Isomap uses the above principle to create a similarity matrix for eigenvalue decomposition. \n",
    "\n",
    "Unlike other non-linear dimensionality reduction like LLE & LPP which only use local information, \n",
    "- isomap uses the local information to create a global similarity matrix. The isomap algorithm uses euclidean metrics to prepare the neighborhood graph. \n",
    "- Then, it approximates the geodesic distance between two points by measuring shortest path between these points using graph distance.\n",
    "\n",
    "Thus, it approximates both global as well as the local structure of the dataset in the low dimensional embedding\n"
   ]
  },
  {
   "cell_type": "markdown",
   "metadata": {},
   "source": [
    "## [t-SNE](https://towardsdatascience.com/an-introduction-to-t-sne-with-python-example-5a3a293108d1)\n",
    "\n",
    "t-Distributed Stochastic Neighbor Embedding (t-SNE) is a non-linear technique for dimensionality reduction that is particularly well suited for the visualization of high-dimensional datasets. It is extensively applied in image processing, NLP, genomic data and speech processing. \n",
    "\n",
    "---\n",
    "How t-SNE works\n",
    "\n",
    "The t-SNE algorithm calculates a similarity measure between pairs of instances in the high dimensional space and in the low dimensional space. It then tries to optimize these two similarity measures using a cost function.\n",
    "\n",
    "---\n",
    "Steps how it process:\n",
    "\n",
    "1. First step measures similarities between points in the high dimensional space. \n",
    "\n",
    "    - For each data point (xi) we’ll center a Gaussian distribution over that point. \n",
    "    - Then we measure the density of all points (xj) under that Gaussian distribution.\n",
    "    - Then renormalize for all points. This gives us a set of probabilities (Pij) for all points. Those probabilities are proportional to the similarities. \n",
    "\n",
    "    ```All that means is, if data points x1 and x2 have equal values under this gaussian circle then their proportions and similarities are equal and hence you have local similarities in the structure of this high-dimensional space. ```\n",
    "\n",
    "The Gaussian distribution or circle can be manipulated using what’s called perplexity, which influences the variance of the distribution (circle size) and essentially the number of nearest neighbors.\n",
    "\n",
    "2. It is similar to step 1, but instead of using a Gaussian distribution you use a Student t-distribution with one degree of freedom. This gives us a second set of probabilities (Qij) in the low dimensional space. As you can see the Student t-distribution has heavier tails than the normal distribution. The heavy tails allow for better modeling of far apart distances.\n",
    "\n",
    "3. The last step is that we want these set of probabilities from the low-dimensional space (Qij) to reflect those of the high dimensional space (Pij) as best as possible. We want the two map structures to be similar. We measure the difference between the probability distributions of the two-dimensional spaces using `Kullback-Liebler divergence (KL)`. It is an asymmetrical approach that efficiently compares large Pij and Qij values. Finally, we use gradient descent to minimize our KL cost function."
   ]
  },
  {
   "cell_type": "markdown",
   "metadata": {},
   "source": [
    "## [AutoEncoder](https://towardsdatascience.com/dimensionality-reduction-for-machine-learning-80a46c2ebb7e)\n",
    "\n",
    "Another popular dimensionality reduction method that gives spectacular results are auto-encoders, a type of artificial neural network that aims to copy their inputs to their outputs. They compress the input into a latent-space representation, and then reconstructs the output from this representation. An autoencoder is composed of two parts :\n",
    "\n",
    "- Encoder: compresses the input into a latent-space representation.\n",
    "- Decoder: reconstruct the input from the latent space representation."
   ]
  },
  {
   "cell_type": "markdown",
   "metadata": {},
   "source": [
    "<div style=\"text-align:center;\">\n",
    "    <img style=\"width:50%\" src=\"static/imgs/autoencoder.png\" />\n",
    "</div>\n"
   ]
  }
 ],
 "metadata": {
  "kernelspec": {
   "display_name": "Python 3",
   "language": "python",
   "name": "python3"
  },
  "language_info": {
   "codemirror_mode": {
    "name": "ipython",
    "version": 3
   },
   "file_extension": ".py",
   "mimetype": "text/x-python",
   "name": "python",
   "nbconvert_exporter": "python",
   "pygments_lexer": "ipython3",
   "version": "3.7.0"
  }
 },
 "nbformat": 4,
 "nbformat_minor": 2
}
