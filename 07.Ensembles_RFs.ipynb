{
 "cells": [
  {
   "cell_type": "markdown",
   "metadata": {},
   "source": [
    "# Chapter 7. Ensemble Learning & Random Forests\n",
    "> Ensemble learning is based upon the concept of \"wisdom of the crowd\". This is where you can train many, many weak classifiers and aggregate their votes on data to make an overall classification. This concept can be used with multiple methods (decision tress and SVM's) in order to gain insights across differing models."
   ]
  },
  {
   "cell_type": "markdown",
   "metadata": {},
   "source": [
    "1. Voting Classifiers: How to bring together the many weak learners into a single classification\n",
    "\n",
    "---\n",
    "2. Bagging: Bootstrap Aggregating (Sampling with replacement for ensemble methods)\n",
    "3. Pasting: Sampling without replacement for ensemble methods\n",
    "\n",
    "---\n",
    "4. Random Patches: Sampling a subset of data instances and features; helpful for large-dimensional datasets\n",
    "5. Random Subspaces: Sampling all the data but only some of the features\n",
    "\n",
    "---\n",
    "6. Random Forests: Ensemble of decision trees using bagging\n",
    "7. Extremely Randomized Trees (Extra Trees)\n",
    "\n",
    "    - Using a Random forest but also making random thresholds for each feature rather than searching for best possible thresholds (because that is the most computationally expensive part)\n",
    "    - Trading more bias for lower variance\n",
    "\n",
    "---\n",
    "7. Boosting\n",
    "    - Combining weak learners sequentially to make stronger learning\n",
    "    - AdaBoost (Adaptive Boosting)\n",
    "        - Pay more attention to training instances that predecessor underfitted\n",
    "    - Gradient Boosting\n",
    "        - Fits each successive predictor on the residual errors of the previous predictor\n",
    "        - Uses \"shrinkage\" regularization technique to minimize the contribution of any given tree to the final decision\n",
    "\n",
    "---\n",
    "8. Stacking (Stacked Generalization): Training a model (as opposed to a function such as \"hard voting\") to aggregate the prediction from the ensemble of predictors"
   ]
  },
  {
   "cell_type": "markdown",
   "metadata": {},
   "source": [
    "- Suppose you pose a random question to thousands of people, then aggregate their answers. In many cases you will find that this aggregated answer is better than an **expert's answer** (*really*).\n",
    "    - This is called the *wisdom of the crowd*.\n",
    "- Similarly, if you aggregate the predictions of a group of predictors (such as classifiers or regressors), you will often get better predictions than the best individual predictor.\n",
    "- A group of predictors is called an ensemble. Thus this technique is called **ensemble learning**, and an ensemble learning algorithm is called an **Ensemble Method**.\n",
    "- As an example of an ensemble method, you can train a group of decision tree classifiers, each on a *random subset* of the training data. \n",
    "    - Such an ensemble of decision trees is called a **random forest**. \n",
    "    - Despite its simplicity, this is one of the most powerful machine learning algorithms available today.\n",
    "- You will often use ensemble methods near the end of a project, once you have already built a few good predictors, to combine them into an even better predictor.\n",
    "- In this chapter, we will discuss the most famous ensemble learning methods, including:\n",
    "    - **Bagging, Boosting, & Stacking**.\n",
    "\n",
    "## Voting Classifiers\n",
    "\n",
    "- Suppose you have trained a few classifiers, each achieving an 80% accuracy.\n",
    "- A very simple way to create an even better classifiers is to aggregate the predictions of all your classifiers and choose the prediction that is the most frequent.\n",
    "- This majority voting classifier is called a **Hard Voting** Classifier:\n",
    "\n",
    "<div style=\"text-align:center;\"><img style=\"width: 50%;\" src=\"static/imgs/Hard_voting.png\"></div>\n",
    "\n",
    "- Somewhat surprisingly, this classifier achieves an even better accuracy than the best predictor in the ensemble.\n",
    "    - Even if each classifier is a weak learner (does slightly better then random guessing).\n",
    "        - Provided there are a sufficient number of weak learners and enough diversity.\n",
    "- Due to the law of large numbers, if you build an ensemble containing 1,000 classifiers with individual accuracies of $51%$ & trained for binary classification, If you predict the majority voting class, you can hope for up to $75%$ accuracy.\n",
    "    - This is only true if all classifiers are completely independent, making uncorrelated errors, which is clearly not the case because they are trained on the same data.\n",
    "- One way to get diverse classifiers is use different algorithms for each one of them & train them on different subset of the training data. \n",
    "- Let's implement a hard voting ensemble learner using scikit-learn:"
   ]
  },
  {
   "cell_type": "code",
   "execution_count": 2,
   "metadata": {},
   "outputs": [],
   "source": [
    "import numpy as np\n",
    "import pandas as pd\n",
    "import matplotlib.pyplot as plt\n",
    "import sklearn\n",
    "\n",
    "from sklearn.ensemble import RandomForestClassifier\n",
    "from sklearn.ensemble import VotingClassifier\n",
    "from sklearn.linear_model import LogisticRegression\n",
    "from sklearn.svm import SVC\n",
    "\n",
    "from sklearn import datasets\n",
    "from sklearn.model_selection import train_test_split"
   ]
  },
  {
   "cell_type": "code",
   "execution_count": 6,
   "metadata": {},
   "outputs": [
    {
     "data": {
      "text/plain": [
       "((670, 2), (670,), (330, 2), (330,))"
      ]
     },
     "execution_count": 6,
     "metadata": {},
     "output_type": "execute_result"
    }
   ],
   "source": [
    "X, y = datasets.make_moons(n_samples=1000, noise=0.5)\n",
    "X_train, X_val, y_train, y_val = train_test_split(X, y, test_size=0.33)\n",
    "X_train.shape, y_train.shape, X_val.shape, y_val.shape"
   ]
  },
  {
   "cell_type": "code",
   "execution_count": 10,
   "metadata": {},
   "outputs": [
    {
     "data": {
      "text/plain": [
       "VotingClassifier(estimators=[('lr',\n",
       "                              LogisticRegression(C=1.0, class_weight=None,\n",
       "                                                 dual=False, fit_intercept=True,\n",
       "                                                 intercept_scaling=1,\n",
       "                                                 l1_ratio=None, max_iter=100,\n",
       "                                                 multi_class='warn',\n",
       "                                                 n_jobs=None, penalty='l2',\n",
       "                                                 random_state=None,\n",
       "                                                 solver='lbfgs', tol=0.0001,\n",
       "                                                 verbose=0, warm_start=False)),\n",
       "                             ('rf',\n",
       "                              RandomForestClassifier(bootstrap=True,\n",
       "                                                     class_weight=None,\n",
       "                                                     criterion='gini'...\n",
       "                                                     n_jobs=None,\n",
       "                                                     oob_score=False,\n",
       "                                                     random_state=None,\n",
       "                                                     verbose=0,\n",
       "                                                     warm_start=False)),\n",
       "                             ('svc',\n",
       "                              SVC(C=1.0, cache_size=200, class_weight=None,\n",
       "                                  coef0=0.0, decision_function_shape='ovr',\n",
       "                                  degree=3, gamma='scale', kernel='rbf',\n",
       "                                  max_iter=-1, probability=False,\n",
       "                                  random_state=None, shrinking=True, tol=0.001,\n",
       "                                  verbose=False))],\n",
       "                 flatten_transform=True, n_jobs=None, voting='hard',\n",
       "                 weights=None)"
      ]
     },
     "execution_count": 10,
     "metadata": {},
     "output_type": "execute_result"
    }
   ],
   "source": [
    "log_clf = LogisticRegression(solver='lbfgs')\n",
    "rf_clf = RandomForestClassifier(n_estimators=100)\n",
    "svm_clf = SVC(gamma='scale')\n",
    "voting_clf = VotingClassifier(estimators=[('lr', log_clf), \n",
    "                                          ('rf', rf_clf), \n",
    "                                          ('svc', svm_clf)], \n",
    "                              voting='hard')\n",
    "voting_clf.fit(X_train, y_train)"
   ]
  },
  {
   "cell_type": "markdown",
   "metadata": {},
   "source": [
    "- Let's take a look at the performance of each classifier + ensemble method on the validation set:"
   ]
  },
  {
   "cell_type": "code",
   "execution_count": 13,
   "metadata": {},
   "outputs": [
    {
     "name": "stdout",
     "output_type": "stream",
     "text": [
      "LogisticRegression 0.8242424242424242\n",
      "RandomForestClassifier 0.793939393939394\n",
      "SVC 0.8212121212121212\n",
      "VotingClassifier 0.8151515151515152\n"
     ]
    }
   ],
   "source": [
    "from sklearn.metrics import accuracy_score\n",
    "for clf in [log_clf, rf_clf, svm_clf, voting_clf]:\n",
    "    clf.fit(X_train, y_train)\n",
    "    y_hat = clf.predict(X_val)\n",
    "    print(clf.__class__.__name__, accuracy_score(y_val, y_hat))"
   ]
  },
  {
   "cell_type": "markdown",
   "metadata": {},
   "source": [
    "- There you have it! The voting classifier slightly outperforms the individual classifiers.\n",
    "- If all ensemble method learners can estimate class probabilities, you can average their probabilities per class then predict the class with the highest probability.\n",
    "    - This is called **Soft voting**.\n",
    "    - It often yields results better than hard voting because it weights confidence."
   ]
  },
  {
   "cell_type": "markdown",
   "metadata": {},
   "source": [
    "## Bagging & Pasting\n",
    "\n",
    "- Another approach to having different algorithms trained on the same dataset is to have one algorithm but trained on random subsets of the training data.\n",
    "    - When subset sampling is performed with replacement, this is called **bagging**.\n",
    "    - When sampling is performed without replacement, this is called **Pasting**.\n",
    "- Bagging is showcased in the following figure:\n",
    "\n",
    "<div style=\"text-align:center;\"><img style=\"width: 50%;\" src=\"static/imgs/bagging.png\"></div>\n",
    "\n",
    "- Once the ensemble method is done training, we can infer using *mode* for classification or *avg* for regression.\n",
    "- Each individual predictor has a higher bias than if it were trained on the whole training dataset, but aggregation reduces both bias and variance.\n",
    "- Because ensemble learners use separate different algorithms, they can be easily parallalizable, and that is why bagging and pasting are so popular, they scale very well."
   ]
  },
  {
   "cell_type": "markdown",
   "metadata": {},
   "source": [
    "### Bagging & Pasting in Scikit-Learn\n",
    "\n",
    "- Let's implement bagging in scikit-learn:"
   ]
  },
  {
   "cell_type": "code",
   "execution_count": 15,
   "metadata": {},
   "outputs": [],
   "source": [
    "from sklearn.ensemble import BaggingClassifier\n",
    "from sklearn.tree import DecisionTreeClassifier"
   ]
  },
  {
   "cell_type": "code",
   "execution_count": 18,
   "metadata": {},
   "outputs": [
    {
     "name": "stdout",
     "output_type": "stream",
     "text": [
      "0.796969696969697\n"
     ]
    }
   ],
   "source": [
    "bag_clf = BaggingClassifier(DecisionTreeClassifier(), \n",
    "                            n_estimators=500, max_samples=100, \n",
    "                            bootstrap=True, n_jobs=-1)\n",
    "bag_clf.fit(X_train, y_train)\n",
    "y_hat = bag_clf.predict(X_val)\n",
    "print(accuracy_score(y_val, y_hat))"
   ]
  },
  {
   "cell_type": "markdown",
   "metadata": {},
   "source": [
    "- Bagging models often result in a slightly more biased model than the base predictor, but because of the diversity of the training subsets, it has much smoother decision curves meaning it has usually a lower variance\n",
    "- The comparable/slightly higher bias comes from the fact that we are sampling with replacement, leading to points making it to multiple child learners.\n",
    "- following is a comparison\n",
    "\n",
    "<div style=\"text-align:center;\"><img style=\"width:66%;\" src=\"static/imgs/dt_bagging.png\"></div>\n",
    "\n",
    "- Overall, bagging generally produce better models, and this explains why it's very popular.\n",
    "    - but if you have compute time and power you can use cross validation to test both bagging and pasting for your case and decide which works better."
   ]
  },
  {
   "cell_type": "markdown",
   "metadata": {},
   "source": [
    "### Out-of-Bag Evaluation\n",
    "\n",
    "- With bagging, some instances will be sampled several times for several predictors, while others won't be sampled at all.\n",
    "- Only about 63% of the instances are sampled for each predictor.\n",
    "- The other 37% of instances not sampled are called Out-of-Bag (oob) instances. \n",
    "    - Note that they're not the same 37% for all predictors.\n",
    "- Since the individual predictor never sees the oob samples, it can be evaluated on the oob data without the need for a separate validation set.\n",
    "- You can evaluate the ensemble itself by averaging the oob scores of each predictor.\n",
    "- Let's do this using scikit-learn:"
   ]
  },
  {
   "cell_type": "code",
   "execution_count": 19,
   "metadata": {},
   "outputs": [
    {
     "data": {
      "text/plain": [
       "BaggingClassifier(base_estimator=DecisionTreeClassifier(class_weight=None,\n",
       "                                                        criterion='gini',\n",
       "                                                        max_depth=None,\n",
       "                                                        max_features=None,\n",
       "                                                        max_leaf_nodes=None,\n",
       "                                                        min_impurity_decrease=0.0,\n",
       "                                                        min_impurity_split=None,\n",
       "                                                        min_samples_leaf=1,\n",
       "                                                        min_samples_split=2,\n",
       "                                                        min_weight_fraction_leaf=0.0,\n",
       "                                                        presort=False,\n",
       "                                                        random_state=None,\n",
       "                                                        splitter='best'),\n",
       "                  bootstrap=True, bootstrap_features=False, max_features=1.0,\n",
       "                  max_samples=0.63, n_estimators=500, n_jobs=-1, oob_score=True,\n",
       "                  random_state=None, verbose=0, warm_start=False)"
      ]
     },
     "execution_count": 19,
     "metadata": {},
     "output_type": "execute_result"
    }
   ],
   "source": [
    "bag_clf = BaggingClassifier(DecisionTreeClassifier(),\n",
    "                            n_estimators=500, max_samples=0.63,\n",
    "                            bootstrap=True, n_jobs=-1, oob_score=True)\n",
    "bag_clf.fit(X_train, y_train)"
   ]
  },
  {
   "cell_type": "code",
   "execution_count": 20,
   "metadata": {},
   "outputs": [
    {
     "data": {
      "text/plain": [
       "0.835820895522388"
      ]
     },
     "execution_count": 20,
     "metadata": {},
     "output_type": "execute_result"
    }
   ],
   "source": [
    "bag_clf.oob_score_"
   ]
  },
  {
   "cell_type": "markdown",
   "metadata": {},
   "source": [
    "Let's verify this estimation using the validation set:"
   ]
  },
  {
   "cell_type": "code",
   "execution_count": 21,
   "metadata": {},
   "outputs": [
    {
     "data": {
      "text/plain": [
       "0.796969696969697"
      ]
     },
     "execution_count": 21,
     "metadata": {},
     "output_type": "execute_result"
    }
   ],
   "source": [
    "y_hat = bag_clf.predict(X_val)\n",
    "accuracy_score(y_val, y_hat)"
   ]
  },
  {
   "cell_type": "markdown",
   "metadata": {},
   "source": [
    "- Close enough!\n",
    "- The oob decision function is also available using scikit-learn's API, since our classifier is a decision tree then the decision function is a ratio that can be expressed as a probability, let's take a look at it for each instance:"
   ]
  },
  {
   "cell_type": "code",
   "execution_count": 22,
   "metadata": {},
   "outputs": [
    {
     "data": {
      "text/plain": [
       "array([[1.        , 0.        ],\n",
       "       [0.252     , 0.748     ],\n",
       "       [0.37164751, 0.62835249],\n",
       "       ...,\n",
       "       [0.812     , 0.188     ],\n",
       "       [0.41603053, 0.58396947],\n",
       "       [0.        , 1.        ]])"
      ]
     },
     "execution_count": 22,
     "metadata": {},
     "output_type": "execute_result"
    }
   ],
   "source": [
    "bag_clf.oob_decision_function_"
   ]
  },
  {
   "cell_type": "markdown",
   "metadata": {},
   "source": [
    "## Random Patches & Random Subspaces\n",
    "\n",
    "- We can sample features as well.\n",
    "- Sampling is controlled by two hyper-parameters: `max_features` & `bootstrap_features`.\n",
    "- Thus, each predictor will be trained on a random feature sample.\n",
    "- This technique is especially useful when you're dealing with high-dimensional input as as imagery. \n",
    "- Sample both instances and features is called the random patches method.\n",
    "- Sampling only features is called the random subspaces method.\n",
    "- Sampling features results in a more predictor diversity."
   ]
  },
  {
   "cell_type": "markdown",
   "metadata": {},
   "source": [
    "## Random Forests\n",
    "\n",
    "- A random forest is an ensemble of decision trees.\n",
    "- Let's use its scikit-learn implementation:"
   ]
  },
  {
   "cell_type": "code",
   "execution_count": 24,
   "metadata": {},
   "outputs": [],
   "source": [
    "from sklearn.ensemble import RandomForestClassifier\n",
    "\n",
    "rnd_clf = RandomForestClassifier(n_estimators=500, \n",
    "                                 max_leaf_nodes=16, \n",
    "                                 n_jobs=-1)\n",
    "rnd_clf.fit(X_train, y_train)\n",
    "y_pred_brf = rnd_clf.predict(X_val)"
   ]
  },
  {
   "cell_type": "markdown",
   "metadata": {},
   "source": [
    "- The following `BaggingClassifier` is roughly equivalent to the previous `RandomForestClassifier`:"
   ]
  },
  {
   "cell_type": "code",
   "execution_count": 25,
   "metadata": {},
   "outputs": [],
   "source": [
    "bag_clf = BaggingClassifier(\n",
    "    DecisionTreeClassifier(splitter='random', max_leaf_nodes=16),\n",
    "    n_estimators=500, max_samples=1.0, bootstrap=True, n_jobs=-1\n",
    ")"
   ]
  },
  {
   "cell_type": "markdown",
   "metadata": {},
   "source": [
    "### Extra-Trees\n",
    "\n",
    "- When you are growing a tree in a random forest, only a subset of features are considered when splitting.\n",
    "- It's possible to make the trees more random by choosing different threshold of the features rather than searching for the best possible threshold.\n",
    "    - Such a model is called **Extremely Randomized Trees Ensemble**.\n",
    "- We don't really know if an extremely randomized trees model will or will not outperform a classical random forest model.\n",
    "    - Generally, the only way to know is to try both and check their results using cross validation."
   ]
  },
  {
   "cell_type": "markdown",
   "metadata": {},
   "source": [
    "### Feature Importance\n",
    "\n",
    "- Yet another great quality of random forests is that they make it so easy to measure the importance of each feature.\n",
    "- We measure the importance by averaging the reduced impurity of each node that uses a certain feature across all trees in the forest.\n",
    "    - More exactly it's a weighted average beacuse each node has a number of samples that is used to weight.\n",
    "- Let's get feature importance using random forests on the iris dataset:"
   ]
  },
  {
   "cell_type": "code",
   "execution_count": 27,
   "metadata": {},
   "outputs": [
    {
     "name": "stdout",
     "output_type": "stream",
     "text": [
      "sepal length (cm) 0.09232940669186326\n",
      "sepal width (cm) 0.020792286225216634\n",
      "petal length (cm) 0.46467116460308605\n",
      "petal width (cm) 0.422207142479834\n"
     ]
    }
   ],
   "source": [
    "from sklearn.datasets import load_iris\n",
    "iris = load_iris()\n",
    "rnd_clf = RandomForestClassifier(n_estimators=500, n_jobs=-1)\n",
    "rnd_clf.fit(iris['data'], iris['target'])\n",
    "\n",
    "for name, score in zip(iris['feature_names'], rnd_clf.feature_importances_):\n",
    "    print(name, score)"
   ]
  },
  {
   "cell_type": "markdown",
   "metadata": {},
   "source": [
    "- Let's plot pixel-wise MNIST feature importance:"
   ]
  },
  {
   "cell_type": "code",
   "execution_count": 29,
   "metadata": {
    "scrolled": true
   },
   "outputs": [
    {
     "data": {
      "text/plain": [
       "RandomForestClassifier(bootstrap=True, class_weight=None, criterion='gini',\n",
       "                       max_depth=None, max_features='auto', max_leaf_nodes=None,\n",
       "                       min_impurity_decrease=0.0, min_impurity_split=None,\n",
       "                       min_samples_leaf=1, min_samples_split=2,\n",
       "                       min_weight_fraction_leaf=0.0, n_estimators=500,\n",
       "                       n_jobs=-1, oob_score=False, random_state=None, verbose=0,\n",
       "                       warm_start=False)"
      ]
     },
     "execution_count": 29,
     "metadata": {},
     "output_type": "execute_result"
    }
   ],
   "source": [
    "from sklearn.datasets import load_digits\n",
    "digits = load_digits()\n",
    "rnd_clf = RandomForestClassifier(n_estimators=500, n_jobs=-1)\n",
    "rnd_clf.fit(digits['data'], digits['target'])"
   ]
  },
  {
   "cell_type": "code",
   "execution_count": 36,
   "metadata": {},
   "outputs": [
    {
     "data": {
      "text/plain": [
       "1797"
      ]
     },
     "execution_count": 36,
     "metadata": {},
     "output_type": "execute_result"
    }
   ],
   "source": [
    "len(digits['target'])"
   ]
  },
  {
   "cell_type": "code",
   "execution_count": 30,
   "metadata": {},
   "outputs": [
    {
     "data": {
      "image/png": "[encoded data removed]",
      "text/plain": [
       "<Figure size 432x288 with 2 Axes>"
      ]
     },
     "metadata": {
      "needs_background": "light"
     },
     "output_type": "display_data"
    }
   ],
   "source": [
    "plt.imshow(rnd_clf.feature_importances_.reshape(8,8), cmap='Blues')\n",
    "plt.colorbar()\n",
    "plt.show()"
   ]
  },
  {
   "cell_type": "markdown",
   "metadata": {},
   "source": [
    "- Random Forest are very handy to get a quick understanding of what features actually matter, particularly if you need to perform feature selection."
   ]
  },
  {
   "cell_type": "markdown",
   "metadata": {},
   "source": [
    "## Boosting\n",
    "\n",
    "- Boosting refers to any ensemble method that can combine several weak learners into a strong learner.\n",
    "- The general idea of most boosting methods is to train predictors sequentially, each trying to correct its predecessor. \n",
    "- There are many boosting methods available, but by far the most popular one is **AdaBoost** (Adaptive boosting) and **gradient boosting**.\n",
    "- Let's start with Adaboost:"
   ]
  },
  {
   "cell_type": "markdown",
   "metadata": {},
   "source": [
    "### AdaBoost\n",
    "\n",
    "- One way for a new predictor to correct its predecessor is to pay a bit more attention to the training instances that were underfitted.\n",
    "- this results in the later predictors focusing more and more on the hard cases.\n",
    "- & This is the technique used by Adaboost.\n",
    "- The following figure demenstrates the process\n",
    "\n",
    "<div style=\"text-align:center;\"><img style=\"width:50%;\" src=\"static/imgs/adaboost.png\"></div>\n",
    "\n",
    "- The algorithm first trains a base classifier and use it to make predictions on the training set. the algorithm then increases the weight of the missclassified instances and pass its weights + the data to the next predictor.\n",
    "- This iterative learning approach shares similarities with gradient descent, except in gradient descent we're using the gradients to minimize a cost function, but with AdaBoost we're simply adding more learners to the chain.\n",
    "- There is one important drawback of this method, It cannot be parallalized because each predictor needs the output of the previous predictor.\n",
    "- Let's take a closer look at the Adaboost Algorithm:\n",
    "- Each instance weight $w^{(i)}$ is initially set to $1/m$.\n",
    "- A first predictor is trained, and its weighted error rate $r_1$ is computed on the training set using the general formula, where:\n",
    "    - $\\hat{y}_j^{(i)}$ is the $j^{th}$ predictor's prediction for the $i^{th}$ instance.\n",
    "$$r_j=\\frac{\\sum_{i=1(\\hat{y_j^{(i)}}\\neq{y^{(i)}})}^{m} w^{(i)}}{\\sum_{i=1}^{m}w^{(i)}}$$\n",
    "- the predictor's weight $\\alpha_{0}$ is computed as follows:\n",
    "$$\\alpha_{j}=\\eta log(\\frac{1-r_j}{r_j})$$\n",
    "- The more accurate the predictor is, the higher its weight will be. If it's just guessing randomly, then its weight will be close to zero.\n",
    "    - However, If it's most often wrong, then its weight will be negative.\n",
    "- Next the adaboost algorithm updates the instance weights which boosts the weights of the misclassified instances:\n",
    "$$\\forall i \\in \\{1,2, \\dots, m\\} \\\\ w^{(i)} \\leftarrow \\begin{cases}\n",
    "w^{(i)},  & \\text{if $\\hat{y}^{(i)}_j = y^{(i)}$} \\\\\n",
    "w^{(i)}exp(\\alpha_{j}), & \\text{else}\n",
    "\\end{cases}$$\n",
    "- Then all the instance weights are normalized (are divided by the sum of the weights).\n",
    "- Finally, a new predictor is trained using the updated weights, and the whole process is repeated again.\n",
    "- The algorithm stops when the desired number of predictors is reached, or when a perfect predictor is found.\n",
    "- To make predictions, Adaboost simply computes the predictions of all the predictors and weight them using the predictor weights $\\alpha_j$.\n",
    "- The predicted class is the one that receives the majority of the weighted votes (where $N$ is the number of predictors):\n",
    "$$\\hat{y}(x)=argmax_{k}\\sum_{j=1 \\; \\hat{y}_j(x)=k}^{N}\\alpha_j$$\n",
    "- Let's use scikit-learn's implementation of Adaboost with 1 depth decision trees:"
   ]
  },
  {
   "cell_type": "code",
   "execution_count": 41,
   "metadata": {},
   "outputs": [
    {
     "data": {
      "text/plain": [
       "0.8212121212121212"
      ]
     },
     "execution_count": 41,
     "metadata": {},
     "output_type": "execute_result"
    }
   ],
   "source": [
    "from sklearn.ensemble import AdaBoostClassifier\n",
    "from sklearn.metrics import accuracy_score\n",
    "ada_clf = AdaBoostClassifier(base_estimator=DecisionTreeClassifier(max_depth=1),\n",
    "                             n_estimators=200, algorithm='SAMME.R',\n",
    "                             learning_rate=0.5)\n",
    "ada_clf.fit(X_train, y_train)\n",
    "accuracy_score(ada_clf.predict(X_val), y_val)"
   ]
  },
  {
   "cell_type": "markdown",
   "metadata": {},
   "source": [
    "### Gradient Boosting\n",
    "\n",
    "- Just like Adaboost, Gradient Boosting works by sequentially adding predictors to an ensemble each one correcting its predecessor.\n",
    "- However, instead of tweaking the instance weights at every iteration like Adaboost does, this method tries to fit the new predictor to the **residual errors** made by the previous predictor.\n",
    "- Let's go through a simple regression example, First let's fit a decision tree regressor to a synthetically generated training set:"
   ]
  },
  {
   "cell_type": "markdown",
   "metadata": {},
   "source": [
    "### Difference\n",
    "Both methods use a set of weak learners. They try to boost these weak learners into a strong learner. I assume that the strong learner is additive by the weak learners.\n",
    "\n",
    "`Gradient boosting` generates learners during the learning process. It build first learner to predict the values/labels of samples, and calculate the loss (the difference between the outcome of the first learner and the real value). It will build a second learner to predict the loss after the first step. The step continues to learn the third, forth… until certain threshold.\n",
    "\n",
    "`Adaboost` requires users specify a set of weak learners (alternatively, it will randomly generate a set of weak learner before the real learning process). It will learn the weights of how to add these learners to be a strong learner. The weight of each learner is learned by whether it predicts a sample correctly or not. If a learner is mispredict a sample, the weight of the learner is reduced a bit. It will repeat such process until converge."
   ]
  },
  {
   "cell_type": "code",
   "execution_count": 43,
   "metadata": {},
   "outputs": [
    {
     "data": {
      "image/png": "[encoded data removed]",
      "text/plain": [
       "<Figure size 432x288 with 1 Axes>"
      ]
     },
     "metadata": {
      "needs_background": "light"
     },
     "output_type": "display_data"
    }
   ],
   "source": [
    "X = np.linspace(start=0, stop=1, num=500)\n",
    "y = (X-0.5)**2 + np.random.randn(500)/50.\n",
    "X = X[..., None]  # 1 feature\n",
    "\n",
    "plt.scatter(X.squeeze(), y.squeeze(), s=1)\n",
    "plt.show()"
   ]
  },
  {
   "cell_type": "code",
   "execution_count": 44,
   "metadata": {},
   "outputs": [
    {
     "data": {
      "text/plain": [
       "DecisionTreeRegressor(criterion='mse', max_depth=2, max_features=None,\n",
       "                      max_leaf_nodes=None, min_impurity_decrease=0.0,\n",
       "                      min_impurity_split=None, min_samples_leaf=1,\n",
       "                      min_samples_split=2, min_weight_fraction_leaf=0.0,\n",
       "                      presort=False, random_state=None, splitter='best')"
      ]
     },
     "execution_count": 44,
     "metadata": {},
     "output_type": "execute_result"
    }
   ],
   "source": [
    "from sklearn.tree import DecisionTreeRegressor\n",
    "tree_reg1 = DecisionTreeRegressor(max_depth=2)\n",
    "tree_reg1.fit(X, y)"
   ]
  },
  {
   "cell_type": "markdown",
   "metadata": {},
   "source": [
    "- Next, we'll train a second decision tree regressor on the errors made by the first tree:"
   ]
  },
  {
   "cell_type": "code",
   "execution_count": 45,
   "metadata": {},
   "outputs": [
    {
     "data": {
      "text/plain": [
       "DecisionTreeRegressor(criterion='mse', max_depth=2, max_features=None,\n",
       "                      max_leaf_nodes=None, min_impurity_decrease=0.0,\n",
       "                      min_impurity_split=None, min_samples_leaf=1,\n",
       "                      min_samples_split=2, min_weight_fraction_leaf=0.0,\n",
       "                      presort=False, random_state=None, splitter='best')"
      ]
     },
     "execution_count": 45,
     "metadata": {},
     "output_type": "execute_result"
    }
   ],
   "source": [
    "y2 = y - tree_reg1.predict(X)\n",
    "tree_reg2 = DecisionTreeRegressor(max_depth=2)\n",
    "tree_reg2.fit(X, y2)"
   ]
  },
  {
   "cell_type": "markdown",
   "metadata": {},
   "source": [
    "- Now we train a third regressor on the errors made by the second regressor:"
   ]
  },
  {
   "cell_type": "code",
   "execution_count": 46,
   "metadata": {},
   "outputs": [
    {
     "data": {
      "text/plain": [
       "DecisionTreeRegressor(criterion='mse', max_depth=2, max_features=None,\n",
       "                      max_leaf_nodes=None, min_impurity_decrease=0.0,\n",
       "                      min_impurity_split=None, min_samples_leaf=1,\n",
       "                      min_samples_split=2, min_weight_fraction_leaf=0.0,\n",
       "                      presort=False, random_state=None, splitter='best')"
      ]
     },
     "execution_count": 46,
     "metadata": {},
     "output_type": "execute_result"
    }
   ],
   "source": [
    "y3 = y2 - tree_reg2.predict(X)\n",
    "tree_reg3 = DecisionTreeRegressor(max_depth=2)\n",
    "tree_reg3.fit(X, y3)"
   ]
  },
  {
   "cell_type": "markdown",
   "metadata": {},
   "source": [
    "- Now we have an ensemble containing three trees. It can make predictions on a new instance simply by adding up the predictions of all the trees:"
   ]
  },
  {
   "cell_type": "code",
   "execution_count": 47,
   "metadata": {},
   "outputs": [],
   "source": [
    "y_pred = sum(tree.predict(X) for tree in (tree_reg1, tree_reg2, tree_reg3))"
   ]
  },
  {
   "cell_type": "code",
   "execution_count": 48,
   "metadata": {},
   "outputs": [
    {
     "data": {
      "image/png": "[encoded data removed]",
      "text/plain": [
       "<Figure size 432x288 with 1 Axes>"
      ]
     },
     "metadata": {
      "needs_background": "light"
     },
     "output_type": "display_data"
    }
   ],
   "source": [
    "plt.scatter(X.squeeze(), y.squeeze(), s=1)\n",
    "plt.scatter(X.squeeze(), y_pred.squeeze(), s=1, c='red')\n",
    "plt.show()"
   ]
  },
  {
   "cell_type": "markdown",
   "metadata": {},
   "source": [
    "- The following figure showcases the predictions made by sequential models, on the left we have gradient boosting, on the right we have Adaboost:\n",
    "\n",
    "<div style=\"text-align:center;\"><img style=\"width:66%;\" src=\"static/imgs/boosting_ensembles.png\"></div>\n",
    "\n",
    "- A simpler way to train Gradient Boosting Regressor Trees ensemble is to use Scikit-Learn as follows:"
   ]
  },
  {
   "cell_type": "code",
   "execution_count": 49,
   "metadata": {},
   "outputs": [
    {
     "data": {
      "text/plain": [
       "GradientBoostingRegressor(alpha=0.9, criterion='friedman_mse', init=None,\n",
       "                          learning_rate=1.0, loss='ls', max_depth=2,\n",
       "                          max_features=None, max_leaf_nodes=None,\n",
       "                          min_impurity_decrease=0.0, min_impurity_split=None,\n",
       "                          min_samples_leaf=1, min_samples_split=2,\n",
       "                          min_weight_fraction_leaf=0.0, n_estimators=3,\n",
       "                          n_iter_no_change=None, presort='auto',\n",
       "                          random_state=None, subsample=1.0, tol=0.0001,\n",
       "                          validation_fraction=0.1, verbose=0, warm_start=False)"
      ]
     },
     "execution_count": 49,
     "metadata": {},
     "output_type": "execute_result"
    }
   ],
   "source": [
    "from sklearn.ensemble import GradientBoostingRegressor\n",
    "gbrt = GradientBoostingRegressor(max_depth=2, \n",
    "                                 n_estimators=3, \n",
    "                                 learning_rate=1.0)\n",
    "gbrt.fit(X, y)"
   ]
  },
  {
   "cell_type": "markdown",
   "metadata": {},
   "source": [
    "- The learning rate in the hyper-parameters scales the contribution of each tree.\n",
    "    - If you set it to a low value, you will need more trees in the ensemble to fit the model to the training set.\n",
    "        - But the predictions will usually generalize better.\n",
    "- For a fixed learning rate, you will have to figure out the optimal number of trees to not underfit/overfit.\n",
    "    - Early stopping can be used.\n",
    "\n",
    "<div style=\"text-align:center;\"><img style=\"width:66%;\" src=\"static/imgs/ensemble_overunderfit.png\"></div>\n",
    "\n",
    "- The following code trains a GBRT ensemble with 120 trees, then measures the validation error at each stage of training to find the optimal number of trees, and finally trains another GBRT ensemble using the optimal number of trees: "
   ]
  },
  {
   "cell_type": "code",
   "execution_count": 50,
   "metadata": {},
   "outputs": [
    {
     "name": "stdout",
     "output_type": "stream",
     "text": [
      "93\n"
     ]
    },
    {
     "data": {
      "text/plain": [
       "GradientBoostingRegressor(alpha=0.9, criterion='friedman_mse', init=None,\n",
       "                          learning_rate=0.1, loss='ls', max_depth=2,\n",
       "                          max_features=None, max_leaf_nodes=None,\n",
       "                          min_impurity_decrease=0.0, min_impurity_split=None,\n",
       "                          min_samples_leaf=1, min_samples_split=2,\n",
       "                          min_weight_fraction_leaf=0.0, n_estimators=93,\n",
       "                          n_iter_no_change=None, presort='auto',\n",
       "                          random_state=None, subsample=1.0, tol=0.0001,\n",
       "                          validation_fraction=0.1, verbose=0, warm_start=False)"
      ]
     },
     "execution_count": 50,
     "metadata": {},
     "output_type": "execute_result"
    }
   ],
   "source": [
    "import numpy as np\n",
    "from sklearn.model_selection import train_test_split\n",
    "from sklearn.metrics import mean_squared_error\n",
    "\n",
    "X_train, X_val, y_train, y_val = train_test_split(X, y)\n",
    "gbrt = GradientBoostingRegressor(max_depth=2, n_estimators=120)\n",
    "gbrt.fit(X_train, y_train)\n",
    "\n",
    "errors = [mean_squared_error(y_val, y_pred) for y_pred in gbrt.staged_predict(X_val)]\n",
    "\n",
    "bst_n_estimators = np.argmin(errors) + 1\n",
    "print(bst_n_estimators)\n",
    "\n",
    "gbrt_best = GradientBoostingRegressor(max_depth=2, n_estimators=bst_n_estimators)\n",
    "gbrt_best.fit(X_train, y_train)\n",
    "\n",
    "\n",
    "\n",
    "\n"
   ]
  },
  {
   "cell_type": "markdown",
   "metadata": {},
   "source": [
    "- Our `argmin` based pick and the resulting model are showcased in the following figure:\n",
    "\n",
    "<div style=\"text-align:center;\"><img style=\"width: 66%;\" src=\"static/imgs/gradient_boosting_optimization.png\"></div>\n",
    "\n",
    "- It is also possible to implement early stopping by actually stopping early and not export results for a large number of trees then use `argmin`. \n",
    "- This code stops training when the validation error does not improve for five iterations in a row:"
   ]
  },
  {
   "cell_type": "code",
   "execution_count": 51,
   "metadata": {},
   "outputs": [],
   "source": [
    "gbrt = GradientBoostingRegressor(max_depth=2, warm_start=True)\n",
    "min_val_error = float(\"inf\")\n",
    "error_going_up = 0\n",
    "\n",
    "for n_estimators in range(1, 120):\n",
    "    gbrt.n_estimators = n_estimators\n",
    "    gbrt.fit(X_train, y_train)\n",
    "    y_pred = gbrt.predict(X_val)\n",
    "    val_error = mean_squared_error(y_val, y_pred)\n",
    "    if val_error < min_val_error:\n",
    "        min_val_error = val_error\n",
    "        error_going_up = 0\n",
    "    else:\n",
    "        error_going_up += 1\n",
    "        if error_going_up == 5:\n",
    "            break  # Early Stopping"
   ]
  },
  {
   "cell_type": "markdown",
   "metadata": {},
   "source": [
    "- It's worth noting that an optimized implementation of gradient boosting is available in the popular python library **`XGBoost`** (Stands for Extreme Gradient Boosting).\n",
    "- Let's try it out:"
   ]
  },
  {
   "cell_type": "code",
   "execution_count": 52,
   "metadata": {},
   "outputs": [
    {
     "name": "stdout",
     "output_type": "stream",
     "text": [
      "[21:28:26] WARNING: src/objective/regression_obj.cu:152: reg:linear is now deprecated in favor of reg:squarederror.\n"
     ]
    },
    {
     "data": {
      "text/plain": [
       "XGBRegressor(base_score=0.5, booster='gbtree', colsample_bylevel=1,\n",
       "             colsample_bynode=1, colsample_bytree=1, gamma=0,\n",
       "             importance_type='gain', learning_rate=0.1, max_delta_step=0,\n",
       "             max_depth=3, min_child_weight=1, missing=None, n_estimators=100,\n",
       "             n_jobs=1, nthread=None, objective='reg:linear', random_state=0,\n",
       "             reg_alpha=0, reg_lambda=1, scale_pos_weight=1, seed=None,\n",
       "             silent=None, subsample=1, verbosity=1)"
      ]
     },
     "execution_count": 52,
     "metadata": {},
     "output_type": "execute_result"
    }
   ],
   "source": [
    "import xgboost\n",
    "\n",
    "xgb_reg = xgboost.XGBRegressor()\n",
    "xgb_reg.fit(X_train, y_train)"
   ]
  },
  {
   "cell_type": "markdown",
   "metadata": {},
   "source": [
    "- The library can take care of early stopping for you:"
   ]
  },
  {
   "cell_type": "code",
   "execution_count": 53,
   "metadata": {
    "scrolled": true
   },
   "outputs": [
    {
     "name": "stdout",
     "output_type": "stream",
     "text": [
      "[21:28:36] WARNING: src/objective/regression_obj.cu:152: reg:linear is now deprecated in favor of reg:squarederror.\n",
      "[0]\tvalidation_0-rmse:0.385541\n",
      "Will train until validation_0-rmse hasn't improved in 2 rounds.\n",
      "[1]\tvalidation_0-rmse:0.3479\n",
      "[2]\tvalidation_0-rmse:0.313864\n",
      "[3]\tvalidation_0-rmse:0.283281\n",
      "[4]\tvalidation_0-rmse:0.255655\n",
      "[5]\tvalidation_0-rmse:0.230881\n",
      "[6]\tvalidation_0-rmse:0.208398\n",
      "[7]\tvalidation_0-rmse:0.188277\n",
      "[8]\tvalidation_0-rmse:0.169935\n",
      "[9]\tvalidation_0-rmse:0.1535\n",
      "[10]\tvalidation_0-rmse:0.138626\n",
      "[11]\tvalidation_0-rmse:0.125318\n",
      "[12]\tvalidation_0-rmse:0.113483\n",
      "[13]\tvalidation_0-rmse:0.102647\n",
      "[14]\tvalidation_0-rmse:0.09286\n",
      "[15]\tvalidation_0-rmse:0.083984\n",
      "[16]\tvalidation_0-rmse:0.076205\n",
      "[17]\tvalidation_0-rmse:0.069043\n",
      "[18]\tvalidation_0-rmse:0.062846\n",
      "[19]\tvalidation_0-rmse:0.057259\n",
      "[20]\tvalidation_0-rmse:0.052093\n",
      "[21]\tvalidation_0-rmse:0.047655\n",
      "[22]\tvalidation_0-rmse:0.043664\n",
      "[23]\tvalidation_0-rmse:0.040055\n",
      "[24]\tvalidation_0-rmse:0.036955\n",
      "[25]\tvalidation_0-rmse:0.034152\n",
      "[26]\tvalidation_0-rmse:0.031716\n",
      "[27]\tvalidation_0-rmse:0.029648\n",
      "[28]\tvalidation_0-rmse:0.027831\n",
      "[29]\tvalidation_0-rmse:0.026252\n",
      "[30]\tvalidation_0-rmse:0.024953\n",
      "[31]\tvalidation_0-rmse:0.023852\n",
      "[32]\tvalidation_0-rmse:0.022994\n",
      "[33]\tvalidation_0-rmse:0.022217\n",
      "[34]\tvalidation_0-rmse:0.02157\n",
      "[35]\tvalidation_0-rmse:0.021031\n",
      "[36]\tvalidation_0-rmse:0.020589\n",
      "[37]\tvalidation_0-rmse:0.020243\n",
      "[38]\tvalidation_0-rmse:0.019991\n",
      "[39]\tvalidation_0-rmse:0.019807\n",
      "[40]\tvalidation_0-rmse:0.019635\n",
      "[41]\tvalidation_0-rmse:0.019482\n",
      "[42]\tvalidation_0-rmse:0.019381\n",
      "[43]\tvalidation_0-rmse:0.019295\n",
      "[44]\tvalidation_0-rmse:0.019245\n",
      "[45]\tvalidation_0-rmse:0.019194\n",
      "[46]\tvalidation_0-rmse:0.019163\n",
      "[47]\tvalidation_0-rmse:0.019136\n",
      "[48]\tvalidation_0-rmse:0.019166\n",
      "[49]\tvalidation_0-rmse:0.019174\n",
      "Stopping. Best iteration:\n",
      "[47]\tvalidation_0-rmse:0.019136\n",
      "\n"
     ]
    },
    {
     "data": {
      "text/plain": [
       "XGBRegressor(base_score=0.5, booster='gbtree', colsample_bylevel=1,\n",
       "             colsample_bynode=1, colsample_bytree=1, gamma=0,\n",
       "             importance_type='gain', learning_rate=0.1, max_delta_step=0,\n",
       "             max_depth=3, min_child_weight=1, missing=None, n_estimators=100,\n",
       "             n_jobs=1, nthread=None, objective='reg:linear', random_state=0,\n",
       "             reg_alpha=0, reg_lambda=1, scale_pos_weight=1, seed=None,\n",
       "             silent=None, subsample=1, verbosity=1)"
      ]
     },
     "execution_count": 53,
     "metadata": {},
     "output_type": "execute_result"
    }
   ],
   "source": [
    "xgb_reg.fit(X_train, y_train, eval_set=[(X_val, y_val)], early_stopping_rounds=2)"
   ]
  },
  {
   "cell_type": "code",
   "execution_count": 54,
   "metadata": {},
   "outputs": [
    {
     "data": {
      "image/png": "[encoded data removed]",
      "text/plain": [
       "<Figure size 432x288 with 1 Axes>"
      ]
     },
     "metadata": {
      "needs_background": "light"
     },
     "output_type": "display_data"
    }
   ],
   "source": [
    "y_pred = xgb_reg.predict(X_val)\n",
    "mean_squared_error(y_val, y_pred)\n",
    "\n",
    "plt.scatter(X_val.squeeze(), y_val.squeeze(), s=1)\n",
    "plt.scatter(X_val.squeeze(), y_pred.squeeze(), s=1, c='red')\n",
    "plt.show()"
   ]
  },
  {
   "cell_type": "markdown",
   "metadata": {},
   "source": [
    "## Stacking\n",
    "\n",
    "- The last ensemble method we will discuss in this chapter is called stacking (short for stacked generalization).\n",
    "- It is based on a simple idea\n",
    "    - Instead of using trivial functions (such as hard voting) to aggregate the predictions of all predictors in an ensemble, Why don't we train a model to do that for us?\n",
    "    - The final aggregator learner is typically called a **blender** or a **meta-learner**.\n",
    "- Following figure outlines the idea of learning aggregations:\n",
    "\n",
    "<div style=\"text-align:center;\"><img style=\"width: 50%;\" src=\"static/imgs/blender.png\"></div>\n",
    "\n",
    "- To train a blender, a common approach is to use a holdout set.\n",
    "- We first train predictors on the first holdout set.\n",
    "- Then the first layer predictors are used to export predictions of the second held-out set.\n",
    "    - This ensures that the predictions are clean since the predictors never saw the 2nd held-out instances during training.\n",
    "- The result is that for each instance in the holdout set, we have 3 predictions, the 3 predictions per row will be considered as input for the blender.\n",
    "    - The blender is trained on this new dataset.\n",
    "- Unfortunately, `scikit-learn` doesn't support stacking directly."
   ]
  }
 ],
 "metadata": {
  "kernelspec": {
   "display_name": "Python 3",
   "language": "python",
   "name": "python3"
  },
  "language_info": {
   "codemirror_mode": {
    "name": "ipython",
    "version": 3
   },
   "file_extension": ".py",
   "mimetype": "text/x-python",
   "name": "python",
   "nbconvert_exporter": "python",
   "pygments_lexer": "ipython3",
   "version": "3.7.0"
  }
 },
 "nbformat": 4,
 "nbformat_minor": 2
}
