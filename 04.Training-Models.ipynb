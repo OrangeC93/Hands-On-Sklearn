{
 "cells": [
  {
   "cell_type": "markdown",
   "metadata": {},
   "source": [
    "# Chapter 4. Training Models"
   ]
  },
  {
   "cell_type": "markdown",
   "metadata": {},
   "source": [
    "1. Linear Regression\n",
    "\n",
    "2. Gradient Descent GD\n",
    "\n",
    "    - Batch GD: train using whole data set\n",
    "    - Mini-Batch GD: train using subsets of data\n",
    "    - Stochastic GD: take steps from randomly selected data\n",
    "\n",
    "3. Types of regression\n",
    "\n",
    "    - Linear\n",
    "    - Polynomial\n",
    "    - Ridge: regularizes to keep weights small (L2 Norm)\n",
    "    - Lasso: pushed weights to 0 (L1 Norm)\n",
    "    - Elastic Net: combination of Lasso and Ridge\n",
    "    - Logistic: Estimates probabilities of class\n",
    "    - Softmax: Logistic Regression expanded to multiple classes\n",
    "\n",
    "4. Look at Learning curves! (rate of learning)\n",
    "\n",
    "    - Early Stopping: Helps reduce overfitting by restricting training cycles"
   ]
  },
  {
   "cell_type": "markdown",
   "metadata": {},
   "source": [
    "- In many situations, you need to understand the implementation of many algorithms.\n",
    "- But understanding the underlying logic of machine learning algorithms will help you to:\n",
    "    - Pick the right one for the task\n",
    "    - Pick a good initial set of hyper-parameters\n",
    "    - Pick a good training algorithm\n",
    "    - ...\n",
    "- lastly, most of the topics discussed in this chapter will be essential for understanding neural networks.\n",
    "- In this chapter, we will start by lookin at linear regression training from two different angles:\n",
    "    - Using a direct \"closed-form\" analytical method to get the optimal parameters for the linear model\n",
    "    - Using an interative optimization method called gradient descent.\n",
    "        - It gradually tweaks the model parameters until it converges to the same set of parameters found by method 1.\n",
    "        - we will take a look at multiple types of gradient descent: stochastic GD, batch GD, Mini-batch GD.\n",
    "- Next we will look at polynomial regression, or models that can fit non-linear datasets.\n",
    "- Then we will look at several regularization techniques that will help up reduce the overfitting typically found in Polynomial models.\n",
    "- Finally, we will look at two popular models used for classification tasks: Logistic regression & softmax regression."
   ]
  },
  {
   "cell_type": "markdown",
   "metadata": {},
   "source": [
    "## Linear Regression\n",
    "\n",
    "- In chapter I, we looked at a simple model for *Life Satisfaction*:\n",
    "$$life\\_satisfaction = \\theta_{0} + \\theta_{1} \\times GDP\\_per\\_capita$$\n",
    "- This model is just a linear function of `GDP_per_Capita` with $\\theta_{0}$ and $\\theta_{1}$ as parameters.\n",
    "- A linear model makes a prediction by simply computing the weighted sum of the input features + a constant called a bias term.\n",
    "- More generally:\n",
    "$$\\hat{y} = \\theta_{0} + \\theta_{1}x_{1} + \\theta_{2}x_{2} + \\dots + \\theta_{n}x_{n}$$\n",
    "- This can be written much more consicely using its vectorized form:\n",
    "$$\n",
    "\\hat{y}=h_{\\theta}(x)=\\theta \\cdot x \\space | \\space\n",
    "\\theta=\\begin{bmatrix} \\theta_{0}  \\\\ \\theta_{1}  \\\\ \\vdots  \\\\ \\theta_{n} \\end{bmatrix},\n",
    "x=\\begin{bmatrix} 1 \\\\ x_{1} \\\\ \\vdots \\\\ x_{n} \\end{bmatrix}\n",
    "$$\n",
    "- *Note:* $\\cdot$ in $\\theta \\cdot x$ represent the dot product & not vector multiplication.\n",
    "- $h_{\\theta}(x)$ is the hypothesis function using parameters $\\theta$.\n",
    "- Note\n",
    "    - In ML, vectors are often represented as column vectors.\n",
    "    - Because $\\theta$ and $x$ are both column vectors, we can write the prediction as follows:\n",
    "$$\\hat{y} = \\theta^{T} x$$\n",
    "        - Now, $\\hat{y}$ is a single-cell matrix resulting from matrix multiplication.\n",
    "    - In this book, we will use this notation to avoid switching between dot products and matrix multiplications.\n",
    "- Training a model means adjusting its parameters so it best fits the data.\n",
    "- For us to succeed, we first need to describe what do we mean by \"best fitting the data\". \n",
    "- We pick the mean sqaured error ($MSE$) as measure of the model performance:\n",
    "$$MSE(X,h_{\\theta}) = \\frac{1}{m} \\sum_{i=1}^{m} (\\theta^{T}x^{(i)} - y^{(i)})^2$$\n",
    "- Where $X$ is the training data set represented as $X=\\{(x_{1},y_{1}), (x_{2},y_{2}), \\dots, (x_{m},y_{m})\\}$"
   ]
  },
  {
   "cell_type": "markdown",
   "metadata": {},
   "source": [
    "### The Normal Equation\n",
    "- To find $\\theta$ that minimizes the cost/loss function $MSE(\\theta)$, there is a closed form solution.\n",
    "- In other words, a mathematical equation that gives the result directly, and it's called the normal equation.\n",
    "$$\\hat{\\theta}=(X^{T}X)^{-1}X^{T}y$$\n",
    "- $\\hat{\\theta}$ is the value of $\\theta$ that minimizes the cost function $MSE(\\theta)$.\n",
    "- Let's generate some linear data to test this equation:"
   ]
  },
  {
   "cell_type": "code",
   "execution_count": 1,
   "metadata": {},
   "outputs": [],
   "source": [
    "import numpy as np\n",
    "import matplotlib.pyplot as plt\n",
    "plt.style.use('default')"
   ]
  },
  {
   "cell_type": "code",
   "execution_count": 2,
   "metadata": {},
   "outputs": [
    {
     "data": {
      "image/png": "[encoded data removed]",
      "text/plain": [
       "<Figure size 432x288 with 1 Axes>"
      ]
     },
     "metadata": {
      "needs_background": "light"
     },
     "output_type": "display_data"
    }
   ],
   "source": [
    "X = 2 * np.random.rand(100, 1)\n",
    "y = 4 + 3 * X + np.random.randn(100, 1)\n",
    "\n",
    "plt.scatter(x=X, y=y)\n",
    "plt.xlabel('X')\n",
    "plt.ylabel('y')\n",
    "plt.show()"
   ]
  },
  {
   "cell_type": "markdown",
   "metadata": {},
   "source": [
    "- Now let's compute $\\hat{\\theta}$ using the normal equation:"
   ]
  },
  {
   "cell_type": "code",
   "execution_count": 3,
   "metadata": {},
   "outputs": [
    {
     "data": {
      "text/plain": [
       "array([[4.1699154 ],\n",
       "       [2.78597763]])"
      ]
     },
     "execution_count": 3,
     "metadata": {},
     "output_type": "execute_result"
    }
   ],
   "source": [
    "X_b = np.c_[np.ones_like(X), X]\n",
    "theta_best = np.linalg.inv(X_b.T.dot(X_b)).dot(X_b.T).dot(y)\n",
    "theta_best"
   ]
  },
  {
   "cell_type": "markdown",
   "metadata": {},
   "source": [
    "- The parameters that we used to generate the data (with some noise) are $\\theta_{0}=4$ and $\\theta_{1}=3$.\n",
    "- The noise was responsible for not making it possible to recover the initial parameters $\\theta_{0}$ & $\\theta_{1}$.\n",
    "- Now we can make predictions using our optimal parameters:"
   ]
  },
  {
   "cell_type": "code",
   "execution_count": 4,
   "metadata": {},
   "outputs": [],
   "source": [
    "X_ = np.array([[0], [2]])\n",
    "X_ = np.c_[np.ones_like(X_), X_].T\n",
    "X_.shape\n",
    "\n",
    "y_hat = np.matmul(theta_best.T, X_)"
   ]
  },
  {
   "cell_type": "code",
   "execution_count": 5,
   "metadata": {},
   "outputs": [
    {
     "data": {
      "image/png": "[encoded data removed]",
      "text/plain": [
       "<Figure size 432x288 with 1 Axes>"
      ]
     },
     "metadata": {
      "needs_background": "light"
     },
     "output_type": "display_data"
    }
   ],
   "source": [
    "plt.scatter(x=X, y=y)\n",
    "plt.plot([0,2], y_hat.flatten(), color='red', label='Predictions')\n",
    "plt.xlabel('X')\n",
    "plt.ylabel('y')\n",
    "plt.legend()\n",
    "plt.show()"
   ]
  },
  {
   "cell_type": "markdown",
   "metadata": {},
   "source": [
    "- Performing Linear Regression using scikit-learn is also simple:"
   ]
  },
  {
   "cell_type": "code",
   "execution_count": 9,
   "metadata": {},
   "outputs": [
    {
     "data": {
      "text/plain": [
       "array([[4.1699154 ],\n",
       "       [9.74187065]])"
      ]
     },
     "execution_count": 9,
     "metadata": {},
     "output_type": "execute_result"
    }
   ],
   "source": [
    "from sklearn.linear_model import LinearRegression\n",
    "lin_reg = LinearRegression(n_jobs=-1)\n",
    "lin_reg.fit(X, y)\n",
    "lin_reg.intercept_, lin_reg.coef_\n",
    "\n",
    "lin_reg.predict(np.array([[0], [2]]))"
   ]
  },
  {
   "cell_type": "markdown",
   "metadata": {},
   "source": [
    "- The `LinearRegression` class is based on `scipy.linalg.lstsq` function which you could call directly:"
   ]
  },
  {
   "cell_type": "markdown",
   "metadata": {},
   "source": [
    "- The function computes $\\hat{\\theta}=X^{+}y$ where $X^{+}$ is the Moore-Penrose inverse, $X^{+}=(X^{T}X)^{-1}X^{T}$.\n",
    "    - You can compute it directly:"
   ]
  },
  {
   "cell_type": "code",
   "execution_count": 10,
   "metadata": {},
   "outputs": [
    {
     "data": {
      "text/plain": [
       "array([[4.1699154 ],\n",
       "       [2.78597763]])"
      ]
     },
     "execution_count": 10,
     "metadata": {},
     "output_type": "execute_result"
    }
   ],
   "source": [
    "theta_best_svd, residuals, rank, s = np.linalg.lstsq(X_b, y, rcond=1e-6)\n",
    "theta_best_svd\n",
    "np.linalg.pinv(X_b).dot(y)"
   ]
  },
  {
   "cell_type": "markdown",
   "metadata": {},
   "source": [
    "- The pseudoinverse itself is computed using a **standard matrix vectorization** technique called **Singular Value Decomposition** (SVD).\n",
    "    - SVD can decompose the training set $X$ into the matrix multiplication of 3 matrices: $U \\space \\Sigma \\space V^{T}$.\n",
    "    - As a result, we have $X^{+}=V \\Sigma^{+} U^{T}$\n",
    "    - To compute the matrix $\\Sigma^{+}$, the algorithm takes $\\Sigma$ and:\n",
    "        - Sets to zero all values smaller than an $\\epsilon$\n",
    "        - Replaces all the non-zero values with their inverse\n",
    "        - Finally transposes the resulting matrix.\n",
    "- This approach is more efficient than directly computing the normal equation\n",
    "    - It handles edge cases nicely.\n",
    "- The nomral equation may not work if $X^{T}X$ is not invertible but the pseudoinverse is always defined."
   ]
  },
  {
   "cell_type": "markdown",
   "metadata": {},
   "source": [
    "### Computational Complexity\n",
    "\n",
    "- The normal equation computes the inverse of $X^{T}X$, which is an $(n+1) \\times (n+1)$ matrix (where n is the number of features).\n",
    "- The computation complexity of inverting such a matrix is typically about $O(n^{2.4})$ to $O(n^{3})$, depending on the implementation.\n",
    "- In other words, **if you double the number of features, you will increase the computation time by x5.3 to x8.**\n",
    "- Notes\n",
    "    - Both the normal equation & SVD approaches get very slow with a large number of features (100,000).\n",
    "    - On a positive side, both are linear when it comes to the number of instances (or observations) you have in $X$.\n",
    "- Once you trained your model using the Normal equation or SVD, predictions are exported really fast.\n",
    "     - Linear complexity on both instances and features.\n",
    "- Now we will look at a completely different way of finding the optimal parameters $\\theta$\n",
    "    - **It is suitable when you have too many features or instances you can't fit in memory**:"
   ]
  },
  {
   "cell_type": "markdown",
   "metadata": {},
   "source": [
    "## Gradient Descent\n",
    "\n",
    "- Gradient Descent is a generic optimization algorithm capable of finding solutions to a wide veriety of problems.\n",
    "- The general idea of gradient descent is to tweak a model's parameters iteratively until we converge to an optimal set of parameters $\\hat{\\theta}$.\n",
    "- Suppose you are lost in the mountain with dense fog, you can't see anything, you only can feel the ground below your feet. and you want to go home.\n",
    "    - A good strategy is to move in the direction of the steepest slope.\n",
    "    - This is exactly what gradient descent does.\n",
    "- GD measures the local gradient of the error function with regards to the parameter function $\\theta$ and goes in the direction of descending gradient.\n",
    "- **Once the gradient is Zero, you have reached a minimum**.\n",
    "- Practically, you start by initializing $\\theta$ with random values (this is called **random initialization**).\n",
    "- Then you improve it gradually, taking one baby step at a time.\n",
    "    - Each step attempting to decrease the cost function, until you converge to a minimum:\n",
    "    \n",
    "<div style=\"text-align:center;\"><img style=\"width: 50%;\" src=\"static/imgs/GD.png\"></div>\n",
    "\n",
    "- An important parameter in gradient descent is the size of the step, determined by the *learning rate* hyper-parameter.\n",
    "    - If the learning rate is too small, the algorithm will take a long time to convert to a minimum.\n",
    "    - If the learning rate is too big, the algorithm my jump infinately between intervals or even diverge.\n",
    "- Finally, not all cost functions look like nice, regular bowls.\n",
    "    - there may be holes/ridges/plateaus and all sorts of irregular terrains.\n",
    "- The curvatures of most cost functions is challenging.\n",
    "- As a result, the initialization of your parameters play an important role, depending on where did you start, you might end up in a place or another:\n",
    "\n",
    "<div style=\"text-align:center;\"><img style=\"width: 50%;\" src=\"static/imgs/Loss_curvature.png\"></div>\n",
    "\n",
    "- Fortunately, $MSE$ for Linear regression is a convex function, meaning, It's garanteed that the found minimum is th global minimum of the function.\n",
    "    - No local minima, just one **global minimum**\n",
    "- It's also a continuous function with a slope that never changes ubruptly (Lipschitz continuious).\n",
    "- The Cost function has a shape of a bowl\n",
    "    - But it can be an elongated bowl without feature scaling (because the dynamic range of each feature's parameter will be different):\n",
    "\n",
    "<div style=\"text-align:center;\"><img style=\"width: 50%;\" src=\"static/imgs/scaling_effect.png\"></div>\n",
    "\n",
    "- By not doing feature scaling and by enforcing a constant learning rate for both feature parameters, the algorithm will take longer to reach the global minimum.\n",
    "- Warning: When using gradient descent, make sure that all features are scaled.\n",
    "- Briefly, when we are training the model, we are effectively **searching** for a parameter set that minimizes the cost function.\n",
    "    - **It's a search in the model's parameter space**\n",
    "        - The more parameters the model has, the more dimensions the space has, the harder for us to find the optimal set of parameters."
   ]
  },
  {
   "cell_type": "markdown",
   "metadata": {},
   "source": [
    "### Batch Gradient Descent\n",
    "\n",
    "- To implement Gradient Descent, you need to compute the gradient of the cost function with regards to each model parameter $\\theta_{j}$.\n",
    "    - This is called a partial derivative.\n",
    "- Let's compute the partial derivative of our previously defined cost function $MSE$:\n",
    "\n",
    "$$\\frac{\\partial{J}}{\\partial{\\theta_{j}}}(\\theta)=\\frac{2}{m}\\sum_{i=1}^{m}(\\theta^{T}x^{(i)}-y^{(i)})x_{j}^{(i)}$$\n",
    "\n",
    "- instead of computing the partial derivatives individually, we can give a general expression for batch mean squared error gradient:\n",
    "- We have:\n",
    "$$MSE(\\theta)=\\frac{1}{m}(X\\theta - y)^2$$\n",
    "- So:\n",
    "$$\\nabla_{\\theta}MSE(\\theta)=\\frac{2}{m}X\\cdot(X\\theta-y)$$\n",
    "- & because we prefer matrix multiplication over the dot product notation:\n",
    "$$\\nabla_{\\theta}MSE(\\theta)=\\frac{2}{m}X^{T}(X\\theta-y)$$\n",
    "- Because, for two vectors $w$ and $x$:\n",
    "$$w \\cdot x = w^{T}x$$\n",
    "- Notice that this formula involves calculating the gradient over the whole training set ($X$) for every learning step.\n",
    "    - This is why this algorithm is called `Batch Gradient Descent`, the batch represending teh whole training set.\n",
    "    - As a result, It's very slow on large training sets.\n",
    "    - However, GD scales well with the number of features.\n",
    "- Once you have the gradient vector, which points uphill, go in the opposite direction to go downhill.\n",
    "- The gradient descent algorithm:\n",
    "$$\\theta^{\\space(next \\space step)} = \\theta - \\eta \\nabla_{\\theta}MSE(\\theta)$$\n",
    "- Let's look at a quick implementation of this algorithm:"
   ]
  },
  {
   "cell_type": "markdown",
   "metadata": {},
   "source": [
    "- Data Preparation:"
   ]
  },
  {
   "cell_type": "code",
   "execution_count": 12,
   "metadata": {},
   "outputs": [
    {
     "data": {
      "image/png": "[encoded data removed]",
      "text/plain": [
       "<Figure size 432x288 with 1 Axes>"
      ]
     },
     "metadata": {
      "needs_background": "light"
     },
     "output_type": "display_data"
    }
   ],
   "source": [
    "X = np.linspace(start=0, stop=1, num=100)\n",
    "y = (0.5 * X) + 0.1 + 0.3 * np.random.rand(100)\n",
    "\n",
    "plt.scatter(x=X, y=y)\n",
    "plt.show()"
   ]
  },
  {
   "cell_type": "markdown",
   "metadata": {},
   "source": [
    "Next, we append `1`s to X:"
   ]
  },
  {
   "cell_type": "code",
   "execution_count": 13,
   "metadata": {},
   "outputs": [],
   "source": [
    "X = np.c_[np.ones_like(X), X]"
   ]
  },
  {
   "cell_type": "markdown",
   "metadata": {},
   "source": [
    "We then randomly initialize the parameters:"
   ]
  },
  {
   "cell_type": "code",
   "execution_count": 15,
   "metadata": {},
   "outputs": [],
   "source": [
    "theta = np.random.rand(2)"
   ]
  },
  {
   "cell_type": "code",
   "execution_count": 16,
   "metadata": {},
   "outputs": [],
   "source": [
    "def mse(X, y, theta):\n",
    "    \"\"\"Returns the Mean Squared Error.\n",
    "    \n",
    "    # Arguments:\n",
    "        X, np.ndarray: the intput training data with `1`s appended to each row.\n",
    "        y, np.ndarray: the targets of the training rows.\n",
    "        theta, np.ndarray: the parameter vector of the model.\n",
    "    \n",
    "    # Returns\n",
    "        MSE, float: Mean Squared Error between `X*theta` and `y`.\n",
    "    \"\"\"\n",
    "    m = X.shape[0]\n",
    "    X_theta = np.matmul(X, theta)\n",
    "    return 1./m * np.matmul((X_theta - y).T, (X_theta - y))\n",
    "\n",
    "def grad_mse(X, y, theta):\n",
    "    \"\"\"Returns MSE's Gradient Vector.\n",
    "    \n",
    "    # Arguments\n",
    "        X, np.ndarray: the intput training data with `1`s appended to each row.\n",
    "        y, np.ndarray: the targets of the training rows.\n",
    "        theta, np.ndarray: the parameter vector of the model.\n",
    "    \n",
    "    # Results\n",
    "        grad_mse, np.ndarray: the gradient vector of the mean squared error function. \n",
    "    \"\"\"\n",
    "    m = X.shape[0]\n",
    "    X_theta = np.matmul(X, theta)\n",
    "    return 2./m * np.matmul(X.T, X_theta - y)"
   ]
  },
  {
   "cell_type": "markdown",
   "metadata": {},
   "source": [
    "Let's choose a learning rate:"
   ]
  },
  {
   "cell_type": "code",
   "execution_count": 17,
   "metadata": {},
   "outputs": [
    {
     "data": {
      "text/plain": [
       "array([0.23631045, 0.41573459])"
      ]
     },
     "execution_count": 17,
     "metadata": {},
     "output_type": "execute_result"
    }
   ],
   "source": [
    "lr = 0.01\n",
    "while mse(X, y, theta) > 0.01:\n",
    "    theta = theta - lr * grad_mse(X, y, theta)\n",
    "mse(X, y, theta)\n",
    "theta"
   ]
  },
  {
   "cell_type": "markdown",
   "metadata": {},
   "source": [
    "Finally, let's check what our model learned:"
   ]
  },
  {
   "cell_type": "code",
   "execution_count": 18,
   "metadata": {},
   "outputs": [
    {
     "data": {
      "image/png": "[encoded data removed]",
      "text/plain": [
       "<Figure size 432x288 with 1 Axes>"
      ]
     },
     "metadata": {
      "needs_background": "light"
     },
     "output_type": "display_data"
    }
   ],
   "source": [
    "plt.scatter(x=X[:,1], y=y)\n",
    "plt.plot([0,1], [theta[0] + theta[1]*0, theta[0] + theta[1]*1], color='red')\n",
    "plt.show()"
   ]
  },
  {
   "cell_type": "markdown",
   "metadata": {},
   "source": [
    "- Batch Gradient Descent worked perfectly.\n",
    "- What if you had used a different learning rate $\\eta$?\n",
    "- The following figure shows the first 10 steps of gradient descent using different learning rates (the dashed line represents the initial one):\n",
    "\n",
    "<div style=\"text-align:center;\"><img style=\"width: 66%;\" src=\"static/imgs/different_lrs.png\"></div>\n",
    "\n",
    "- On the left the learning rate is too low: the algorithm will eventually reach the solution, but it will take a long time.\n",
    "- In the middle, the learning rate looks pretty good: in just a few iterations, it had already converged to a solution.\n",
    "- On the right, the learning rate is too high, the algorithm diverges, jumping all over the place and actually getting away from the solution.\n",
    "- To find a good learning rate, you may want to try grid/random search\n",
    "    - use just a few iterations to get an idea of a good learning rate without spending a lot of resources (compute or time)\n",
    "- You may wonder how to find a good iterations number\n",
    "    - If you set it low, you'll miss on a better trained model and consequently, better results.\n",
    "    - If you set it high, you'll waste resources after your model has already converged.\n",
    "    - A good simple strategy is to **Set a very large number of iterations then interrupt training when you start getting very small gradient values**\n",
    "        - Meaning the parameters are (almost) not changing.\n",
    "- When the cost function is convex and its slope doesn't change abruptly (as in the case of our MSE loss function) Batch Gradient Descent with a fixed learning rate will eventually converge to the optimal solution, but you may have to wait for it to get there. \n",
    "    - It can take $O(\\frac{1}{\\epsilon})$ with $\\epsilon=d(\\hat{\\theta}, \\theta)$ depending on the shape of the cost function\n",
    "    - If you devide the tolerance by 10 to have a more precise solution, then the algorithm may run for 10 times longer."
   ]
  },
  {
   "cell_type": "markdown",
   "metadata": {},
   "source": [
    "### Stochastic Gradient Descent\n",
    "\n",
    "- The whole problem with batch gradient descent is that it uses the whole training set at each step to calculate the gradients & optimize the parameters.\n",
    "    - Which **makes it very slow if the training set is large**.\n",
    "- At the opposite extreme, **Stochastic Gradient Descent picks only 1 point and calculate the gradients and update the parameters based on it**.\n",
    "- Working on 1 data point at a step makes the algorithm really fast.\n",
    "- It also makes it possible to train on very large data sets since at each step only one data point is needed in memory.\n",
    "- On the other hand, because it only relies on 1 data point at a time (picked randomly) the algorithm is not stable and the loss function doesn't decrease gradually, it decrease if we average multiple steps.\n",
    "- Over time, SGD will get the parameters such as $J(\\theta)$ is very close to 0 but it will continue to bounce up and down due to it picking 1 point at a time.\n",
    "\n",
    "<div style=\"text-align:center;\"><img style=\"width: 50%;\" src=\"static/imgs/SGD_Loss.png\"></div>\n",
    "\n",
    "- When the loss curve is irregular, SGD might actually manage to jump out of a local minimum.\n",
    "- So SGD has a better chance to find the global minimum than BSG has because SGD is not as stable in optimizing the parameters of the model.\n",
    "- **Randomness is Good to Espace local minimas but bad because you will never settle on a minima**.\n",
    "    - This can be addressed by **Gradually decreasing the learning rate as the algorithm trains**.\n",
    "        - The steps starts out large which help the algorithm escape local minima.\n",
    "        - Then get smaller & smaller, allowing the algorithm to settle on the global minima.\n",
    "    - This proceess is akin to **simulated annealing**\n",
    "- The function that determines the learning rate at each iteration is called the learning rate schedule.\n",
    "- If the learning rate get reduced too quickly, you may get stuck at a local minimum, and if the learning rate get reduced very slowly it might not have any effect on stabalizing the algorithm over the global minimum and ie algorithm will continue to bounce back and fourth.\n",
    "- Before diving into the implementation, let's present the formulation of the new loss function & its gradient for Stochastic Gradient Descent:\n",
    "    - With SGD, we randomly select 1 point from $X$ at each step and feed it to the model, meaning:\n",
    "\n",
    "$$J(\\theta)=(x^{(i)}\\theta - y^{(i)})^{2} \\setminus x^{(i)} \\in \\Bbb{R}^{1 \\times n}, \\theta \\in \\Bbb{R}^{n \\times 1}, y^{(i)} \\in \\Bbb{R}^{1 \\times 1}$$\n",
    "$$\\nabla_{\\theta}J(\\theta)=2{x^{(i)}}^{T}(x^{(i)}\\theta - y^{(i)})$$\n",
    "\n",
    "- This code implements stochastic gradient descent using a simple learning schedule:"
   ]
  },
  {
   "cell_type": "code",
   "execution_count": 19,
   "metadata": {},
   "outputs": [],
   "source": [
    "def sgd_loss(X_i, y_i, theta):\n",
    "    \"\"\"Returns the Mean Squared Error for Stochastic gradient descent.\n",
    "    \n",
    "    # Arguments:\n",
    "        X_i, np.ndarray shape=(1,n): the intput training data row vector with `1` in the beginning.\n",
    "        y, np.ndarray shape=(1,1): the target of the training row.\n",
    "        theta, np.ndarray shape=(n,1): the parameters vector of the model.\n",
    "    \n",
    "    # Returns\n",
    "        MSE, float: Mean Squared Error between `X*theta` and `y`.\n",
    "    \"\"\"\n",
    "    X_theta = np.matmul(X_i, theta)\n",
    "    return (X_theta - y_i)**2\n",
    "def grad_sgd_loss(X_i, y_i, theta):\n",
    "    \"\"\"Returns Stochastic Gradient Descent's Mean Squared Error Gradient.\n",
    "    \n",
    "    # Arguments\n",
    "        X_i, np.ndarray shape=(1,n): the intput training data row vector with `1` in the beginning.\n",
    "        y, np.ndarray shape=(1,1): the target of the training row.\n",
    "        theta, np.ndarray shape=(n,1): the parameters vector of the model.\n",
    "    \n",
    "    # Results\n",
    "        grad_mse, np.ndarray: the gradient vector of the mean squared error function. \n",
    "    \"\"\"\n",
    "    X_theta = np.matmul(X_i, theta)\n",
    "    return 2. * X_i.T * (X_theta - y_i)\n",
    "def learning_rate_scheduler(lr, perc):\n",
    "    \"\"\"Returns annealed learning rate based on current one & reduction percentage\n",
    "    \n",
    "    # Arguments\n",
    "        lr: float, initial learning rate\n",
    "        perc: float \\in [0,1]: annealing percentage\n",
    "    \n",
    "    # Returns\n",
    "        next_lr: float, next learning rate to use\n",
    "    \"\"\"\n",
    "    return perc * lr"
   ]
  },
  {
   "cell_type": "code",
   "execution_count": 20,
   "metadata": {},
   "outputs": [
    {
     "data": {
      "text/plain": [
       "0.019540313997636814"
      ]
     },
     "execution_count": 20,
     "metadata": {},
     "output_type": "execute_result"
    }
   ],
   "source": [
    "theta = np.random.rand(2)\n",
    "lr, steps = 0.1, 100000\n",
    "\n",
    "for _ in range(steps):\n",
    "    random_idx = np.random.randint(low=0, high=X.shape[0])\n",
    "    lr = learning_rate_scheduler(lr, perc=0.99) \n",
    "    theta = theta - lr * grad_sgd_loss(X[random_idx], y[random_idx], theta)\n",
    "\n",
    "sgd_loss(X[random_idx], y[random_idx], theta)"
   ]
  },
  {
   "cell_type": "markdown",
   "metadata": {},
   "source": [
    "Let's check our parameters:"
   ]
  },
  {
   "cell_type": "code",
   "execution_count": 21,
   "metadata": {
    "scrolled": true
   },
   "outputs": [
    {
     "data": {
      "text/plain": [
       "array([0.25293437, 0.47939197])"
      ]
     },
     "execution_count": 21,
     "metadata": {},
     "output_type": "execute_result"
    }
   ],
   "source": [
    "theta"
   ]
  },
  {
   "cell_type": "markdown",
   "metadata": {},
   "source": [
    "Finally, let's check what our model learned:"
   ]
  },
  {
   "cell_type": "code",
   "execution_count": 22,
   "metadata": {
    "scrolled": true
   },
   "outputs": [
    {
     "data": {
      "image/png": "[encoded data removed]",
      "text/plain": [
       "<Figure size 432x288 with 1 Axes>"
      ]
     },
     "metadata": {
      "needs_background": "light"
     },
     "output_type": "display_data"
    }
   ],
   "source": [
    "plt.scatter(x=X[:,1], y=y)\n",
    "plt.plot([0,1], [theta[0] + theta[1]*0, theta[0] + theta[1]*1], color='red')\n",
    "plt.show()"
   ]
  },
  {
   "cell_type": "markdown",
   "metadata": {},
   "source": [
    "- We can see that breaking training based on local loss (between the current random point & its target) is not good\n",
    "    - Because we might have a very good local loss but the global loss is still far from minimized\n",
    "- We didn't support epochs & we're not guaranteeing looping over all training points.\n",
    "- Our learning rate decreaser is primitive.\n",
    "- We're not preserving dimensions as we consider $1 \\times 1$ as a $cte \\in R$. \n",
    "- Let's go over the book's solution:"
   ]
  },
  {
   "cell_type": "code",
   "execution_count": 23,
   "metadata": {},
   "outputs": [
    {
     "data": {
      "text/plain": [
       "array([[0.26986085],\n",
       "       [0.4493479 ]])"
      ]
     },
     "execution_count": 23,
     "metadata": {},
     "output_type": "execute_result"
    }
   ],
   "source": [
    "n_epochs = 50\n",
    "t0, t1 = 5, 50\n",
    "m = X.shape[0]\n",
    "\n",
    "def learning_schedule(t):\n",
    "    return t0 / (t + t1)\n",
    "theta = np.random.randn(2, 1)\n",
    "\n",
    "for epoch in range(n_epochs):\n",
    "    for i in range(m):\n",
    "        random_index = np.random.randint(m)\n",
    "        xi = X[random_index:random_index+1]\n",
    "        yi = y[random_index:random_index+1] \n",
    "        gradients = 2 * xi.T.dot(xi.dot(theta) - yi) \n",
    "        eta = learning_schedule(epoch * m + i)\n",
    "        theta = theta - eta * gradients\n",
    "theta"
   ]
  },
  {
   "cell_type": "code",
   "execution_count": 24,
   "metadata": {
    "scrolled": true
   },
   "outputs": [
    {
     "data": {
      "image/png": "[encoded data removed]",
      "text/plain": [
       "<Figure size 432x288 with 1 Axes>"
      ]
     },
     "metadata": {
      "needs_background": "light"
     },
     "output_type": "display_data"
    }
   ],
   "source": [
    "plt.scatter(x=X[:,1], y=y)\n",
    "plt.plot([0,1], [theta[0][0] + theta[1][0]*0, theta[0][0] + theta[1][0]*1], color='red')\n",
    "plt.show()"
   ]
  },
  {
   "cell_type": "markdown",
   "metadata": {},
   "source": [
    "- By convention we iterate by rounds of $m$ iterations, each round is called an **epoch**.\n",
    "- While the Batch Gradient Descent algorithm iterate for 1,000 times to converge, we only iterated for 50 times.\n",
    "- Notice that some rows may be picked several times, and others may not be picked at all.\n",
    "    - If you want to make sure you feed all instances per epoch, in the beginning of each epoch:\n",
    "        - Shuffle (X, y) jointly by index\n",
    "        - Loop over their rows row by row\n",
    "    - However, this method is known to **converge more slowly**\n",
    "- When using SGD, the rows must be independent and identically distributed\n",
    "    - Make sure you randomly shuffle the rows or pick each one at random\n",
    "    - If you don't do this, the algorithm might lean towards trends in the last couple of rows you fed it\n",
    "        - For example, if you sort by label value then feed.\n",
    "    - Stochastic sampling insures convergance towards the global minimum.\n",
    "- We can also do it the scikit-learn way:"
   ]
  },
  {
   "cell_type": "code",
   "execution_count": 26,
   "metadata": {},
   "outputs": [
    {
     "data": {
      "image/png": "[encoded data removed]",
      "text/plain": [
       "<Figure size 432x288 with 1 Axes>"
      ]
     },
     "metadata": {
      "needs_background": "light"
     },
     "output_type": "display_data"
    }
   ],
   "source": [
    "from sklearn.linear_model import SGDRegressor\n",
    "sgd_reg = SGDRegressor(max_iter=1000, tol=1e-3, penalty=None, eta0=0.1)\n",
    "sgd_reg.fit(X=X, y=y)\n",
    "sgd_reg.coef_\n",
    "\n",
    "plt.scatter(x=X[:,1], y=y)\n",
    "plt.plot([0,1], [sgd_reg.predict(X=[[1, 0]]), sgd_reg.predict(X=[[1, 1]])], color='red')\n",
    "plt.show()"
   ]
  },
  {
   "cell_type": "markdown",
   "metadata": {},
   "source": [
    "### Mini-Batch Gradient Descent\n",
    "\n",
    "- At each step, instead of computing the gradients on a single randomly picked instance (SGD) or the full training set (BGD), Mini-Batch gradient descent computes its gradients on randomly selected set of instances.\n",
    "    - the samples are called **Mini-Batches**\n",
    "- The main advantage of MBGD over SGD is the performance boost in matrix operations that you get especially from GPUs.\n",
    "- Intuitively, MBGD's parameter optimization process is less erratic than SGD because the fed sample is more representative than one randomly selected point.\n",
    "    - Especially for fairly big mini-batch sizes.\n",
    "\n",
    "<div style=\"text-align:center;\"><img style=\"width: 66%;\" src=\"static/imgs/algos_comparison.png\"></div>\n",
    "\n",
    "- The previous figure shows the path taken by BGD, SGD, MBGD.\n",
    "    - They all endup near the minimum\n",
    "    - Batch Gradient Descent actually stops at the minimum\n",
    "    - While both SGD & MBGD continue to walk around\n",
    "- Don't forget that batch gradient descent takes a long time to converge because we're computing the gradients over the whole training set at each step.\n",
    "- **SGD & MBGD will also converge to the minimum if you use a good learning rate schedule**"
   ]
  },
  {
   "cell_type": "markdown",
   "metadata": {},
   "source": [
    "## Polynomial Regression\n",
    "\n",
    "- What if your data is more complex than a straight line?\n",
    "- You can use a linear model to fit non-linear data.\n",
    "- A simple way to do this is to **add powers of each feature as new features then train a linear model on this set of features**.\n",
    "    - This technique is called polynomial regression\n",
    "- Let's look at an example, let's generate some nonlinear data, based on a simple quadratic equation + some noise:"
   ]
  },
  {
   "cell_type": "code",
   "execution_count": 27,
   "metadata": {},
   "outputs": [],
   "source": [
    "m = 100\n",
    "X = 6 * np.random.rand(m, 1) - 3\n",
    "y = 0.5 * X ** 2 + X + 2 + np.random.randn(m, 1)"
   ]
  },
  {
   "cell_type": "markdown",
   "metadata": {},
   "source": [
    "- Basically:\n",
    "\n",
    "$$y=\\frac{1}{2}x^{2} + x + 2 + N(\\mu, \\sigma)$$"
   ]
  },
  {
   "cell_type": "code",
   "execution_count": 28,
   "metadata": {},
   "outputs": [
    {
     "data": {
      "image/png": "[encoded data removed]",
      "text/plain": [
       "<Figure size 432x288 with 1 Axes>"
      ]
     },
     "metadata": {
      "needs_background": "light"
     },
     "output_type": "display_data"
    }
   ],
   "source": [
    "plt.scatter(X, y, color='blue')\n",
    "plt.xlabel('x1')\n",
    "plt.ylabel('y')\n",
    "plt.show()"
   ]
  },
  {
   "cell_type": "markdown",
   "metadata": {},
   "source": [
    "- Clearly a straight line will never fit this data properly.\n",
    "- As a solution, let's add $x^{2}$ as a new feature to $X$, then train a simple linear model:"
   ]
  },
  {
   "cell_type": "code",
   "execution_count": 47,
   "metadata": {},
   "outputs": [
    {
     "data": {
      "text/plain": [
       "array([[-2.52107745,  6.35583152],\n",
       "       [ 1.36888604,  1.873849  ],\n",
       "       [-1.62147268,  2.62917364]])"
      ]
     },
     "execution_count": 47,
     "metadata": {},
     "output_type": "execute_result"
    }
   ],
   "source": [
    "from sklearn.preprocessing import PolynomialFeatures\n",
    "poly_features = PolynomialFeatures(degree=2,\n",
    "                                  include_bias=False)\n",
    "X_poly = poly_features.fit_transform(X)\n",
    "X_poly[:3]"
   ]
  },
  {
   "cell_type": "code",
   "execution_count": 44,
   "metadata": {},
   "outputs": [
    {
     "data": {
      "text/plain": [
       "(array([1.88385035]), array([[1.05939652, 0.50845136]]))"
      ]
     },
     "execution_count": 44,
     "metadata": {},
     "output_type": "execute_result"
    }
   ],
   "source": [
    "lin_reg = LinearRegression()\n",
    "lin_reg.fit(X_poly, y)\n",
    "lin_reg.intercept_, lin_reg.coef_"
   ]
  },
  {
   "cell_type": "markdown",
   "metadata": {},
   "source": [
    "- Let's plot it:"
   ]
  },
  {
   "cell_type": "code",
   "execution_count": 48,
   "metadata": {},
   "outputs": [],
   "source": [
    "X_p = np.linspace(start=-3, stop=3, num=100).reshape(-1, 1)\n",
    "X__p = poly_features.transform(X_p)\n",
    "y_p = lin_reg.predict(X=X__p)"
   ]
  },
  {
   "cell_type": "code",
   "execution_count": 49,
   "metadata": {},
   "outputs": [
    {
     "data": {
      "image/png": "[encoded data removed]",
      "text/plain": [
       "<Figure size 432x288 with 1 Axes>"
      ]
     },
     "metadata": {
      "needs_background": "light"
     },
     "output_type": "display_data"
    }
   ],
   "source": [
    "plt.scatter(X, y, color='blue')\n",
    "plt.plot(X_p, y_p, color='red', label='predictions', linewidth=3)\n",
    "plt.xlabel('X')\n",
    "plt.ylabel('y')\n",
    "plt.legend(loc='upper left')\n",
    "plt.show()"
   ]
  },
  {
   "cell_type": "markdown",
   "metadata": {},
   "source": [
    "- Not bad, training results in the following hypothesis:\n",
    "\n",
    "$$y= (0.50463537) * x^{2} + (1.07951347) * x + 2 + 0.03834072$$\n",
    "\n",
    "- Which is very close to:\n",
    "\n",
    "$$y=\\frac{1}{2}x^{2} + x + 2 + N(\\mu, \\sigma)$$\n",
    "\n",
    "- When we have multiple features, polynomial linear regression is capable of finding relationships between features.\n",
    "    - Which is something a plain linear regression model cannot do.\n",
    "    - This is made possible by the fact that `PolynomialFeatures` adds all possible combinations of features up to a certain degree."
   ]
  },
  {
   "cell_type": "markdown",
   "metadata": {},
   "source": [
    "## Learning Curve\n",
    "\n",
    "- If you fit your training data with polynomial regression, you will likely fit it much better than with just `LinearRegression`\n",
    "- But beware that as you augment the degree of your polynomial regression hypothesis, you're giving it more predictive power:\n",
    "\n",
    "<div style=\"text-align:center;\"><img style=\"width: 66%;\" src=\"static/imgs/Power_degrees.png\"></div>\n",
    "\n",
    "- Notice how the 300degree polynomial model wiggles around to get as close as possible to all of the training data points.\n",
    "- Degree 1 — **Underfitting**\n",
    "- Degree 2 — **Fitting**\n",
    "- Degree 300 — **Overfitting**\n",
    "- Because we generated synthetic data using a qudratic function, we know that degree 2 is good.\n",
    "    - But in most cases, we won't know the function that generated the data!\n",
    "- The next logical questions is: \"How to know if our model is overfitting or underfitting?\"\n",
    "- The validation dataset is to the rescue:\n",
    "    - If our model performs good on the training data but badly on the validation data — **Overfitting**\n",
    "    - If our model performs badly on the training data & badly on the validation data — **Underfitting**\n",
    "    - If our model performs good on the training data & good on the validation data — **Fitting**\n",
    "- Another way to tell if you're overfitting/underfitting is to look at the learning curves.\n",
    "    - Curves that showcase performance over the training set versus validation set with varying training set sizes.\n",
    "    - To generate the plot, train the same model on different training set sizes:"
   ]
  },
  {
   "cell_type": "code",
   "execution_count": 50,
   "metadata": {},
   "outputs": [],
   "source": [
    "from sklearn.metrics import mean_squared_error\n",
    "from sklearn.model_selection import train_test_split"
   ]
  },
  {
   "cell_type": "code",
   "execution_count": 51,
   "metadata": {},
   "outputs": [],
   "source": [
    "def plot_learning_curve(model, X, y):\n",
    "    \"\"\"Plots model training/validation's MSE over different sizes of training sets.\n",
    "    \n",
    "    # Arguments\n",
    "        model: sklearn.*, a scikit-learn model to be trained/tested.\n",
    "        X: np.ndarray, the input dataset.\n",
    "        y: np.ndarray, the output dataset.\n",
    "    \"\"\"\n",
    "    X_train, X_test, y_train, y_test = train_test_split(X, y, test_size=.2)\n",
    "    train_errors, val_errors = list(), list()\n",
    "    for m in range(1, X_train.shape[0]):\n",
    "        model.fit(X_train[:m], y_train[:m])\n",
    "        y_train_predict = model.predict(X_train[:m])\n",
    "        y_val_predict = model.predict(X_test)\n",
    "        train_errors.append(mean_squared_error(y_train[:m], y_train_predict))\n",
    "        val_errors.append(mean_squared_error(y_test, y_val_predict))\n",
    "    plt.plot(np.sqrt(train_errors), 'r-+', linewidth=2, label='Training Loss')\n",
    "    plt.plot(np.sqrt(val_errors), 'b-', linewidth=3, label='Validation Loss')\n",
    "    plt.xlabel('Training set size')\n",
    "    plt.ylabel('RMSE')\n",
    "    plt.ylim([0, 3])\n",
    "    plt.legend(loc='upper right')\n",
    "    plt.show()"
   ]
  },
  {
   "cell_type": "markdown",
   "metadata": {},
   "source": [
    "- Let's look at the learning curves of a plain linear regression model:"
   ]
  },
  {
   "cell_type": "code",
   "execution_count": 52,
   "metadata": {},
   "outputs": [
    {
     "data": {
      "image/png": "[encoded data removed]",
      "text/plain": [
       "<Figure size 432x288 with 1 Axes>"
      ]
     },
     "metadata": {
      "needs_background": "light"
     },
     "output_type": "display_data"
    }
   ],
   "source": [
    "from sklearn.linear_model import LinearRegression\n",
    "lin_reg = LinearRegression()\n",
    "plot_learning_curve(lin_reg, X, y)"
   ]
  },
  {
   "cell_type": "markdown",
   "metadata": {},
   "source": [
    "- When there are 1 or 2 instances in the training set, the model can fit them perfectly.\n",
    "- But when we add more training data, it becomes impossible for the model to fit all of them perfectly.\n",
    "    - Both because the data is noisy and because the data isn't linear at all.\n",
    "- The training RMSE converges to a plateau and if we add more data, RMSE doesn't get effected as much.\n",
    "- On the other hand, when the model is trained on a few instances, it's not able to generalize well hence the bad losses for val.\n",
    "- Then as the model is shown more examples, it learns general patterns and the val error converges to the training error.\n",
    "- **These curves are typical for a model that is underfitting**\n",
    "    - Both curves have reached a plateau, they are close and very high.\n",
    "- If your model is underfitting the data, **adding more data points will not help**, you need to **add more features or use a more complex model**.\n",
    "- Let's fit and visualize the curves of a 10-degree polynomial model:"
   ]
  },
  {
   "cell_type": "code",
   "execution_count": 54,
   "metadata": {},
   "outputs": [
    {
     "data": {
      "image/png": "[encoded data removed]",
      "text/plain": [
       "<Figure size 432x288 with 1 Axes>"
      ]
     },
     "metadata": {
      "needs_background": "light"
     },
     "output_type": "display_data"
    }
   ],
   "source": [
    "from sklearn.pipeline import Pipeline\n",
    "polynomial_regression = Pipeline([\n",
    "    ('poly_features', PolynomialFeatures(degree=10, include_bias=False)),\n",
    "    ('lin_reg', LinearRegression())\n",
    "])\n",
    "plot_learning_curve(polynomial_regression, X, y)"
   ]
  },
  {
   "cell_type": "markdown",
   "metadata": {},
   "source": [
    "- These learning curves look very similar to the previous ones, but there are some key differences:\n",
    "    - The error on the training data is much lower than in the previous example.\n",
    "    - There is a **gap** between the curves, meaning the model performs much better on the training set than on the validation set.\n",
    "        - Which is the hallmark of an overfitting model.\n",
    "- One solution to overfitting **is to have more training data until the validation loss reaches the training loss**.\n",
    "- The Bias-Variance Tradeoff\n",
    "    - An important theoretical result of statistics and ML is that the generalizability error can be expressed as the sum of three very different erros:\n",
    "        - **Bias** — Has to do with wrong assumptions, like assuming the data is linear when It's actually quadratic.\n",
    "            - A high bias model is most likely to underfit the training data.\n",
    "        - **Variance** — Has to do with a model's excessive sensitivity to the training data\n",
    "            - A high variance model tends to overfit the training data.\n",
    "        - **Irreducible Error** — Due to the noisiness of the data itself.\n",
    "            - The only way to reduce this error is to fix the data.\n",
    "\n",
    "This is why It's called a trade-off:\n",
    "    - Increasing a model's complexity will typically increase its variance and decrease bias (with a less restricted model).\n",
    "    - Reducing the model's complexity will increase bias and decrease variance."
   ]
  },
  {
   "cell_type": "markdown",
   "metadata": {},
   "source": [
    "### Ridge Regression\n",
    "\n",
    "- It's a regularized version of linear regression: a regularized term $\\alpha \\sum_{i=0}^{n}\\theta_{i}^{2}$ is added to the cost function, meaning:\n",
    "\n",
    "$$J(\\theta)=\\frac{1}{m}(X\\theta-y)^{T}(X\\theta-y) + \\alpha \\frac{1}{2} \\theta_{\\neq 0}^{T} \\theta_{\\neq 0}$$\n",
    "$$\\nabla_{\\theta} J(\\theta)=\\frac{2}{m}X^{T}(X\\theta-y) + \\alpha \\begin{bmatrix}0 \\\\ \\theta_{\\neq 0}\\end{bmatrix}$$\n",
    "\n",
    "- This forced the model not only to fit the data but to try to keep the weights as small as possible.\n",
    "- The regularization term should only be used during training, once the model is trained, you'll want to use the unregularized loss for performance evaluation.\n",
    "- It's quite common for the loss function used during training not to be used during testing/evaluation.\n",
    "    - Good training cost function should have optimization-friendly derivatives\n",
    "    - While the performance measure used in testing should be as close as possible to the objective.\n",
    "        - Many of evaluators aren't differientiable.\n",
    "        - Ex. In classification we train using Log-Loss but we evaluate with Accuracy/Precision/Recall\n",
    "- The hyper-parameter $\\alpha$ is used to control how much you want to regularize the model\n",
    "- Note that the bias term is not regularized, because $\\theta_{0}$ doesn't contribute to the curvature of the model (It contributes to its *shift*).\n",
    "- Feature scaling is very important before performing Ridge Regression since it's sensitive to the values of each weight.\n",
    "- The following example shows several ridge models trained on some linear data using different $\\alpha$ values.\n",
    "    - Polynomial regression with Ridge regularization:\n",
    "\n",
    "<div style=\"text-align:center;\"><img style=\"width: 66%;\" src=\"static/imgs/ridge_examples.png\"></div>\n",
    "\n",
    "- As with Linear regression, we can perform ridge regression either by calculated a closed form formula or by using gradient descent.\n",
    "    - The pros and cons are the same.\n",
    "- Following is the closed form solution, where $A$ is the $(n+1) \\times (n+1)$ Identity matrix, except with a zero on the top left cell that corresponds to the bias term:\n",
    "\n",
    "$$\\hat{\\theta}=(X^{T}X + \\alpha A)^{-1}X^{T}y$$\n",
    "\n",
    "- Let's do closed form Ridge regression using scikit-learn:"
   ]
  },
  {
   "cell_type": "code",
   "execution_count": 56,
   "metadata": {},
   "outputs": [
    {
     "data": {
      "text/plain": [
       "array([[4.64972187]])"
      ]
     },
     "execution_count": 56,
     "metadata": {},
     "output_type": "execute_result"
    }
   ],
   "source": [
    "from sklearn.linear_model import Ridge\n",
    "ridge_red = Ridge(alpha=1, solver='cholesky')\n",
    "ridge_red.fit(X, y)\n",
    "ridge_red.predict([[1.5]])"
   ]
  },
  {
   "cell_type": "markdown",
   "metadata": {},
   "source": [
    "- Let's compare it with Gradient Descent:"
   ]
  },
  {
   "cell_type": "code",
   "execution_count": 57,
   "metadata": {},
   "outputs": [
    {
     "data": {
      "text/plain": [
       "array([4.61809389])"
      ]
     },
     "execution_count": 57,
     "metadata": {},
     "output_type": "execute_result"
    }
   ],
   "source": [
    "sgd_reg = SGDRegressor(penalty='l2')\n",
    "sgd_reg.fit(X, y.ravel())\n",
    "sgd_reg.predict([[1.5]])"
   ]
  },
  {
   "cell_type": "markdown",
   "metadata": {},
   "source": [
    "### Lasso Regression\n",
    "\n",
    "- Least Absolute Shrinkage simply adds the $l_{1}$ to the loss function as follows:\n",
    "\n",
    "$$J(\\theta)=\\frac{1}{m}(X\\theta-y)^{T}(X\\theta-y) + \\alpha \\sum_{i=1}^{n}|\\theta_{i}|$$\n",
    "$$\\nabla_{\\theta} J(\\theta)=\\frac{2}{m}X^{T}(X\\theta-y) + \\alpha \\begin{bmatrix}0 \\\\ sign(\\theta_{1}) \\\\ \\vdots \\\\ sign(\\theta_{n-1}) \\end{bmatrix}$$\n",
    "$$\n",
    "sign(\\theta_{i}) =\n",
    "\\begin{cases}\n",
    "-1,  & \\text{if $\\theta<0$} \\\\\n",
    "0, & \\text{if $\\theta=0$} \\\\ \n",
    "1, & \\text{if $\\theta_{i}>0$}\n",
    "\\end{cases}\n",
    "$$\n",
    "\n",
    "- The following is an example of showcasing multiple $\\alpha$s effect but using Lasso instead of Ridge regression:\n",
    "\n",
    "<div style=\"text-align:center;\"><img style=\"width: 66%;\" src=\"static/imgs/lasso_examples.png\"></div>\n",
    "\n",
    "- An important characteristic of lasso regression is that it tends to eliminate the weights of least important features.\n",
    "- **Lasso regression automatically performs feature selection & you can also get feature importance**.\n",
    "- The following showcases Lasso vs. Ridge Losses & Global Losses:\n",
    "\n",
    "<div style=\"text-align:center;\"><img style=\"width: 66%;\" src=\"static/imgs/lasso_vs_ridge.png\"></div>\n",
    "\n",
    "- Notes\n",
    "    - Left figures represent Lasso/Ridge terms space\n",
    "    - Right figures represent Global losses space\n",
    "    - To avoid GD from bouncing around while using Lasso regression, decrease the learning rate while training.\n",
    "    - The lasso cost function is not differentiable at $\\theta_{i}=0$ but gradient descent still works fine by using a subgradient vector $g$.\n",
    "- Let's train a model using Lasso regression:"
   ]
  },
  {
   "cell_type": "code",
   "execution_count": 58,
   "metadata": {},
   "outputs": [
    {
     "data": {
      "text/plain": [
       "array([4.05719673])"
      ]
     },
     "execution_count": 58,
     "metadata": {},
     "output_type": "execute_result"
    }
   ],
   "source": [
    "from sklearn.linear_model import Lasso\n",
    "lasso_reg = Lasso(alpha=1)\n",
    "lasso_reg.fit(X, y)\n",
    "lasso_reg.predict([[1.5]])"
   ]
  },
  {
   "cell_type": "markdown",
   "metadata": {},
   "source": [
    "### ElasticNet\n",
    "\n",
    "- Represents a middle ground between Lasso & Ridge Regression.\n",
    "- You can control the mix ratio $r$:\n",
    "    - When $r=0$ you'll have ridge regression.\n",
    "    - When $r=1$ you'll have lasso regression.\n",
    "\n",
    "$$J(\\theta)=\\frac{1}{m}(X\\theta-y)^{T}(X\\theta-y) + r\\alpha \\sum_{i=1}^{n-1}|\\theta_{i}| + \\frac{(1-r)}{2}\\alpha \\sum_{i=1}^{n-1}\\theta_{i}^{2}$$\n",
    "\n",
    "- The question now is when to use only Linear Regression, Ridge ($l_2$) regression, Lasso ($l_1$) Regression, or ElasticNet regression?\n",
    "- It's almost always preferrable to have some kind of regularization, avoid plain linear regression.\n",
    "- **Ridge Regression is a good default.**\n",
    "- If you suspect the existance of useless features, try Lasso or ElasticNet regression.\n",
    "- Elastic Net is generally preferred over Lasso because Lasso may behave erratically when $n>m$ or when many features are strongly correlated.\n",
    "- Let's try out Elastic Net:"
   ]
  },
  {
   "cell_type": "code",
   "execution_count": 60,
   "metadata": {},
   "outputs": [
    {
     "data": {
      "text/plain": [
       "array([4.16671358])"
      ]
     },
     "execution_count": 60,
     "metadata": {},
     "output_type": "execute_result"
    }
   ],
   "source": [
    "from sklearn.linear_model import ElasticNet\n",
    "elastic_reg = ElasticNet(alpha=1, l1_ratio=0.5)\n",
    "elastic_reg.fit(X,y)\n",
    "elastic_reg.predict([[1.5]])"
   ]
  },
  {
   "cell_type": "markdown",
   "metadata": {},
   "source": [
    "### Early Stopping\n",
    "\n",
    "- **Just stop training as soon as the validation error reaches a minimum**.\n",
    "- It's such a simple and effecient regularization technique that Geoffrey Hinton called it a \"Beautiful Free Lunch\".\n",
    "\n",
    "<div style=\"text-align:center;\"><img style=\"width: 50%;\" src=\"static/imgs/early_stopping.png\"></div>\n",
    "\n",
    "- With SGD and MBGD, the curves aren't so smooth, so you may not be sure if you reached minimum validation loss or not.\n",
    "    - A possible solution is to add in a `patience` hyperparameter that only stops training after $N$ steps of no improvement.\n",
    "- Let's implement early stopping:"
   ]
  },
  {
   "cell_type": "code",
   "execution_count": 66,
   "metadata": {},
   "outputs": [],
   "source": [
    "from sklearn.base import clone\n",
    "from sklearn.preprocessing import StandardScaler\n",
    "from sklearn.model_selection import train_test_split\n",
    "\n",
    "X_train, X_val, y_train, y_val = train_test_split(X, y, test_size=0.3)\n",
    "poly_scaler = Pipeline([\n",
    "    (\"poly_features\", PolynomialFeatures(degree=90, include_bias=False)),\n",
    "    (\"std_scaler\", StandardScaler())\n",
    "])\n",
    "X_train_poly_scaled = poly_scaler.fit_transform(X_train)\n",
    "X_val_poly_scaled = poly_scaler.transform(X_val)"
   ]
  },
  {
   "cell_type": "code",
   "execution_count": 67,
   "metadata": {},
   "outputs": [],
   "source": [
    "sgd_reg = SGDRegressor(\n",
    "    max_iter=1,\n",
    "    tol=-np.infty,\n",
    "    warm_start=True,  # continue training instead of restarting from scratch\n",
    "    penalty=None,\n",
    "    learning_rate='constant',\n",
    "    eta0=0.0005\n",
    ")\n",
    "minimum_val_error = float(\"inf\")\n",
    "best_epoch, best_model = None, None\n",
    "\n",
    "for epoch in range(1000):\n",
    "    sgd_reg.fit(X_train_poly_scaled, y_train.ravel())  # continue where it left off\n",
    "    y_val_predict = sgd_reg.predict(X_val_poly_scaled)\n",
    "    val_error = mean_squared_error(y_val, y_val_predict)\n",
    "    if val_error < minimum_val_error:\n",
    "        minimum_val_error = val_error\n",
    "        best_epoch = epoch"
   ]
  },
  {
   "cell_type": "code",
   "execution_count": 69,
   "metadata": {},
   "outputs": [
    {
     "name": "stdout",
     "output_type": "stream",
     "text": [
      "48\n"
     ]
    }
   ],
   "source": [
    "print(best_epoch)"
   ]
  },
  {
   "cell_type": "markdown",
   "metadata": {},
   "source": [
    "## Logistic Regression\n",
    "\n",
    "- Commonly used to estimate the probability that an instance belongs to a certain class."
   ]
  },
  {
   "cell_type": "markdown",
   "metadata": {},
   "source": [
    "### Estimating Probabilities\n",
    "\n",
    "- Just like linear regression, a Logistic regression model computes a weighted sum of the features + a bias term.\n",
    "- But instead of outputting the result directly, it computes the logistic of it.\n",
    "- Let input $X \\in \\Bbb{R}^{m \\times n}$ and parameters $\\theta \\in \\Bbb{R}^{n \\times 1}$:\n",
    "\n",
    "$$\\hat{p}=h_{\\theta}(X)=\\sigma(X\\theta) \\space ; \\sigma(t)=\\frac{1}{1+e^{-t}}$$\n",
    "\n",
    "- The logistic, denoted $\\sigma(.)$ is a sigmoid function, that outputs a number between 0 and 1:"
   ]
  },
  {
   "cell_type": "code",
   "execution_count": 70,
   "metadata": {},
   "outputs": [],
   "source": [
    "sigma_x = np.linspace(start=-10., stop=10., num=100)\n",
    "def sigmoid(x):\n",
    "    \"\"\"calculates the output of the sigmoid function.\n",
    "    \n",
    "    # Arguments\n",
    "        x: np.ndarray, the input to the sigmoid function\n",
    "    \n",
    "    # Returns\n",
    "        y: np.ndarray, the output from the sigmoid function\n",
    "    \"\"\"\n",
    "    return 1/(1 + np.exp(-x))\n",
    "sigma_y = sigmoid(sigma_x)"
   ]
  },
  {
   "cell_type": "code",
   "execution_count": 71,
   "metadata": {},
   "outputs": [
    {
     "data": {
      "image/png": "[encoded data removed]",
      "text/plain": [
       "<Figure size 432x288 with 1 Axes>"
      ]
     },
     "metadata": {
      "needs_background": "light"
     },
     "output_type": "display_data"
    }
   ],
   "source": [
    "plt.plot(sigma_x, sigma_y, color='blue', label=r'$\\sigma(t)=\\frac{1}{1 + e^{-t}}$')\n",
    "plt.plot([-10, 10], [1/2, 1/2], '--', color='black')\n",
    "plt.plot([-10, 10], [1, 1], '--', color='black')\n",
    "plt.plot([-10, 10], [0, 0], '--', color='black')\n",
    "plt.xlabel('t')\n",
    "plt.legend(loc='upper left', fontsize=15)\n",
    "plt.title('Logistic function')\n",
    "plt.show()"
   ]
  },
  {
   "cell_type": "markdown",
   "metadata": {},
   "source": [
    "- Once the logistic regression function has estimated the probability $\\hat{p}$ that the instance belongs to the positive class, a prediction can be extracted:\n",
    "\n",
    "$$\\hat{y}=\\begin{cases}1, & \\text{if $\\hat{p} \\ge 0.5$} \\\\ 0, & \\text{if $\\hat{p} < 0.5$}\\end{cases}$$"
   ]
  },
  {
   "cell_type": "markdown",
   "metadata": {},
   "source": [
    "### Training and Cost Function\n",
    "\n",
    "- Now you know how a logistic regression model estimates probabilities and makes predictions. but how is it trained?\n",
    "- The objective of training is to set parameters $\\theta$ for $h_{\\theta}$ to predict high probabilities for positive instances and low probabilities for negative instances.\n",
    "- We can capture this idea by presenting the following cost function:\n",
    "\n",
    "$$J(\\theta)=-\\frac{1}{m}\\sum_{i=1}^{m}[y^{(i)}log(\\hat{p}^{(i)}) + (1-y^{(i)})log(1-\\hat{p}^{(i)})]$$\n",
    "$$J(\\theta)=-\\frac{1}{m}\\sum_{i=1}^{m}c^{(i)}(\\theta) \\space; c^{(i)}(\\theta)=\\begin{cases}log(\\hat{p}^{(i)}) & if y^{(i)}=1 \\\\ log(1-\\hat{p}^{(i)}) & if y^{(i)}=0\\end{cases}$$\n",
    "\n",
    "- This function makes sense because:\n",
    "    - $-log(t)$ grows very large ($\\to +\\infty$) when $t \\to 0$\n",
    "        - A high cost for a positive instance labeled as negative.\n",
    "    - Also $-log(1-t)$ grows very large when $t \\to 1$\n",
    "        - A high cost for a negative instance labeled as positive.\n",
    "    - On the other hand, $-log(t)$ is close to $0$ when $t \\to 1$\n",
    "        - A low cost for a positive instance labeled as positive.\n",
    "    - & $-log(1-t)$ is close to $0$ when $t \\to 0$\n",
    "        - A low cost for a negative instance labeled as negative.\n",
    "- **The Bad News is that there is no known closed form equation to calculate $\\hat{\\theta}$ that minimizes $J(\\theta)$**.\n",
    "- **The Good News is that this cost function is Convex**\n",
    "- The partial derivative of $J(\\theta)$ with regards to $\\theta_{j}$ is:\n",
    "\n",
    "$$\\frac{\\partial{J}}{\\partial{\\theta_{j}}}(\\theta)=\\frac{1}{m}\\sum_{i=1}^{m}(\\sigma(\\theta^{T}x^{(i)})-y^{(i)})x_{j}^{(i)}$$\n",
    "\n",
    "- This equation looks very similar to the gradient of Mean Squared Error."
   ]
  },
  {
   "cell_type": "markdown",
   "metadata": {},
   "source": [
    "### Decision Boundaries\n",
    "\n",
    "- Let's use the Iris dataset to illustrate Logistic Regression.\n",
    "- Let's build a classifier to detect the **Iris virginica** types based only on the **petal width** feature:"
   ]
  },
  {
   "cell_type": "code",
   "execution_count": 73,
   "metadata": {},
   "outputs": [
    {
     "data": {
      "text/plain": [
       "['sepal length (cm)',\n",
       " 'sepal width (cm)',\n",
       " 'petal length (cm)',\n",
       " 'petal width (cm)']"
      ]
     },
     "execution_count": 73,
     "metadata": {},
     "output_type": "execute_result"
    }
   ],
   "source": [
    "from sklearn import datasets\n",
    "iris = datasets.load_iris()\n",
    "list(iris.keys())\n",
    "iris.data.shape\n",
    "iris.feature_names"
   ]
  },
  {
   "cell_type": "code",
   "execution_count": 75,
   "metadata": {},
   "outputs": [
    {
     "data": {
      "text/plain": [
       "((150, 1), (150,))"
      ]
     },
     "execution_count": 75,
     "metadata": {},
     "output_type": "execute_result"
    }
   ],
   "source": [
    "X = iris.data[:, 3:]  # Petal Width\n",
    "y = (iris.target == 2).astype(np.int)  # 1 if iris verginica, else 0\n",
    "X.shape, y.shape"
   ]
  },
  {
   "cell_type": "markdown",
   "metadata": {},
   "source": [
    "- Let's train a logistic regression model:"
   ]
  },
  {
   "cell_type": "code",
   "execution_count": 77,
   "metadata": {},
   "outputs": [],
   "source": [
    "from sklearn.linear_model import LogisticRegression\n",
    "log_reg = LogisticRegression(solver='liblinear')\n",
    "log_reg.fit(X, y)\n",
    "X_new = np.linspace(0, 3, 1000).reshape(-1, 1)\n",
    "y_proba = log_reg.predict_proba(X_new)"
   ]
  },
  {
   "cell_type": "code",
   "execution_count": 78,
   "metadata": {
    "scrolled": true
   },
   "outputs": [
    {
     "data": {
      "image/png": "[encoded data removed]",
      "text/plain": [
       "<Figure size 432x288 with 1 Axes>"
      ]
     },
     "metadata": {
      "needs_background": "light"
     },
     "output_type": "display_data"
    }
   ],
   "source": [
    "plt.plot(X_new, y_proba[:, 1], 'g-', label='Iris Virginica')\n",
    "plt.plot(X_new, y_proba[:, 0], 'b--', label='Not Iris Virginica')\n",
    "plt.plot([1.61, 1.61], [0, 1], '--', color='black')\n",
    "plt.xlabel('Petal Width (cm)')\n",
    "plt.ylabel('Probability')\n",
    "plt.title('Estimated Probability & Decision Boundary')\n",
    "plt.xlim((0., 3.))\n",
    "plt.ylim((0., 1.))\n",
    "plt.legend(loc='center left', fontsize=10)\n",
    "plt.show()"
   ]
  },
  {
   "cell_type": "markdown",
   "metadata": {},
   "source": [
    "- The decision boundary is at about 1.6 centemeter.\n",
    "- The `.predict()` method doesn't care about its confidance, it just outputs a binary indicator based on conditions (ex. if: $predicted\\_proba > 0.5$):"
   ]
  },
  {
   "cell_type": "code",
   "execution_count": 80,
   "metadata": {},
   "outputs": [
    {
     "data": {
      "text/plain": [
       "array([1, 0])"
      ]
     },
     "execution_count": 80,
     "metadata": {},
     "output_type": "execute_result"
    }
   ],
   "source": [
    "log_reg.predict([[1.7], [1.5]])"
   ]
  },
  {
   "cell_type": "markdown",
   "metadata": {},
   "source": [
    "<div style=\"text-align:center;\"><img style=\"width: 50%;\" src=\"static/imgs/2d_decision_boundary.png\"></div>\n",
    "\n",
    "- This figure shows the same decision boundary but for two features: petal length and petal width.\n",
    "- The colored lines showcase boundaries associated with the confidance probabilities of the trained logistic regressor.\n",
    "- Just like other linear regressors, You can add $l1$ and $l2$ penalties to the loss function, scikit-learn does that for us by default."
   ]
  },
  {
   "cell_type": "markdown",
   "metadata": {},
   "source": [
    "### Softmax Regression\n",
    "\n",
    "- The logistic regression model can be generalized to support multi-class classification, without the need to combine multiple binary classifiers.\n",
    "- The idea is simple, once given an instance vector, the model first outputs a score for each of the classes, then applies the softmax function to map the scores to a general probability distribution.\n",
    "- The equation to compute $s_k(x)$ should look familiar, for a single vector $x \\in \\Bbb{R}^{n \\times 1}$:\n",
    "\n",
    "$$s_{k}(x)=x^{T}\\theta^{(k)}$$\n",
    "\n",
    "- Note that **each class has its own parameters vector $\\theta^{(k)}$**.\n",
    "    - All these vectors are typically stored as rows in a parameter matrix $\\Theta$.\n",
    "- Once we calculate the scores, we use the softmax function to map them to a normalized distribution:\n",
    "\n",
    "$$\\hat{p}_{k}=\\sigma(s(x))_{k}=\\frac{e^{s_{k}(x)}}{\\sum_{j=1}^{K}e^{s_{j}(x)}}$$\n",
    "\n",
    "- $K$ is the number of classes.\n",
    "- $s(x)$ the vector containing the score of each class for an instance $x$.\n",
    "- $\\sigma(s(x))_{k}$ is the estimated probability that $x$ belongs to class $k$.\n",
    "- Softmax Regression predicts the class with the highest probability, meaning the class that got the biggest score:\n",
    "\n",
    "$$\\hat{y}=argmax_{k} \\sigma(s(x))_{k}=argmax_{k}s_{k}(x)=argmax_{k}({\\theta^{(k)}}^{T}x)$$\n",
    "\n",
    "- The $argmax$ operator returns the value of $k$ that maximizes the function.\n",
    "- Note — Use Softmax Regression to with mutually execlusive classes, when you want one class as an output, don't use it for multi-output classification.\n",
    "- The loss function for Softmax Regression generalizes Logistic Regression Loss:\n",
    "\n",
    "$$J(\\Theta)=-\\frac{1}{m}\\sum_{i=1}^{m}\\sum_{k=1}^{K}y_{k}^{(i)}log(\\hat{p}_{k}^{(i)})$$\n",
    "\n",
    "- $y_{k}^{(i)}$ is the binary target that indicates if a point $x^{(i)}$ belongs to class $k$.\n",
    "- Notice that if $K=2$ the cost function is equivalent to the logistic regression's cost function.\n",
    "- Notes on Cross Entropy\n",
    "    - Cross Entropy originated from Information theory.\n",
    "    - Suppose you want to transmit information about the weather everyday\n",
    "        - If there are 8 options (sunny, rainy, ..)\n",
    "            - You can encode each option using 3 bits, because $2^{3}=8$.\n",
    "        - However, If you think it'll be sunny almost everyday, it's much more efficient to encode sunny as one $0$\n",
    "            - & the other 7 conditions on 4 bits starting with 1.\n",
    "        - Cross Entropy actually measures the average number of bits you send per option.\n",
    "        - If you assumption about the weather is correct, the cross entropy will be equal to the entropy in weather itself.\n",
    "        - If your assumption is wrong, the cross entropy will be greater by an amount called the *Kullback-Leibler (KL) Divergence*.\n",
    "    - The cross entropy between two probability distributions *p* and *q* is defined as\n",
    "\n",
    "$$H(p,q)=-\\sum{x}p(x)log(q(x))$$\n",
    "\n",
    "- The gradient vector of the cost function $J(\\Theta)$ with regards to $\\theta^{(k)}$ is:\n",
    "\n",
    "$$\\nabla_{\\theta^{(k)}}J(\\Theta)=\\frac{1}{m}\\sum_{i=1}^{m}(\\hat{p}^{(i)}_{k}-y^{(i)}_{k})x^{(i)}$$\n",
    "\n",
    "- Let's use Softmax Regression to classify the flowers into their distinct 3 classes:"
   ]
  },
  {
   "cell_type": "code",
   "execution_count": 81,
   "metadata": {},
   "outputs": [],
   "source": [
    "X = iris['data'][:, (2,3)]  # Petal Length & Width\n",
    "X.shape\n",
    "y = iris['target']"
   ]
  },
  {
   "cell_type": "code",
   "execution_count": 83,
   "metadata": {},
   "outputs": [
    {
     "name": "stdout",
     "output_type": "stream",
     "text": [
      "[2]\n"
     ]
    },
    {
     "data": {
      "text/plain": [
       "array([[ 0,  5, 94]])"
      ]
     },
     "execution_count": 83,
     "metadata": {},
     "output_type": "execute_result"
    }
   ],
   "source": [
    "softmax_reg = LogisticRegression(multi_class='multinomial', solver='lbfgs', C=10)\n",
    "softmax_reg.fit(X, y)\n",
    "print(softmax_reg.predict([[5,2]]))\n",
    "(softmax_reg.predict_proba([[5,2]])*100).astype(int)"
   ]
  }
 ],
 "metadata": {
  "kernelspec": {
   "display_name": "Python 3",
   "language": "python",
   "name": "python3"
  },
  "language_info": {
   "codemirror_mode": {
    "name": "ipython",
    "version": 3
   },
   "file_extension": ".py",
   "mimetype": "text/x-python",
   "name": "python",
   "nbconvert_exporter": "python",
   "pygments_lexer": "ipython3",
   "version": "3.7.0"
  }
 },
 "nbformat": 4,
 "nbformat_minor": 2
}
