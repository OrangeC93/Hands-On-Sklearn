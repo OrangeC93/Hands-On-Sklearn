{
 "cells": [
  {
   "cell_type": "markdown",
   "metadata": {},
   "source": [
    "# Chapter 6. Decision Trees\n",
    "> These are the classic, and most intuitive structures in machine learning. Where thresholds are developed on features, and these lead to further decision points on subsequent features, leading to a classification. These can be loosely used for regression too! One of the great benefits is a simple explanation of the algorithm's conclusions."
   ]
  },
  {
   "cell_type": "markdown",
   "metadata": {},
   "source": [
    "- In this Chapter, we will start by discussing how to train, validate, and make predictions with decision trees.\n",
    "- Then we will go through the CART training algorithm used by Scikit-Learn, we will discuss how to regularize trees and use them in regression tasks.\n",
    "- Finally, we will discuss some of the limitations of decision trees.\n",
    "\n",
    "## Training & Visualizing a Decision Tree\n",
    "\n",
    "- To understand decision trees, let's start by building one and taking a look at its predictions."
   ]
  },
  {
   "cell_type": "code",
   "execution_count": 3,
   "metadata": {},
   "outputs": [],
   "source": [
    "from sklearn.datasets import load_iris\n",
    "from sklearn.tree import DecisionTreeClassifier"
   ]
  },
  {
   "cell_type": "code",
   "execution_count": 4,
   "metadata": {},
   "outputs": [
    {
     "data": {
      "text/plain": [
       "DecisionTreeClassifier(class_weight=None, criterion='gini', max_depth=2,\n",
       "                       max_features=None, max_leaf_nodes=None,\n",
       "                       min_impurity_decrease=0.0, min_impurity_split=None,\n",
       "                       min_samples_leaf=1, min_samples_split=2,\n",
       "                       min_weight_fraction_leaf=0.0, presort=False,\n",
       "                       random_state=None, splitter='best')"
      ]
     },
     "execution_count": 4,
     "metadata": {},
     "output_type": "execute_result"
    }
   ],
   "source": [
    "iris = load_iris()\n",
    "X = iris.data[:,2:]\n",
    "y = iris.target\n",
    "X.shape, y.shape\n",
    "\n",
    "tree_clf = DecisionTreeClassifier(max_depth=2)\n",
    "tree_clf.fit(X,y)"
   ]
  },
  {
   "cell_type": "markdown",
   "metadata": {},
   "source": [
    "- You can visualize the decision tree by using the `export_graphiz()` method to export a graph representation file then taking a look at it:"
   ]
  },
  {
   "cell_type": "code",
   "execution_count": 11,
   "metadata": {},
   "outputs": [],
   "source": [
    "from sklearn.tree import export_graphviz\n",
    "export_graphviz(tree_clf, \n",
    "                out_file='iris_tree.dot', \n",
    "                feature_names=iris.feature_names[2:],\n",
    "                class_names=iris.target_names,\n",
    "                rounded=True,\n",
    "                filled=True)"
   ]
  },
  {
   "cell_type": "code",
   "execution_count": 12,
   "metadata": {},
   "outputs": [
    {
     "name": "stdout",
     "output_type": "stream",
     "text": [
      "/bin/sh: dot: command not found\r\n"
     ]
    }
   ],
   "source": [
    "! dot -Tpng models/06/iris_tree.dot -o static/imgs/iris_tree.png"
   ]
  },
  {
   "cell_type": "markdown",
   "metadata": {},
   "source": [
    "## Making Predictions\n",
    "\n",
    "- To classify a new data point, you start at the root node of the graph (on the top), and you answer the binary questions and you reach the end leaf.\n",
    "    - That end leaf represents your class.\n",
    "        - It's really that simple!\n",
    "- One of the many qualities of decision trees is that they require very little data preparation.\n",
    "    - **In fact, they don't require feature scaling or centering at all!**\n",
    "- A node's `samples` attribute counts how many training instances are sitting on the node.\n",
    "- A node's `value` attribute tells you have many instances of each class are setting on the node.\n",
    "- A node's `gini` attribute measures the nodes impurity (pure == 0)\n",
    "    - The following equation shows how the training algorithm computes the gini scores of the ith node:\n",
    "\n",
    "        $$G_i=1-\\sum_{k=1}^n{p_{i,k}}^2$$\n",
    "\n",
    "    - Where $p_{i,k}$ is the ratio of class $k$ instances among the training instances in that particular node.\n",
    "        - In our case: $k \\in \\{1,2,3\\}$.\n",
    "- Scikit-learn uses the CART algorithm, which produces only binary trees\n",
    "    - Non-leaf nodes only have two children\n",
    "- However, other algorithms such as ID3 can produce decision trees with nodes that have more than 2 children.\n",
    "- The following figure shows the decision boundaries of our decision tree\n",
    "    - Decision Trees tend to create lines/rectangles/boxes/.. and split the feature space linearly but iteratively.\n",
    " \n",
    "<div style=\"text-align:center\"><img style=\"width:50%\" src=\"static/imgs/decision_tree_boundaries.png\"></div>\n",
    "\n",
    "- Decision Trees are intuitive, and their predictions are easily interpretable.\n",
    "    - These types of models are called **white box** models.\n",
    "- In contrast, as we will see, Random Forests and Neural Networks are generally considered Black Box models."
   ]
  },
  {
   "cell_type": "markdown",
   "metadata": {},
   "source": [
    "## Estimating Class Probabilities\n",
    "\n",
    "- A decision tree can also estimate the probability that a certain instance belongs to a certain class.\n",
    "    - It just returns the ratio of that class over the sum of all instances in the leaf.\n",
    "- Let's check this in scikit-learn:"
   ]
  },
  {
   "cell_type": "code",
   "execution_count": 13,
   "metadata": {},
   "outputs": [
    {
     "data": {
      "text/plain": [
       "array([1])"
      ]
     },
     "execution_count": 13,
     "metadata": {},
     "output_type": "execute_result"
    }
   ],
   "source": [
    "tree_clf.predict_proba([[5, 1.5]])\n",
    "tree_clf.predict([[5, 1.5]])"
   ]
  },
  {
   "cell_type": "markdown",
   "metadata": {},
   "source": [
    "- Interesting insight: you'll get the same probability as long as you're in a certain leaf box\n",
    "    - It doesn't matter if your new data point gets closer to the decision boundaries."
   ]
  },
  {
   "cell_type": "markdown",
   "metadata": {},
   "source": [
    "## The CART Training Algorithm\n",
    "\n",
    "- Scikit-Learn uses the Classification and Regression Tree (CART) algorithm to train decision trees (also called \"growing\" trees).\n",
    "- The algorithm works by first splitting the training set by feature $k$ and threshold $t_k$.\n",
    "- How does it choose $k$ and $t_k$?\n",
    "    - It searches for $(k,t_k)$ that produce the purest subsets.\n",
    "        - Weighted by their size.\n",
    "- The following gives the loss function that CART tries to minimize:\n",
    "\n",
    "$$J(k,t_k)=\\frac{m_{left}}{m}G_{left} + \\frac{m_{right}}{m}G_{right}$$\n",
    "\n",
    "- Where:\n",
    "    - $G_{left/right}$ measures the resulted impurity in the left/right subsets.\n",
    "    - $m_{left/right}$ correspond to the number of instances in the left/right subsets.\n",
    "- Once the CART algorithm successfully split the initial training data into two subsets, it does the same thing to both subsets.\n",
    "- It stops recursing once it reaches the maximum allowed tree depth (the `max_depth` hyper-parameter).\n",
    "    - Or if it cannot find a split that reduces impurity.\n",
    "- A few other hyper-parameters control stopping like:\n",
    "    - `min_samples_split`, `min_samples_leaf`, `min_weight_fraction_leaf`, `max_leaf_nodes`.\n",
    "- The CART algorithm is greedy in the sense that it doesn't care if its current split will lead to an optimal downstream leaf.\n",
    "    - It only cares about finding the best possible split at the current leaf.\n",
    "    - In that sense, it doesn't necessarily result in an optimal solution.\n",
    "- Unfortunately, finding the optimal tree is known to be an **NP-Complete** problem with a complexity of $O(exp(m))$."
   ]
  },
  {
   "cell_type": "markdown",
   "metadata": {},
   "source": [
    "## Computational Complexity\n",
    "\n",
    "- Making a prediction requires us to go from the root the final leaf.\n",
    "- Decision trees are approximately balanced, so traversing the decision tree require going through roughly $O(log_{2}(m))$.\n",
    "- Since each node requires check the value of only one feature, the overall inference running time is $O(log_{2}(m))$.\n",
    "    - Independent of the number of features.\n",
    "        - So predictions are really fast, even when dealing with a large number of features.\n",
    "- The training algorithm compares all features (except if `max_features` is set) on all samples at each node.\n",
    "- Comparing all features at all samples at each node results in a training complexity of $O(n \\times mlog_2(m))$.\n",
    "    - For small training sets (less than a few thousands), scikit-learn can speed up training by presorting the data."
   ]
  },
  {
   "cell_type": "markdown",
   "metadata": {},
   "source": [
    "## Gini Impurity or Entropy?\n",
    "\n",
    "- In information theory, entropy is zero when all messages are identical.\n",
    "- In ML, entropy is often used as an impurity measure.\n",
    "- A set's entropy is zero when **it contains instances of only one class**.\n",
    "- The following formula shows the entropy at node $i$:\n",
    "\n",
    "$$H_i=-\\sum_{k=1}^{n}p_{i,k}log_2(p_{i,k})$$\n",
    "\n",
    "- There's no big difference between using Gini or Entropy to measure impurity.\n",
    "    - Gini impurity is slightly faster to compute.\n",
    "    - When they differ, Entropy tends to produce more balanced trees."
   ]
  },
  {
   "cell_type": "markdown",
   "metadata": {},
   "source": [
    "## Regularization Hyperparameters\n",
    "\n",
    "- **Decision Trees make very few assumptions about the training data**.\n",
    "- If left unconstrained and because of its flexibility, a decision tree will adapt itself to perfectly fit the training data.\n",
    "    - Naturally leading to overfitting.\n",
    "- Such a model is often called a *non-parameteric model* because the number of parameters is not determined before training.\n",
    "- You can at least restrict the maximum depth of the decision tree.\n",
    "- Other regularization hyper-parameters include:\n",
    "    - `min_samples_split`: The minimum number of samples a node must have for it to split.\n",
    "    - `min_samples_leaf`: The minimum number of samples a leaf must have.\n",
    "    - `min_weight_fraction_leaf`: `mean_samples_leaf` as a fraction.\n",
    "    - `max_leaf_nodes`: the maximum number of leaf nodes.\n",
    "    - `max_features`: The maximum number of features that are evaluated for any split.\n",
    "- The following figure shows two decision trees trained on the same moon dataset, the left one represent an unconstrained trained decision tree, and the right one is regularized using the `min_samples_leaf` hyper-parameter:\n",
    "\n",
    "<div style=\"text-align:center\"><img style=\"width:50%\" src=\"static/imgs/regularized_tree.png\"></div>\n",
    "\n",
    "```\n",
    "For instance, if min_samples_split = 5, and there are 7 samples at an internal node, then the split is allowed. But let's say the split results in two leaves, one with 1 sample, and another with 6 samples. If min_samples_leaf = 2, then the split won't be allowed (even if the internal node has 7 samples) because one of the leaves resulted will have less then the minimum number of samples required to be at a leaf node.\n",
    "```"
   ]
  },
  {
   "cell_type": "markdown",
   "metadata": {},
   "source": [
    "## Regression\n",
    "\n",
    "- Decision Trees are also capable of performing regression tasks.\n",
    "- Let's try it using scikit-learn:\n",
    "- First we want to generate a noisy quadratic dataset:"
   ]
  },
  {
   "cell_type": "code",
   "execution_count": 14,
   "metadata": {},
   "outputs": [],
   "source": [
    "import numpy as np\n",
    "from sklearn.tree import DecisionTreeRegressor\n",
    "import matplotlib.pyplot as plt"
   ]
  },
  {
   "cell_type": "code",
   "execution_count": 15,
   "metadata": {},
   "outputs": [
    {
     "data": {
      "text/plain": [
       "<matplotlib.collections.PathCollection at 0x1251d4518>"
      ]
     },
     "execution_count": 15,
     "metadata": {},
     "output_type": "execute_result"
    },
    {
     "data": {
      "image/png": "[encoded data removed]",
      "text/plain": [
       "<Figure size 432x288 with 1 Axes>"
      ]
     },
     "metadata": {
      "needs_background": "light"
     },
     "output_type": "display_data"
    }
   ],
   "source": [
    "X = np.linspace(start=0, stop=1, num=500)\n",
    "y = (X-0.5)**2 + np.random.randn(500)/50.\n",
    "\n",
    "plt.scatter(X, y, s=1.5, c='red')"
   ]
  },
  {
   "cell_type": "code",
   "execution_count": 16,
   "metadata": {},
   "outputs": [
    {
     "data": {
      "text/plain": [
       "DecisionTreeRegressor(criterion='mse', max_depth=2, max_features=None,\n",
       "                      max_leaf_nodes=None, min_impurity_decrease=0.0,\n",
       "                      min_impurity_split=None, min_samples_leaf=1,\n",
       "                      min_samples_split=2, min_weight_fraction_leaf=0.0,\n",
       "                      presort=False, random_state=None, splitter='best')"
      ]
     },
     "execution_count": 16,
     "metadata": {},
     "output_type": "execute_result"
    }
   ],
   "source": [
    "tree_reg = DecisionTreeRegressor(max_depth=2)\n",
    "tree_reg.fit(X[..., None], y[..., None])"
   ]
  },
  {
   "cell_type": "code",
   "execution_count": 18,
   "metadata": {},
   "outputs": [],
   "source": [
    "export_graphviz(tree_reg, \n",
    "                out_file='reg_tree.dot', \n",
    "                feature_names=['X'],\n",
    "                class_names=['y'],\n",
    "                rounded=True,\n",
    "                filled=True)"
   ]
  },
  {
   "cell_type": "markdown",
   "metadata": {},
   "source": [
    "<div style=\"text-align:center\"><img style=\"width:50%\" src=\"static/imgs/reg_tree.png\"></div>\n",
    "\n",
    "- This tree looks very similar to the classification tree we built earlier.\n",
    "- The main difference is that instead of predicting a class for each node, it predicts a value.\n",
    "- the prediction represents the average target value for the group in the leaf.\n",
    "- As you increase the `max_depth` hyper-parameter, you provide the regression tree with more flexibility, the following showcases tree predictions in red:\n",
    "\n",
    "<div style=\"text-align:center\"><img style=\"width:66%\" src=\"static/imgs/regression_trees.png\"></div>\n",
    "\n",
    "- The CART algorithm works almost the same as before, but instead of searching for a split that minimizes impurity, it searches for a split that produce balanced samples per leaf and minimize $MSE$.\n",
    "- We show the cost function that the algorithm tries to minimize:\n",
    "\n",
    "$$J(k,t_k)=\\frac{m_{left}}{m}MSE_{left} + \\frac{m_{right}}{m}MSE_{right} \\\\ MSE=\\frac{1}{m}\\sum_{i=1}^{m}(\\hat{y}_{i}-y_{i})^{2}$$\n",
    "\n",
    "- Just like classification, regression trees are prone to overfitting the training data, without any regularization, we endup with the plot on the left, and setting `min_samples_leaf=10` produce a much reasonable model:\n",
    "\n",
    "<div style=\"text-align:center\"><img style=\"width:66%\" src=\"static/imgs/regularizing_trees.png\"></div>"
   ]
  },
  {
   "cell_type": "markdown",
   "metadata": {},
   "source": [
    "## Instability\n",
    "\n",
    "- Decision Trees have a few limitations:\n",
    "    - Decision Trees love orthogonal decision boundaries.\n",
    "        - Which makes them sensitive to training set rotation.\n",
    "            - One way to limit this problem is to use PCA (Principal Component Analysis) which often results in a better orientation of the training data.\n",
    "    - Decision Trees are sensitive to small variations in the training data.\n",
    "        - In fact, because scikit-learn uses stochastic optimization, you might get different models for the same training dataset.\n",
    "            - Random Forests can solve this problem by averaging incoming prediction from many decision trees.\n",
    "---"
   ]
  }
 ],
 "metadata": {
  "kernelspec": {
   "display_name": "Python 3",
   "language": "python",
   "name": "python3"
  },
  "language_info": {
   "codemirror_mode": {
    "name": "ipython",
    "version": 3
   },
   "file_extension": ".py",
   "mimetype": "text/x-python",
   "name": "python",
   "nbconvert_exporter": "python",
   "pygments_lexer": "ipython3",
   "version": "3.7.0"
  }
 },
 "nbformat": 4,
 "nbformat_minor": 2
}
